{
 "cells": [
  {
   "cell_type": "markdown",
   "id": "ce7feefc-15c6-4236-bc25-33ffa487c815",
   "metadata": {},
   "source": [
    "# Train uBERTa\n",
    "\n",
    "Here, we'll use train the `distilBERT` model on the sequences from the prepared base dataset."
   ]
  },
  {
   "cell_type": "markdown",
   "id": "0540ffd6-8182-4fc3-848a-ac8a8f2e32c1",
   "metadata": {
    "jp-MarkdownHeadingCollapsed": true,
    "tags": []
   },
   "source": [
    "## Prerequisites\n",
    "\n",
    "This notebook requires:\n",
    "- [DS_BASE](https://drive.google.com/file/d/15fQP5ldYNvV1YY2T2Qza9CNFdYj4zZg8/view?usp=sharing) (`../data/DS_BASE_4.7_seqs.tsv`)\n",
    "- [dataset_labeling](https://drive.google.com/file/d/1-R1zLJRrJg3KXAaqDe9T60s9MXdrv4RO/view?usp=sharing) (`../data/dataset_labeling_v4.7.tsv`)\n",
    "\n",
    "One can either download or obtain the requirements manually via running `prepare_base_dataset_v4.7.ipynb`.\n",
    "\n",
    "For instance, to download the data, starting from the project's root:\n",
    "```bash\n",
    "gdown --fuzzy https://drive.google.com/file/d/15fQP5ldYNvV1YY2T2Qza9CNFdYj4zZg8/view?usp=sharing\n",
    "gdown --fuzzy https://drive.google.com/file/d/1-R1zLJRrJg3KXAaqDe9T60s9MXdrv4RO/view?usp=sharing\n",
    "tar -xzf DS_BASE_4.7_seqs.tsv.tar.gz\n",
    "tar -xzf dataset_labeling_4.7.tsv.tar.gz\n",
    "```"
   ]
  },
  {
   "cell_type": "markdown",
   "id": "e3dce13b-9f9a-4b72-aa1e-8a15c0afc01d",
   "metadata": {},
   "source": [
    "## Setup"
   ]
  },
  {
   "cell_type": "code",
   "execution_count": null,
   "id": "6c762b75-6ad5-45ed-a788-81c9ff207960",
   "metadata": {
    "tags": []
   },
   "outputs": [],
   "source": [
    "import logging\n",
    "from collections import Counter\n",
    "from pathlib import Path\n",
    "\n",
    "import pandas as pd\n",
    "import pytorch_lightning as pl\n",
    "import torch\n",
    "from sklearn.utils.class_weight import compute_class_weight\n",
    "from transformers import DistilBertConfig, get_linear_schedule_with_warmup\n",
    "\n",
    "from uBERTa.base import VALID_START\n",
    "from uBERTa.loader import uBERTaLoader\n",
    "from uBERTa.model import uBERTa_classifier, WeightedDistilBertClassifier2\n",
    "from uBERTa.tokenizer import DNATokenizer\n",
    "from uBERTa.utils import split_values"
   ]
  },
  {
   "cell_type": "code",
   "execution_count": null,
   "id": "e32dd6af-0b41-4d53-9865-1ebe5a0bf730",
   "metadata": {},
   "outputs": [],
   "source": [
    "def load_existing(paths):\n",
    "    loader = (\n",
    "        lambda p: None if not p.exists() else \n",
    "        (pd.read_hdf(p) if p.suffix == '.h5' else torch.load(p))\n",
    "    )\n",
    "    return {k: loader(v) for k, v in paths.items()}\n",
    "\n",
    "def parse_base(path_base, path_labels, min_seq_size, max_seq_size):\n",
    "    df = pd.read_csv(path_base, sep='\\t')\n",
    "    df['SeqSize'] = df['Seq'].apply(len)\n",
    "    print(f'Initial ds: {len(df)}')\n",
    "    df = df.merge(pd.read_csv(path_labels, sep='\\t'), on='GeneID')\n",
    "    print(f'Labeled genes: {len(df)}')\n",
    "    df = df[(df.SeqSize >= min_seq_size) & (df.SeqSize <= max_seq_size)]\n",
    "    print(f'Conforming to size threshold: {len(df)}')\n",
    "    split_values(df, 'SeqEnum')\n",
    "    split_values(df, 'Classes')\n",
    "    split_values(df, 'Signal', dtype=float)\n",
    "    return df\n",
    "\n",
    "def calc_scheduler_steps(loader, warmup_perc=0.1, max_epochs=100):\n",
    "    epoch_steps = len(loader.train_dataloader())\n",
    "    total_steps = epoch_steps * max_epochs\n",
    "    warmup_steps = int(warmup_perc * total_steps)\n",
    "    return warmup_steps, total_steps"
   ]
  },
  {
   "cell_type": "code",
   "execution_count": null,
   "id": "36982b1b-edd3-480f-be22-98c35157a249",
   "metadata": {},
   "outputs": [],
   "source": [
    "KMER = 3\n",
    "MIN_SEQ_SIZE = 30\n",
    "MAX_SEQ_SIZE = 3000\n",
    "WINDOW = 100\n",
    "STEP = WINDOW // 5\n",
    "MAX_EPOCHS = 300\n",
    "\n",
    "# Valid start codons\n",
    "# STARTS = ('ACG', 'ATC', 'ATG', 'ATT', 'CTG', 'GTG')\n",
    "STARTS = VALID_START\n",
    "# Name of the dataset\n",
    "DS = f'ws{WINDOW}_step{STEP}_{\"_\".join(STARTS)}'\n",
    "# Name of the model\n",
    "MODEL = f'{DS}_nopretrain_tokenlevel_signal'\n",
    "\n",
    "MODEL_PATH = Path(f'../models/{MODEL}')\n",
    "# PRETRAINED_PATH = Path('../models/ws100_step50_pretrain/')\n",
    "PATH_BASE_DS = Path('../data/DS_BASE_v4.7_seqs.tsv')\n",
    "PATH_LABELS = Path('../data/dataset_labeling_v4.7.tsv')\n",
    "\n",
    "datasets_base = Path(f'../data/datasets/{DS}')\n",
    "datasets_base.mkdir(exist_ok=True, parents=True)\n",
    "\n",
    "DATASETS = {\n",
    "    'train_ds': datasets_base / 'train_ds.h5',\n",
    "    'val_ds': datasets_base / 'val_ds.h5',\n",
    "    'test_ds': datasets_base / 'test_ds.h5',\n",
    "    'train_tds': datasets_base / 'train_tds.bin',\n",
    "    'val_tds': datasets_base / 'val_tds.bin',\n",
    "    'test_tds': datasets_base / 'test_tds.bin'\n",
    "}"
   ]
  },
  {
   "cell_type": "code",
   "execution_count": 4,
   "id": "e135b9d3-ea93-4eeb-9bb8-99ade2eef209",
   "metadata": {},
   "outputs": [],
   "source": [
    "logging.basicConfig(level=logging.DEBUG)"
   ]
  },
  {
   "cell_type": "markdown",
   "id": "be3318ae-ba4f-4ded-9b66-dc44067d3635",
   "metadata": {},
   "source": [
    "## Prepare datasets\n",
    "Preparing datasets is time-consuming. The code below will check if the required datasets are present in `datasets_base`: if not (e.g., first time running the notebook), the process will start from the base dataset. The data preparation is fully encapsulated into the `setup` method of `uBERTaLoader`. Basically, this will kmerize sequence data, compose token labels, aggregate the ribo-seq signal for each token, and use the sliding window on sequences to unify the input size."
   ]
  },
  {
   "cell_type": "code",
   "execution_count": 5,
   "id": "1e5a09d7-7297-438a-8639-47bc0ce7c1b1",
   "metadata": {},
   "outputs": [],
   "source": [
    "ds_paths = (DATASETS['train_ds'], DATASETS['val_ds'], DATASETS['test_ds'])\n",
    "if any(not p.exists() for p in ds_paths):\n",
    "    ds = parse_base(PATH_BASE_DS, PATH_LABELS, MIN_SEQ_SIZE, MAX_SEQ_SIZE)\n",
    "else:\n",
    "    ds = None"
   ]
  },
  {
   "cell_type": "code",
   "execution_count": 6,
   "id": "be0d81c9-8cba-4fdf-b2e1-8f798baea1a5",
   "metadata": {},
   "outputs": [],
   "source": [
    "tokenizer = DNATokenizer(kmer=KMER)\n",
    "loader = uBERTaLoader(\n",
    "    ds, WINDOW, STEP, tokenizer, \n",
    "    **load_existing(DATASETS),\n",
    "    scale_signal_bounds=(0.0, 10.0),\n",
    "    is_mlm_task=False,\n",
    "    valid_start_codons=STARTS,\n",
    "    batch_size=2 ** 10)"
   ]
  },
  {
   "cell_type": "code",
   "execution_count": 7,
   "id": "aead4527-b657-49bc-8a91-ef2da82242ee",
   "metadata": {},
   "outputs": [
    {
     "name": "stderr",
     "output_type": "stream",
     "text": [
      "DEBUG:uBERTa.loader:Skipping existing train_ds.h5\n",
      "DEBUG:uBERTa.loader:Skipping existing val_ds.h5\n",
      "DEBUG:uBERTa.loader:Skipping existing test_ds.h5\n",
      "DEBUG:uBERTa.loader:Skipping existing train_tds.bin\n",
      "DEBUG:uBERTa.loader:Skipping existing val_tds.bin\n",
      "DEBUG:uBERTa.loader:Skipping existing test_tds.bin\n"
     ]
    }
   ],
   "source": [
    "loader.setup()\n",
    "loader.save_all(datasets_base)"
   ]
  },
  {
   "cell_type": "markdown",
   "id": "490d1c13-6314-45d7-b047-05419adef7a3",
   "metadata": {},
   "source": [
    "Below we'll count unmasked tokens (defined by `STARTS` above) and count positive and negative classes. The `weight` can then be used with `uBERTa_classifier`, although it doesn't lead to performance gains and will likely require manually adjusting the threshold for converting the predictions into binary labels for the desired balance between recall and precision."
   ]
  },
  {
   "cell_type": "code",
   "execution_count": 8,
   "id": "23c2d379-bf94-4ae8-a9c3-a9b890f3ed15",
   "metadata": {},
   "outputs": [
    {
     "name": "stdout",
     "output_type": "stream",
     "text": [
      "Counter({44: 43728, 20: 35838, 8: 28844, 60: 28225, 28: 24327, 10: 17956, 12: 16524, 11: 15357, 9: 11097, 16: 9913}) [ 0.51478792 17.40569155] tensor(225150) tensor(6659)\n",
      "Counter({44: 39064, 20: 31430, 8: 26533, 60: 26436, 28: 19350, 10: 15097, 12: 13986, 11: 12423, 9: 9165, 16: 9058}) [ 0.51525867 16.88412804] tensor(196544) tensor(5998)\n",
      "Counter({44: 377307, 20: 320077, 8: 247527, 60: 241475, 28: 200640, 10: 153610, 11: 132370, 12: 131539, 16: 92178, 9: 86258}) [ 0.51405832 18.28306288] tensor(1928751) tensor(54230)\n"
     ]
    }
   ],
   "source": [
    "for tds in [loader.val_tds, loader.test_tds, loader.train_tds]:\n",
    "    classes, inp_ids = tds.tensors[2], tds.tensors[0]\n",
    "    mask = classes != -100\n",
    "    mask0 = classes == 0\n",
    "    mask1 = classes == 1\n",
    "    weight = compute_class_weight('balanced', classes=[0, 1], y=classes[mask].numpy())\n",
    "    codons = inp_ids[mask]\n",
    "    print(Counter(codons.numpy()), weight, mask0.sum(), mask1.sum())\n",
    "\n",
    "weight = (1, 5)"
   ]
  },
  {
   "cell_type": "code",
   "execution_count": 9,
   "id": "d158dc16-a799-4d8c-bda9-9ec25918f46c",
   "metadata": {},
   "outputs": [
    {
     "data": {
      "text/plain": [
       "([16582, 14755, 145119], 176456)"
      ]
     },
     "execution_count": 9,
     "metadata": {},
     "output_type": "execute_result"
    }
   ],
   "source": [
    "sizes = list(map(len, [loader.val_tds, loader.test_tds, loader.train_tds]))\n",
    "sizes, sum(sizes)"
   ]
  },
  {
   "cell_type": "markdown",
   "id": "fcfaf217-57d9-4a50-be40-a0b01778bf85",
   "metadata": {},
   "source": [
    "## Setup model"
   ]
  },
  {
   "cell_type": "code",
   "execution_count": 10,
   "id": "b2d051b0-150b-446c-b618-4401f18ef015",
   "metadata": {},
   "outputs": [
    {
     "data": {
      "text/plain": [
       "(426, 42600)"
      ]
     },
     "execution_count": 10,
     "metadata": {},
     "output_type": "execute_result"
    }
   ],
   "source": [
    "warmup_steps, total_steps = calc_scheduler_steps(\n",
    "    loader, warmup_perc=0.01, max_epochs=MAX_EPOCHS)\n",
    "warmup_steps, total_steps"
   ]
  },
  {
   "cell_type": "markdown",
   "id": "cad446ed-af4f-43b5-9468-15341f0e9648",
   "metadata": {},
   "source": [
    "We'll use the config of the pretrained model and add one field so that the model uses the experimental signal internally."
   ]
  },
  {
   "cell_type": "code",
   "execution_count": 11,
   "id": "4c65c5e0",
   "metadata": {
    "collapsed": false,
    "jupyter": {
     "outputs_hidden": false
    }
   },
   "outputs": [
    {
     "data": {
      "text/plain": [
       "DistilBertConfig {\n",
       "  \"activation\": \"gelu\",\n",
       "  \"attention_dropout\": 0.1,\n",
       "  \"dim\": 36,\n",
       "  \"dropout\": 0.1,\n",
       "  \"hidden_dim\": 256,\n",
       "  \"initializer_range\": 0.02,\n",
       "  \"max_position_embeddings\": 512,\n",
       "  \"model_type\": \"distilbert\",\n",
       "  \"n_heads\": 3,\n",
       "  \"n_layers\": 3,\n",
       "  \"pad_token_id\": 0,\n",
       "  \"qa_dropout\": 0.1,\n",
       "  \"seq_classif_dropout\": 0.2,\n",
       "  \"sinusoidal_pos_embds\": false,\n",
       "  \"transformers_version\": \"4.16.2\",\n",
       "  \"use_signal\": true,\n",
       "  \"vocab_size\": 69\n",
       "}"
      ]
     },
     "execution_count": 11,
     "metadata": {},
     "output_type": "execute_result"
    }
   ],
   "source": [
    "config = DistilBertConfig(\n",
    "    dim=36, hidden_dim=256, n_heads=3, n_layers=3\n",
    ")\n",
    "config.vocab_size = tokenizer.vocab_size\n",
    "config.use_signal = True\n",
    "config"
   ]
  },
  {
   "cell_type": "code",
   "execution_count": 12,
   "id": "5cef1578-33be-43ba-b583-e74223d66bd6",
   "metadata": {},
   "outputs": [],
   "source": [
    "# config = DistilBertConfig.from_pretrained(PRETRAINED_PATH)\n",
    "# config.use_signal = True"
   ]
  },
  {
   "cell_type": "markdown",
   "id": "e1e8b9e0-537d-40e6-acb0-90a2e6122d57",
   "metadata": {},
   "source": [
    "Note: manually providing the `device` argument is needed only if using `weight`. It will also restrict the model to the provided device, and using distributed training may cause an exception. I couldn't (yet) find a way to use `weight` with distributed training."
   ]
  },
  {
   "cell_type": "code",
   "execution_count": 13,
   "id": "d974e878-7ba6-4b2a-81de-246b756f5b28",
   "metadata": {},
   "outputs": [
    {
     "data": {
      "text/plain": [
       "  | Name  | Type                          | Params\n",
       "--------------------------------------------------------\n",
       "0 | model | WeightedDistilBertClassifier2 | 96.1 K\n",
       "--------------------------------------------------------\n",
       "96.1 K    Trainable params\n",
       "0         Non-trainable params\n",
       "96.1 K    Total params\n",
       "0.385     Total estimated model params size (MB)"
      ]
     },
     "execution_count": 13,
     "metadata": {},
     "output_type": "execute_result"
    }
   ],
   "source": [
    "model = uBERTa_classifier(\n",
    "    model=WeightedDistilBertClassifier2,\n",
    "    config=config,\n",
    "    opt_kwargs={'lr': 1e-5, 'weight_decay': 0.1, 'eps': 1e-8},\n",
    "    scheduler=get_linear_schedule_with_warmup,\n",
    "    scheduler_kwargs={'num_warmup_steps': warmup_steps, 'num_training_steps': total_steps},\n",
    "    weight=weight, device='cuda:1'\n",
    ")\n",
    "pl.utilities.model_summary.summarize(model)\n",
    "# model.summarize()\n",
    "# It's a bit nested, most certainly unnecessarily\n",
    "# model.model.bert = model.model.bert.from_pretrained(PRETRAINED_PATH)\n",
    "# model.model.config.use_signal = True"
   ]
  },
  {
   "cell_type": "markdown",
   "id": "71bee71b-9063-4627-afda-c9c19bca8f20",
   "metadata": {},
   "source": [
    "## Train the model"
   ]
  },
  {
   "cell_type": "code",
   "execution_count": 14,
   "id": "4c8fecc7-93b4-4881-a28a-2577501f2c6d",
   "metadata": {},
   "outputs": [],
   "source": [
    "stopper = pl.callbacks.early_stopping.EarlyStopping(\n",
    "    monitor='val_loss', \n",
    "    verbose=True, mode='min', \n",
    "    min_delta=1e-6,\n",
    "    patience=20)\n",
    "pointer = pl.callbacks.ModelCheckpoint(\n",
    "    monitor='val_loss', \n",
    "    dirpath=f'../models/checkpoints/{MODEL}', \n",
    "    verbose=True, mode='min')\n",
    "logger = pl.loggers.TensorBoardLogger('../logs', f'{MODEL}')\n",
    "lr_monitor = pl.callbacks.LearningRateMonitor('epoch')\n",
    "bar = pl.callbacks.TQDMProgressBar()"
   ]
  },
  {
   "cell_type": "code",
   "execution_count": 15,
   "id": "b4fa478e-ede3-40a0-8431-4ff3c0632856",
   "metadata": {},
   "outputs": [
    {
     "name": "stderr",
     "output_type": "stream",
     "text": [
      "Using 16bit native Automatic Mixed Precision (AMP)\n",
      "/home/ivan/miniconda3/envs/uberta/lib/python3.8/site-packages/pytorch_lightning/trainer/connectors/callback_connector.py:58: LightningDeprecationWarning: Setting `Trainer(stochastic_weight_avg=True)` is deprecated in v1.5 and will be removed in v1.7. Please pass `pytorch_lightning.callbacks.stochastic_weight_avg.StochasticWeightAveraging` directly to the Trainer's `callbacks` argument instead.\n",
      "  rank_zero_deprecation(\n",
      "GPU available: True, used: True\n",
      "TPU available: False, using: 0 TPU cores\n",
      "IPU available: False, using: 0 IPUs\n"
     ]
    }
   ],
   "source": [
    "gpus = [0]\n",
    "trainer = pl.Trainer(\n",
    "    gradient_clip_val=1.0,\n",
    "    stochastic_weight_avg=True,\n",
    "    accelerator=\"gpu\",\n",
    "    precision=16,\n",
    "    gpus=gpus,\n",
    "    callbacks=[stopper, pointer, bar, lr_monitor],\n",
    "    logger=logger,\n",
    "    max_epochs=MAX_EPOCHS\n",
    ")"
   ]
  },
  {
   "cell_type": "code",
   "execution_count": 16,
   "id": "27f29384-de38-4c59-ad73-b17d24e98b26",
   "metadata": {
    "pycharm": {
     "is_executing": true
    },
    "tags": []
   },
   "outputs": [
    {
     "name": "stderr",
     "output_type": "stream",
     "text": [
      "/home/ivan/miniconda3/envs/uberta/lib/python3.8/site-packages/pytorch_lightning/core/datamodule.py:469: LightningDeprecationWarning: DataModule.setup has already been called, so it will not be called again. In v1.6 this behavior will change to always call DataModule.setup.\n",
      "  rank_zero_deprecation(\n",
      "LOCAL_RANK: 0 - CUDA_VISIBLE_DEVICES: [0,1]\n",
      "\n",
      "  | Name  | Type                          | Params\n",
      "--------------------------------------------------------\n",
      "0 | model | WeightedDistilBertClassifier2 | 96.1 K\n",
      "--------------------------------------------------------\n",
      "96.1 K    Trainable params\n",
      "0         Non-trainable params\n",
      "96.1 K    Total params\n",
      "0.192     Total estimated model params size (MB)\n",
      "/home/ivan/miniconda3/envs/uberta/lib/python3.8/site-packages/pytorch_lightning/callbacks/model_checkpoint.py:631: UserWarning: Checkpoint directory /home/ivan/code/uBERTa/models/checkpoints/ws100_step20_AAG_ACG_AGG_ATA_ATC_ATG_ATT_CTG_GTG_TTG_nopretrain_tokenlevel_signal exists and is not empty.\n",
      "  rank_zero_warn(f\"Checkpoint directory {dirpath} exists and is not empty.\")\n"
     ]
    },
    {
     "data": {
      "application/vnd.jupyter.widget-view+json": {
       "model_id": "",
       "version_major": 2,
       "version_minor": 0
      },
      "text/plain": [
       "Validation sanity check: 0it [00:00, ?it/s]"
      ]
     },
     "metadata": {},
     "output_type": "display_data"
    },
    {
     "name": "stderr",
     "output_type": "stream",
     "text": [
      "/home/ivan/miniconda3/envs/uberta/lib/python3.8/site-packages/deprecate/deprecation.py:115: FutureWarning: The `f1` was deprecated since v0.7 in favor of `torchmetrics.functional.classification.f_beta.f1_score`. It will be removed in v0.8.\n",
      "  stream(template_mgs % msg_args)\n"
     ]
    },
    {
     "data": {
      "application/vnd.jupyter.widget-view+json": {
       "model_id": "e0af7d7d16894cc3b48f9cf05118e395",
       "version_major": 2,
       "version_minor": 0
      },
      "text/plain": [
       "Training: 0it [00:00, ?it/s]"
      ]
     },
     "metadata": {},
     "output_type": "display_data"
    },
    {
     "name": "stderr",
     "output_type": "stream",
     "text": [
      "/home/ivan/miniconda3/envs/uberta/lib/python3.8/site-packages/pytorch_lightning/loops/optimization/closure.py:35: LightningDeprecationWarning: One of the returned values {'logits', 'outputs'} has a `grad_fn`. We will detach it automatically but this behaviour will change in v1.6. Please detach it manually: `return {'loss': ..., 'something': something.detach()}`\n",
      "  rank_zero_deprecation(\n"
     ]
    },
    {
     "data": {
      "application/vnd.jupyter.widget-view+json": {
       "model_id": "",
       "version_major": 2,
       "version_minor": 0
      },
      "text/plain": [
       "Validating: 0it [00:00, ?it/s]"
      ]
     },
     "metadata": {},
     "output_type": "display_data"
    },
    {
     "name": "stderr",
     "output_type": "stream",
     "text": [
      "Metric val_loss improved. New best score: 0.675\n",
      "Epoch 0, global step 141: val_loss reached 0.67517 (best 0.67517), saving model to \"/home/ivan/code/uBERTa/models/checkpoints/ws100_step20_AAG_ACG_AGG_ATA_ATC_ATG_ATT_CTG_GTG_TTG_nopretrain_tokenlevel_signal/epoch=0-step=141.ckpt\" as top 1\n"
     ]
    },
    {
     "data": {
      "application/vnd.jupyter.widget-view+json": {
       "model_id": "",
       "version_major": 2,
       "version_minor": 0
      },
      "text/plain": [
       "Validating: 0it [00:00, ?it/s]"
      ]
     },
     "metadata": {},
     "output_type": "display_data"
    },
    {
     "name": "stderr",
     "output_type": "stream",
     "text": [
      "Metric val_loss improved by 0.034 >= min_delta = 1e-06. New best score: 0.641\n",
      "Epoch 1, global step 283: val_loss reached 0.64148 (best 0.64148), saving model to \"/home/ivan/code/uBERTa/models/checkpoints/ws100_step20_AAG_ACG_AGG_ATA_ATC_ATG_ATT_CTG_GTG_TTG_nopretrain_tokenlevel_signal/epoch=1-step=283.ckpt\" as top 1\n"
     ]
    },
    {
     "data": {
      "application/vnd.jupyter.widget-view+json": {
       "model_id": "",
       "version_major": 2,
       "version_minor": 0
      },
      "text/plain": [
       "Validating: 0it [00:00, ?it/s]"
      ]
     },
     "metadata": {},
     "output_type": "display_data"
    },
    {
     "name": "stderr",
     "output_type": "stream",
     "text": [
      "Metric val_loss improved by 0.071 >= min_delta = 1e-06. New best score: 0.570\n",
      "Epoch 2, global step 425: val_loss reached 0.57040 (best 0.57040), saving model to \"/home/ivan/code/uBERTa/models/checkpoints/ws100_step20_AAG_ACG_AGG_ATA_ATC_ATG_ATT_CTG_GTG_TTG_nopretrain_tokenlevel_signal/epoch=2-step=425.ckpt\" as top 1\n"
     ]
    },
    {
     "data": {
      "application/vnd.jupyter.widget-view+json": {
       "model_id": "",
       "version_major": 2,
       "version_minor": 0
      },
      "text/plain": [
       "Validating: 0it [00:00, ?it/s]"
      ]
     },
     "metadata": {},
     "output_type": "display_data"
    },
    {
     "name": "stderr",
     "output_type": "stream",
     "text": [
      "Metric val_loss improved by 0.107 >= min_delta = 1e-06. New best score: 0.464\n",
      "Epoch 3, global step 567: val_loss reached 0.46352 (best 0.46352), saving model to \"/home/ivan/code/uBERTa/models/checkpoints/ws100_step20_AAG_ACG_AGG_ATA_ATC_ATG_ATT_CTG_GTG_TTG_nopretrain_tokenlevel_signal/epoch=3-step=567.ckpt\" as top 1\n"
     ]
    },
    {
     "data": {
      "application/vnd.jupyter.widget-view+json": {
       "model_id": "",
       "version_major": 2,
       "version_minor": 0
      },
      "text/plain": [
       "Validating: 0it [00:00, ?it/s]"
      ]
     },
     "metadata": {},
     "output_type": "display_data"
    },
    {
     "name": "stderr",
     "output_type": "stream",
     "text": [
      "Metric val_loss improved by 0.080 >= min_delta = 1e-06. New best score: 0.384\n",
      "Epoch 4, global step 709: val_loss reached 0.38398 (best 0.38398), saving model to \"/home/ivan/code/uBERTa/models/checkpoints/ws100_step20_AAG_ACG_AGG_ATA_ATC_ATG_ATT_CTG_GTG_TTG_nopretrain_tokenlevel_signal/epoch=4-step=709.ckpt\" as top 1\n"
     ]
    },
    {
     "data": {
      "application/vnd.jupyter.widget-view+json": {
       "model_id": "",
       "version_major": 2,
       "version_minor": 0
      },
      "text/plain": [
       "Validating: 0it [00:00, ?it/s]"
      ]
     },
     "metadata": {},
     "output_type": "display_data"
    },
    {
     "name": "stderr",
     "output_type": "stream",
     "text": [
      "Metric val_loss improved by 0.046 >= min_delta = 1e-06. New best score: 0.338\n",
      "Epoch 5, global step 851: val_loss reached 0.33771 (best 0.33771), saving model to \"/home/ivan/code/uBERTa/models/checkpoints/ws100_step20_AAG_ACG_AGG_ATA_ATC_ATG_ATT_CTG_GTG_TTG_nopretrain_tokenlevel_signal/epoch=5-step=851.ckpt\" as top 1\n"
     ]
    },
    {
     "data": {
      "application/vnd.jupyter.widget-view+json": {
       "model_id": "",
       "version_major": 2,
       "version_minor": 0
      },
      "text/plain": [
       "Validating: 0it [00:00, ?it/s]"
      ]
     },
     "metadata": {},
     "output_type": "display_data"
    },
    {
     "name": "stderr",
     "output_type": "stream",
     "text": [
      "Metric val_loss improved by 0.035 >= min_delta = 1e-06. New best score: 0.303\n",
      "Epoch 6, global step 993: val_loss reached 0.30279 (best 0.30279), saving model to \"/home/ivan/code/uBERTa/models/checkpoints/ws100_step20_AAG_ACG_AGG_ATA_ATC_ATG_ATT_CTG_GTG_TTG_nopretrain_tokenlevel_signal/epoch=6-step=993.ckpt\" as top 1\n"
     ]
    },
    {
     "data": {
      "application/vnd.jupyter.widget-view+json": {
       "model_id": "",
       "version_major": 2,
       "version_minor": 0
      },
      "text/plain": [
       "Validating: 0it [00:00, ?it/s]"
      ]
     },
     "metadata": {},
     "output_type": "display_data"
    },
    {
     "name": "stderr",
     "output_type": "stream",
     "text": [
      "Metric val_loss improved by 0.028 >= min_delta = 1e-06. New best score: 0.275\n",
      "Epoch 7, global step 1135: val_loss reached 0.27516 (best 0.27516), saving model to \"/home/ivan/code/uBERTa/models/checkpoints/ws100_step20_AAG_ACG_AGG_ATA_ATC_ATG_ATT_CTG_GTG_TTG_nopretrain_tokenlevel_signal/epoch=7-step=1135.ckpt\" as top 1\n"
     ]
    },
    {
     "data": {
      "application/vnd.jupyter.widget-view+json": {
       "model_id": "",
       "version_major": 2,
       "version_minor": 0
      },
      "text/plain": [
       "Validating: 0it [00:00, ?it/s]"
      ]
     },
     "metadata": {},
     "output_type": "display_data"
    },
    {
     "name": "stderr",
     "output_type": "stream",
     "text": [
      "Metric val_loss improved by 0.022 >= min_delta = 1e-06. New best score: 0.253\n",
      "Epoch 8, global step 1277: val_loss reached 0.25344 (best 0.25344), saving model to \"/home/ivan/code/uBERTa/models/checkpoints/ws100_step20_AAG_ACG_AGG_ATA_ATC_ATG_ATT_CTG_GTG_TTG_nopretrain_tokenlevel_signal/epoch=8-step=1277.ckpt\" as top 1\n"
     ]
    },
    {
     "data": {
      "application/vnd.jupyter.widget-view+json": {
       "model_id": "",
       "version_major": 2,
       "version_minor": 0
      },
      "text/plain": [
       "Validating: 0it [00:00, ?it/s]"
      ]
     },
     "metadata": {},
     "output_type": "display_data"
    },
    {
     "name": "stderr",
     "output_type": "stream",
     "text": [
      "Metric val_loss improved by 0.017 >= min_delta = 1e-06. New best score: 0.237\n",
      "Epoch 9, global step 1419: val_loss reached 0.23680 (best 0.23680), saving model to \"/home/ivan/code/uBERTa/models/checkpoints/ws100_step20_AAG_ACG_AGG_ATA_ATC_ATG_ATT_CTG_GTG_TTG_nopretrain_tokenlevel_signal/epoch=9-step=1419.ckpt\" as top 1\n"
     ]
    },
    {
     "data": {
      "application/vnd.jupyter.widget-view+json": {
       "model_id": "",
       "version_major": 2,
       "version_minor": 0
      },
      "text/plain": [
       "Validating: 0it [00:00, ?it/s]"
      ]
     },
     "metadata": {},
     "output_type": "display_data"
    },
    {
     "name": "stderr",
     "output_type": "stream",
     "text": [
      "Metric val_loss improved by 0.013 >= min_delta = 1e-06. New best score: 0.224\n",
      "Epoch 10, global step 1561: val_loss reached 0.22393 (best 0.22393), saving model to \"/home/ivan/code/uBERTa/models/checkpoints/ws100_step20_AAG_ACG_AGG_ATA_ATC_ATG_ATT_CTG_GTG_TTG_nopretrain_tokenlevel_signal/epoch=10-step=1561.ckpt\" as top 1\n"
     ]
    },
    {
     "data": {
      "application/vnd.jupyter.widget-view+json": {
       "model_id": "",
       "version_major": 2,
       "version_minor": 0
      },
      "text/plain": [
       "Validating: 0it [00:00, ?it/s]"
      ]
     },
     "metadata": {},
     "output_type": "display_data"
    },
    {
     "name": "stderr",
     "output_type": "stream",
     "text": [
      "Metric val_loss improved by 0.010 >= min_delta = 1e-06. New best score: 0.214\n",
      "Epoch 11, global step 1703: val_loss reached 0.21355 (best 0.21355), saving model to \"/home/ivan/code/uBERTa/models/checkpoints/ws100_step20_AAG_ACG_AGG_ATA_ATC_ATG_ATT_CTG_GTG_TTG_nopretrain_tokenlevel_signal/epoch=11-step=1703-v1.ckpt\" as top 1\n"
     ]
    },
    {
     "data": {
      "application/vnd.jupyter.widget-view+json": {
       "model_id": "",
       "version_major": 2,
       "version_minor": 0
      },
      "text/plain": [
       "Validating: 0it [00:00, ?it/s]"
      ]
     },
     "metadata": {},
     "output_type": "display_data"
    },
    {
     "name": "stderr",
     "output_type": "stream",
     "text": [
      "Metric val_loss improved by 0.009 >= min_delta = 1e-06. New best score: 0.204\n",
      "Epoch 12, global step 1845: val_loss reached 0.20430 (best 0.20430), saving model to \"/home/ivan/code/uBERTa/models/checkpoints/ws100_step20_AAG_ACG_AGG_ATA_ATC_ATG_ATT_CTG_GTG_TTG_nopretrain_tokenlevel_signal/epoch=12-step=1845.ckpt\" as top 1\n"
     ]
    },
    {
     "data": {
      "application/vnd.jupyter.widget-view+json": {
       "model_id": "",
       "version_major": 2,
       "version_minor": 0
      },
      "text/plain": [
       "Validating: 0it [00:00, ?it/s]"
      ]
     },
     "metadata": {},
     "output_type": "display_data"
    },
    {
     "name": "stderr",
     "output_type": "stream",
     "text": [
      "Metric val_loss improved by 0.008 >= min_delta = 1e-06. New best score: 0.196\n",
      "Epoch 13, global step 1987: val_loss reached 0.19612 (best 0.19612), saving model to \"/home/ivan/code/uBERTa/models/checkpoints/ws100_step20_AAG_ACG_AGG_ATA_ATC_ATG_ATT_CTG_GTG_TTG_nopretrain_tokenlevel_signal/epoch=13-step=1987.ckpt\" as top 1\n"
     ]
    },
    {
     "data": {
      "application/vnd.jupyter.widget-view+json": {
       "model_id": "",
       "version_major": 2,
       "version_minor": 0
      },
      "text/plain": [
       "Validating: 0it [00:00, ?it/s]"
      ]
     },
     "metadata": {},
     "output_type": "display_data"
    },
    {
     "name": "stderr",
     "output_type": "stream",
     "text": [
      "Metric val_loss improved by 0.007 >= min_delta = 1e-06. New best score: 0.189\n",
      "Epoch 14, global step 2129: val_loss reached 0.18914 (best 0.18914), saving model to \"/home/ivan/code/uBERTa/models/checkpoints/ws100_step20_AAG_ACG_AGG_ATA_ATC_ATG_ATT_CTG_GTG_TTG_nopretrain_tokenlevel_signal/epoch=14-step=2129.ckpt\" as top 1\n"
     ]
    },
    {
     "data": {
      "application/vnd.jupyter.widget-view+json": {
       "model_id": "",
       "version_major": 2,
       "version_minor": 0
      },
      "text/plain": [
       "Validating: 0it [00:00, ?it/s]"
      ]
     },
     "metadata": {},
     "output_type": "display_data"
    },
    {
     "name": "stderr",
     "output_type": "stream",
     "text": [
      "Metric val_loss improved by 0.006 >= min_delta = 1e-06. New best score: 0.183\n",
      "Epoch 15, global step 2271: val_loss reached 0.18333 (best 0.18333), saving model to \"/home/ivan/code/uBERTa/models/checkpoints/ws100_step20_AAG_ACG_AGG_ATA_ATC_ATG_ATT_CTG_GTG_TTG_nopretrain_tokenlevel_signal/epoch=15-step=2271.ckpt\" as top 1\n"
     ]
    },
    {
     "data": {
      "application/vnd.jupyter.widget-view+json": {
       "model_id": "",
       "version_major": 2,
       "version_minor": 0
      },
      "text/plain": [
       "Validating: 0it [00:00, ?it/s]"
      ]
     },
     "metadata": {},
     "output_type": "display_data"
    },
    {
     "name": "stderr",
     "output_type": "stream",
     "text": [
      "Metric val_loss improved by 0.006 >= min_delta = 1e-06. New best score: 0.177\n",
      "Epoch 16, global step 2413: val_loss reached 0.17737 (best 0.17737), saving model to \"/home/ivan/code/uBERTa/models/checkpoints/ws100_step20_AAG_ACG_AGG_ATA_ATC_ATG_ATT_CTG_GTG_TTG_nopretrain_tokenlevel_signal/epoch=16-step=2413.ckpt\" as top 1\n"
     ]
    },
    {
     "data": {
      "application/vnd.jupyter.widget-view+json": {
       "model_id": "",
       "version_major": 2,
       "version_minor": 0
      },
      "text/plain": [
       "Validating: 0it [00:00, ?it/s]"
      ]
     },
     "metadata": {},
     "output_type": "display_data"
    },
    {
     "name": "stderr",
     "output_type": "stream",
     "text": [
      "Metric val_loss improved by 0.005 >= min_delta = 1e-06. New best score: 0.172\n",
      "Epoch 17, global step 2555: val_loss reached 0.17217 (best 0.17217), saving model to \"/home/ivan/code/uBERTa/models/checkpoints/ws100_step20_AAG_ACG_AGG_ATA_ATC_ATG_ATT_CTG_GTG_TTG_nopretrain_tokenlevel_signal/epoch=17-step=2555.ckpt\" as top 1\n"
     ]
    },
    {
     "data": {
      "application/vnd.jupyter.widget-view+json": {
       "model_id": "",
       "version_major": 2,
       "version_minor": 0
      },
      "text/plain": [
       "Validating: 0it [00:00, ?it/s]"
      ]
     },
     "metadata": {},
     "output_type": "display_data"
    },
    {
     "name": "stderr",
     "output_type": "stream",
     "text": [
      "Metric val_loss improved by 0.005 >= min_delta = 1e-06. New best score: 0.167\n",
      "Epoch 18, global step 2697: val_loss reached 0.16749 (best 0.16749), saving model to \"/home/ivan/code/uBERTa/models/checkpoints/ws100_step20_AAG_ACG_AGG_ATA_ATC_ATG_ATT_CTG_GTG_TTG_nopretrain_tokenlevel_signal/epoch=18-step=2697.ckpt\" as top 1\n"
     ]
    },
    {
     "data": {
      "application/vnd.jupyter.widget-view+json": {
       "model_id": "",
       "version_major": 2,
       "version_minor": 0
      },
      "text/plain": [
       "Validating: 0it [00:00, ?it/s]"
      ]
     },
     "metadata": {},
     "output_type": "display_data"
    },
    {
     "name": "stderr",
     "output_type": "stream",
     "text": [
      "Metric val_loss improved by 0.005 >= min_delta = 1e-06. New best score: 0.163\n",
      "Epoch 19, global step 2839: val_loss reached 0.16267 (best 0.16267), saving model to \"/home/ivan/code/uBERTa/models/checkpoints/ws100_step20_AAG_ACG_AGG_ATA_ATC_ATG_ATT_CTG_GTG_TTG_nopretrain_tokenlevel_signal/epoch=19-step=2839.ckpt\" as top 1\n"
     ]
    },
    {
     "data": {
      "application/vnd.jupyter.widget-view+json": {
       "model_id": "",
       "version_major": 2,
       "version_minor": 0
      },
      "text/plain": [
       "Validating: 0it [00:00, ?it/s]"
      ]
     },
     "metadata": {},
     "output_type": "display_data"
    },
    {
     "name": "stderr",
     "output_type": "stream",
     "text": [
      "Metric val_loss improved by 0.005 >= min_delta = 1e-06. New best score: 0.158\n",
      "Epoch 20, global step 2981: val_loss reached 0.15810 (best 0.15810), saving model to \"/home/ivan/code/uBERTa/models/checkpoints/ws100_step20_AAG_ACG_AGG_ATA_ATC_ATG_ATT_CTG_GTG_TTG_nopretrain_tokenlevel_signal/epoch=20-step=2981.ckpt\" as top 1\n"
     ]
    },
    {
     "data": {
      "application/vnd.jupyter.widget-view+json": {
       "model_id": "",
       "version_major": 2,
       "version_minor": 0
      },
      "text/plain": [
       "Validating: 0it [00:00, ?it/s]"
      ]
     },
     "metadata": {},
     "output_type": "display_data"
    },
    {
     "name": "stderr",
     "output_type": "stream",
     "text": [
      "Metric val_loss improved by 0.004 >= min_delta = 1e-06. New best score: 0.154\n",
      "Epoch 21, global step 3123: val_loss reached 0.15383 (best 0.15383), saving model to \"/home/ivan/code/uBERTa/models/checkpoints/ws100_step20_AAG_ACG_AGG_ATA_ATC_ATG_ATT_CTG_GTG_TTG_nopretrain_tokenlevel_signal/epoch=21-step=3123.ckpt\" as top 1\n"
     ]
    },
    {
     "data": {
      "application/vnd.jupyter.widget-view+json": {
       "model_id": "",
       "version_major": 2,
       "version_minor": 0
      },
      "text/plain": [
       "Validating: 0it [00:00, ?it/s]"
      ]
     },
     "metadata": {},
     "output_type": "display_data"
    },
    {
     "name": "stderr",
     "output_type": "stream",
     "text": [
      "Metric val_loss improved by 0.004 >= min_delta = 1e-06. New best score: 0.150\n",
      "Epoch 22, global step 3265: val_loss reached 0.15021 (best 0.15021), saving model to \"/home/ivan/code/uBERTa/models/checkpoints/ws100_step20_AAG_ACG_AGG_ATA_ATC_ATG_ATT_CTG_GTG_TTG_nopretrain_tokenlevel_signal/epoch=22-step=3265.ckpt\" as top 1\n"
     ]
    },
    {
     "data": {
      "application/vnd.jupyter.widget-view+json": {
       "model_id": "",
       "version_major": 2,
       "version_minor": 0
      },
      "text/plain": [
       "Validating: 0it [00:00, ?it/s]"
      ]
     },
     "metadata": {},
     "output_type": "display_data"
    },
    {
     "name": "stderr",
     "output_type": "stream",
     "text": [
      "Metric val_loss improved by 0.003 >= min_delta = 1e-06. New best score: 0.147\n",
      "Epoch 23, global step 3407: val_loss reached 0.14727 (best 0.14727), saving model to \"/home/ivan/code/uBERTa/models/checkpoints/ws100_step20_AAG_ACG_AGG_ATA_ATC_ATG_ATT_CTG_GTG_TTG_nopretrain_tokenlevel_signal/epoch=23-step=3407.ckpt\" as top 1\n"
     ]
    },
    {
     "data": {
      "application/vnd.jupyter.widget-view+json": {
       "model_id": "",
       "version_major": 2,
       "version_minor": 0
      },
      "text/plain": [
       "Validating: 0it [00:00, ?it/s]"
      ]
     },
     "metadata": {},
     "output_type": "display_data"
    },
    {
     "name": "stderr",
     "output_type": "stream",
     "text": [
      "Metric val_loss improved by 0.003 >= min_delta = 1e-06. New best score: 0.144\n",
      "Epoch 24, global step 3549: val_loss reached 0.14412 (best 0.14412), saving model to \"/home/ivan/code/uBERTa/models/checkpoints/ws100_step20_AAG_ACG_AGG_ATA_ATC_ATG_ATT_CTG_GTG_TTG_nopretrain_tokenlevel_signal/epoch=24-step=3549.ckpt\" as top 1\n"
     ]
    },
    {
     "data": {
      "application/vnd.jupyter.widget-view+json": {
       "model_id": "",
       "version_major": 2,
       "version_minor": 0
      },
      "text/plain": [
       "Validating: 0it [00:00, ?it/s]"
      ]
     },
     "metadata": {},
     "output_type": "display_data"
    },
    {
     "name": "stderr",
     "output_type": "stream",
     "text": [
      "Metric val_loss improved by 0.002 >= min_delta = 1e-06. New best score: 0.142\n",
      "Epoch 25, global step 3691: val_loss reached 0.14232 (best 0.14232), saving model to \"/home/ivan/code/uBERTa/models/checkpoints/ws100_step20_AAG_ACG_AGG_ATA_ATC_ATG_ATT_CTG_GTG_TTG_nopretrain_tokenlevel_signal/epoch=25-step=3691.ckpt\" as top 1\n"
     ]
    },
    {
     "data": {
      "application/vnd.jupyter.widget-view+json": {
       "model_id": "",
       "version_major": 2,
       "version_minor": 0
      },
      "text/plain": [
       "Validating: 0it [00:00, ?it/s]"
      ]
     },
     "metadata": {},
     "output_type": "display_data"
    },
    {
     "name": "stderr",
     "output_type": "stream",
     "text": [
      "Metric val_loss improved by 0.002 >= min_delta = 1e-06. New best score: 0.140\n",
      "Epoch 26, global step 3833: val_loss reached 0.13993 (best 0.13993), saving model to \"/home/ivan/code/uBERTa/models/checkpoints/ws100_step20_AAG_ACG_AGG_ATA_ATC_ATG_ATT_CTG_GTG_TTG_nopretrain_tokenlevel_signal/epoch=26-step=3833.ckpt\" as top 1\n"
     ]
    },
    {
     "data": {
      "application/vnd.jupyter.widget-view+json": {
       "model_id": "",
       "version_major": 2,
       "version_minor": 0
      },
      "text/plain": [
       "Validating: 0it [00:00, ?it/s]"
      ]
     },
     "metadata": {},
     "output_type": "display_data"
    },
    {
     "name": "stderr",
     "output_type": "stream",
     "text": [
      "Metric val_loss improved by 0.002 >= min_delta = 1e-06. New best score: 0.138\n",
      "Epoch 27, global step 3975: val_loss reached 0.13805 (best 0.13805), saving model to \"/home/ivan/code/uBERTa/models/checkpoints/ws100_step20_AAG_ACG_AGG_ATA_ATC_ATG_ATT_CTG_GTG_TTG_nopretrain_tokenlevel_signal/epoch=27-step=3975.ckpt\" as top 1\n"
     ]
    },
    {
     "data": {
      "application/vnd.jupyter.widget-view+json": {
       "model_id": "",
       "version_major": 2,
       "version_minor": 0
      },
      "text/plain": [
       "Validating: 0it [00:00, ?it/s]"
      ]
     },
     "metadata": {},
     "output_type": "display_data"
    },
    {
     "name": "stderr",
     "output_type": "stream",
     "text": [
      "Metric val_loss improved by 0.002 >= min_delta = 1e-06. New best score: 0.136\n",
      "Epoch 28, global step 4117: val_loss reached 0.13650 (best 0.13650), saving model to \"/home/ivan/code/uBERTa/models/checkpoints/ws100_step20_AAG_ACG_AGG_ATA_ATC_ATG_ATT_CTG_GTG_TTG_nopretrain_tokenlevel_signal/epoch=28-step=4117.ckpt\" as top 1\n"
     ]
    },
    {
     "data": {
      "application/vnd.jupyter.widget-view+json": {
       "model_id": "",
       "version_major": 2,
       "version_minor": 0
      },
      "text/plain": [
       "Validating: 0it [00:00, ?it/s]"
      ]
     },
     "metadata": {},
     "output_type": "display_data"
    },
    {
     "name": "stderr",
     "output_type": "stream",
     "text": [
      "Metric val_loss improved by 0.001 >= min_delta = 1e-06. New best score: 0.135\n",
      "Epoch 29, global step 4259: val_loss reached 0.13504 (best 0.13504), saving model to \"/home/ivan/code/uBERTa/models/checkpoints/ws100_step20_AAG_ACG_AGG_ATA_ATC_ATG_ATT_CTG_GTG_TTG_nopretrain_tokenlevel_signal/epoch=29-step=4259.ckpt\" as top 1\n"
     ]
    },
    {
     "data": {
      "application/vnd.jupyter.widget-view+json": {
       "model_id": "",
       "version_major": 2,
       "version_minor": 0
      },
      "text/plain": [
       "Validating: 0it [00:00, ?it/s]"
      ]
     },
     "metadata": {},
     "output_type": "display_data"
    },
    {
     "name": "stderr",
     "output_type": "stream",
     "text": [
      "Metric val_loss improved by 0.002 >= min_delta = 1e-06. New best score: 0.133\n",
      "Epoch 30, global step 4401: val_loss reached 0.13336 (best 0.13336), saving model to \"/home/ivan/code/uBERTa/models/checkpoints/ws100_step20_AAG_ACG_AGG_ATA_ATC_ATG_ATT_CTG_GTG_TTG_nopretrain_tokenlevel_signal/epoch=30-step=4401.ckpt\" as top 1\n"
     ]
    },
    {
     "data": {
      "application/vnd.jupyter.widget-view+json": {
       "model_id": "",
       "version_major": 2,
       "version_minor": 0
      },
      "text/plain": [
       "Validating: 0it [00:00, ?it/s]"
      ]
     },
     "metadata": {},
     "output_type": "display_data"
    },
    {
     "name": "stderr",
     "output_type": "stream",
     "text": [
      "Metric val_loss improved by 0.001 >= min_delta = 1e-06. New best score: 0.132\n",
      "Epoch 31, global step 4543: val_loss reached 0.13189 (best 0.13189), saving model to \"/home/ivan/code/uBERTa/models/checkpoints/ws100_step20_AAG_ACG_AGG_ATA_ATC_ATG_ATT_CTG_GTG_TTG_nopretrain_tokenlevel_signal/epoch=31-step=4543.ckpt\" as top 1\n"
     ]
    },
    {
     "data": {
      "application/vnd.jupyter.widget-view+json": {
       "model_id": "",
       "version_major": 2,
       "version_minor": 0
      },
      "text/plain": [
       "Validating: 0it [00:00, ?it/s]"
      ]
     },
     "metadata": {},
     "output_type": "display_data"
    },
    {
     "name": "stderr",
     "output_type": "stream",
     "text": [
      "Metric val_loss improved by 0.001 >= min_delta = 1e-06. New best score: 0.131\n",
      "Epoch 32, global step 4685: val_loss reached 0.13052 (best 0.13052), saving model to \"/home/ivan/code/uBERTa/models/checkpoints/ws100_step20_AAG_ACG_AGG_ATA_ATC_ATG_ATT_CTG_GTG_TTG_nopretrain_tokenlevel_signal/epoch=32-step=4685.ckpt\" as top 1\n"
     ]
    },
    {
     "data": {
      "application/vnd.jupyter.widget-view+json": {
       "model_id": "",
       "version_major": 2,
       "version_minor": 0
      },
      "text/plain": [
       "Validating: 0it [00:00, ?it/s]"
      ]
     },
     "metadata": {},
     "output_type": "display_data"
    },
    {
     "name": "stderr",
     "output_type": "stream",
     "text": [
      "Metric val_loss improved by 0.001 >= min_delta = 1e-06. New best score: 0.130\n",
      "Epoch 33, global step 4827: val_loss reached 0.12978 (best 0.12978), saving model to \"/home/ivan/code/uBERTa/models/checkpoints/ws100_step20_AAG_ACG_AGG_ATA_ATC_ATG_ATT_CTG_GTG_TTG_nopretrain_tokenlevel_signal/epoch=33-step=4827.ckpt\" as top 1\n"
     ]
    },
    {
     "data": {
      "application/vnd.jupyter.widget-view+json": {
       "model_id": "",
       "version_major": 2,
       "version_minor": 0
      },
      "text/plain": [
       "Validating: 0it [00:00, ?it/s]"
      ]
     },
     "metadata": {},
     "output_type": "display_data"
    },
    {
     "name": "stderr",
     "output_type": "stream",
     "text": [
      "Metric val_loss improved by 0.001 >= min_delta = 1e-06. New best score: 0.129\n",
      "Epoch 34, global step 4969: val_loss reached 0.12900 (best 0.12900), saving model to \"/home/ivan/code/uBERTa/models/checkpoints/ws100_step20_AAG_ACG_AGG_ATA_ATC_ATG_ATT_CTG_GTG_TTG_nopretrain_tokenlevel_signal/epoch=34-step=4969.ckpt\" as top 1\n"
     ]
    },
    {
     "data": {
      "application/vnd.jupyter.widget-view+json": {
       "model_id": "",
       "version_major": 2,
       "version_minor": 0
      },
      "text/plain": [
       "Validating: 0it [00:00, ?it/s]"
      ]
     },
     "metadata": {},
     "output_type": "display_data"
    },
    {
     "name": "stderr",
     "output_type": "stream",
     "text": [
      "Metric val_loss improved by 0.001 >= min_delta = 1e-06. New best score: 0.128\n",
      "Epoch 35, global step 5111: val_loss reached 0.12774 (best 0.12774), saving model to \"/home/ivan/code/uBERTa/models/checkpoints/ws100_step20_AAG_ACG_AGG_ATA_ATC_ATG_ATT_CTG_GTG_TTG_nopretrain_tokenlevel_signal/epoch=35-step=5111.ckpt\" as top 1\n"
     ]
    },
    {
     "data": {
      "application/vnd.jupyter.widget-view+json": {
       "model_id": "",
       "version_major": 2,
       "version_minor": 0
      },
      "text/plain": [
       "Validating: 0it [00:00, ?it/s]"
      ]
     },
     "metadata": {},
     "output_type": "display_data"
    },
    {
     "name": "stderr",
     "output_type": "stream",
     "text": [
      "Metric val_loss improved by 0.001 >= min_delta = 1e-06. New best score: 0.127\n",
      "Epoch 36, global step 5253: val_loss reached 0.12672 (best 0.12672), saving model to \"/home/ivan/code/uBERTa/models/checkpoints/ws100_step20_AAG_ACG_AGG_ATA_ATC_ATG_ATT_CTG_GTG_TTG_nopretrain_tokenlevel_signal/epoch=36-step=5253.ckpt\" as top 1\n"
     ]
    },
    {
     "data": {
      "application/vnd.jupyter.widget-view+json": {
       "model_id": "",
       "version_major": 2,
       "version_minor": 0
      },
      "text/plain": [
       "Validating: 0it [00:00, ?it/s]"
      ]
     },
     "metadata": {},
     "output_type": "display_data"
    },
    {
     "name": "stderr",
     "output_type": "stream",
     "text": [
      "Metric val_loss improved by 0.001 >= min_delta = 1e-06. New best score: 0.126\n",
      "Epoch 37, global step 5395: val_loss reached 0.12603 (best 0.12603), saving model to \"/home/ivan/code/uBERTa/models/checkpoints/ws100_step20_AAG_ACG_AGG_ATA_ATC_ATG_ATT_CTG_GTG_TTG_nopretrain_tokenlevel_signal/epoch=37-step=5395.ckpt\" as top 1\n"
     ]
    },
    {
     "data": {
      "application/vnd.jupyter.widget-view+json": {
       "model_id": "",
       "version_major": 2,
       "version_minor": 0
      },
      "text/plain": [
       "Validating: 0it [00:00, ?it/s]"
      ]
     },
     "metadata": {},
     "output_type": "display_data"
    },
    {
     "name": "stderr",
     "output_type": "stream",
     "text": [
      "Metric val_loss improved by 0.001 >= min_delta = 1e-06. New best score: 0.125\n",
      "Epoch 38, global step 5537: val_loss reached 0.12529 (best 0.12529), saving model to \"/home/ivan/code/uBERTa/models/checkpoints/ws100_step20_AAG_ACG_AGG_ATA_ATC_ATG_ATT_CTG_GTG_TTG_nopretrain_tokenlevel_signal/epoch=38-step=5537.ckpt\" as top 1\n"
     ]
    },
    {
     "data": {
      "application/vnd.jupyter.widget-view+json": {
       "model_id": "",
       "version_major": 2,
       "version_minor": 0
      },
      "text/plain": [
       "Validating: 0it [00:00, ?it/s]"
      ]
     },
     "metadata": {},
     "output_type": "display_data"
    },
    {
     "name": "stderr",
     "output_type": "stream",
     "text": [
      "Metric val_loss improved by 0.001 >= min_delta = 1e-06. New best score: 0.124\n",
      "Epoch 39, global step 5679: val_loss reached 0.12422 (best 0.12422), saving model to \"/home/ivan/code/uBERTa/models/checkpoints/ws100_step20_AAG_ACG_AGG_ATA_ATC_ATG_ATT_CTG_GTG_TTG_nopretrain_tokenlevel_signal/epoch=39-step=5679.ckpt\" as top 1\n"
     ]
    },
    {
     "data": {
      "application/vnd.jupyter.widget-view+json": {
       "model_id": "",
       "version_major": 2,
       "version_minor": 0
      },
      "text/plain": [
       "Validating: 0it [00:00, ?it/s]"
      ]
     },
     "metadata": {},
     "output_type": "display_data"
    },
    {
     "name": "stderr",
     "output_type": "stream",
     "text": [
      "Metric val_loss improved by 0.001 >= min_delta = 1e-06. New best score: 0.123\n",
      "Epoch 40, global step 5821: val_loss reached 0.12332 (best 0.12332), saving model to \"/home/ivan/code/uBERTa/models/checkpoints/ws100_step20_AAG_ACG_AGG_ATA_ATC_ATG_ATT_CTG_GTG_TTG_nopretrain_tokenlevel_signal/epoch=40-step=5821.ckpt\" as top 1\n"
     ]
    },
    {
     "data": {
      "application/vnd.jupyter.widget-view+json": {
       "model_id": "",
       "version_major": 2,
       "version_minor": 0
      },
      "text/plain": [
       "Validating: 0it [00:00, ?it/s]"
      ]
     },
     "metadata": {},
     "output_type": "display_data"
    },
    {
     "name": "stderr",
     "output_type": "stream",
     "text": [
      "Metric val_loss improved by 0.001 >= min_delta = 1e-06. New best score: 0.122\n",
      "Epoch 41, global step 5963: val_loss reached 0.12241 (best 0.12241), saving model to \"/home/ivan/code/uBERTa/models/checkpoints/ws100_step20_AAG_ACG_AGG_ATA_ATC_ATG_ATT_CTG_GTG_TTG_nopretrain_tokenlevel_signal/epoch=41-step=5963.ckpt\" as top 1\n"
     ]
    },
    {
     "data": {
      "application/vnd.jupyter.widget-view+json": {
       "model_id": "",
       "version_major": 2,
       "version_minor": 0
      },
      "text/plain": [
       "Validating: 0it [00:00, ?it/s]"
      ]
     },
     "metadata": {},
     "output_type": "display_data"
    },
    {
     "name": "stderr",
     "output_type": "stream",
     "text": [
      "Metric val_loss improved by 0.000 >= min_delta = 1e-06. New best score: 0.122\n",
      "Epoch 42, global step 6105: val_loss reached 0.12198 (best 0.12198), saving model to \"/home/ivan/code/uBERTa/models/checkpoints/ws100_step20_AAG_ACG_AGG_ATA_ATC_ATG_ATT_CTG_GTG_TTG_nopretrain_tokenlevel_signal/epoch=42-step=6105.ckpt\" as top 1\n"
     ]
    },
    {
     "data": {
      "application/vnd.jupyter.widget-view+json": {
       "model_id": "",
       "version_major": 2,
       "version_minor": 0
      },
      "text/plain": [
       "Validating: 0it [00:00, ?it/s]"
      ]
     },
     "metadata": {},
     "output_type": "display_data"
    },
    {
     "name": "stderr",
     "output_type": "stream",
     "text": [
      "Metric val_loss improved by 0.001 >= min_delta = 1e-06. New best score: 0.121\n",
      "Epoch 43, global step 6247: val_loss reached 0.12117 (best 0.12117), saving model to \"/home/ivan/code/uBERTa/models/checkpoints/ws100_step20_AAG_ACG_AGG_ATA_ATC_ATG_ATT_CTG_GTG_TTG_nopretrain_tokenlevel_signal/epoch=43-step=6247.ckpt\" as top 1\n"
     ]
    },
    {
     "data": {
      "application/vnd.jupyter.widget-view+json": {
       "model_id": "",
       "version_major": 2,
       "version_minor": 0
      },
      "text/plain": [
       "Validating: 0it [00:00, ?it/s]"
      ]
     },
     "metadata": {},
     "output_type": "display_data"
    },
    {
     "name": "stderr",
     "output_type": "stream",
     "text": [
      "Metric val_loss improved by 0.001 >= min_delta = 1e-06. New best score: 0.120\n",
      "Epoch 44, global step 6389: val_loss reached 0.12046 (best 0.12046), saving model to \"/home/ivan/code/uBERTa/models/checkpoints/ws100_step20_AAG_ACG_AGG_ATA_ATC_ATG_ATT_CTG_GTG_TTG_nopretrain_tokenlevel_signal/epoch=44-step=6389.ckpt\" as top 1\n"
     ]
    },
    {
     "data": {
      "application/vnd.jupyter.widget-view+json": {
       "model_id": "",
       "version_major": 2,
       "version_minor": 0
      },
      "text/plain": [
       "Validating: 0it [00:00, ?it/s]"
      ]
     },
     "metadata": {},
     "output_type": "display_data"
    },
    {
     "name": "stderr",
     "output_type": "stream",
     "text": [
      "Metric val_loss improved by 0.000 >= min_delta = 1e-06. New best score: 0.120\n",
      "Epoch 45, global step 6531: val_loss reached 0.12046 (best 0.12046), saving model to \"/home/ivan/code/uBERTa/models/checkpoints/ws100_step20_AAG_ACG_AGG_ATA_ATC_ATG_ATT_CTG_GTG_TTG_nopretrain_tokenlevel_signal/epoch=45-step=6531.ckpt\" as top 1\n"
     ]
    },
    {
     "data": {
      "application/vnd.jupyter.widget-view+json": {
       "model_id": "",
       "version_major": 2,
       "version_minor": 0
      },
      "text/plain": [
       "Validating: 0it [00:00, ?it/s]"
      ]
     },
     "metadata": {},
     "output_type": "display_data"
    },
    {
     "name": "stderr",
     "output_type": "stream",
     "text": [
      "Metric val_loss improved by 0.001 >= min_delta = 1e-06. New best score: 0.120\n",
      "Epoch 46, global step 6673: val_loss reached 0.11989 (best 0.11989), saving model to \"/home/ivan/code/uBERTa/models/checkpoints/ws100_step20_AAG_ACG_AGG_ATA_ATC_ATG_ATT_CTG_GTG_TTG_nopretrain_tokenlevel_signal/epoch=46-step=6673.ckpt\" as top 1\n"
     ]
    },
    {
     "data": {
      "application/vnd.jupyter.widget-view+json": {
       "model_id": "",
       "version_major": 2,
       "version_minor": 0
      },
      "text/plain": [
       "Validating: 0it [00:00, ?it/s]"
      ]
     },
     "metadata": {},
     "output_type": "display_data"
    },
    {
     "name": "stderr",
     "output_type": "stream",
     "text": [
      "Metric val_loss improved by 0.001 >= min_delta = 1e-06. New best score: 0.119\n",
      "Epoch 47, global step 6815: val_loss reached 0.11928 (best 0.11928), saving model to \"/home/ivan/code/uBERTa/models/checkpoints/ws100_step20_AAG_ACG_AGG_ATA_ATC_ATG_ATT_CTG_GTG_TTG_nopretrain_tokenlevel_signal/epoch=47-step=6815.ckpt\" as top 1\n"
     ]
    },
    {
     "data": {
      "application/vnd.jupyter.widget-view+json": {
       "model_id": "",
       "version_major": 2,
       "version_minor": 0
      },
      "text/plain": [
       "Validating: 0it [00:00, ?it/s]"
      ]
     },
     "metadata": {},
     "output_type": "display_data"
    },
    {
     "name": "stderr",
     "output_type": "stream",
     "text": [
      "Metric val_loss improved by 0.001 >= min_delta = 1e-06. New best score: 0.119\n",
      "Epoch 48, global step 6957: val_loss reached 0.11859 (best 0.11859), saving model to \"/home/ivan/code/uBERTa/models/checkpoints/ws100_step20_AAG_ACG_AGG_ATA_ATC_ATG_ATT_CTG_GTG_TTG_nopretrain_tokenlevel_signal/epoch=48-step=6957.ckpt\" as top 1\n"
     ]
    },
    {
     "data": {
      "application/vnd.jupyter.widget-view+json": {
       "model_id": "",
       "version_major": 2,
       "version_minor": 0
      },
      "text/plain": [
       "Validating: 0it [00:00, ?it/s]"
      ]
     },
     "metadata": {},
     "output_type": "display_data"
    },
    {
     "name": "stderr",
     "output_type": "stream",
     "text": [
      "Metric val_loss improved by 0.000 >= min_delta = 1e-06. New best score: 0.119\n",
      "Epoch 49, global step 7099: val_loss reached 0.11851 (best 0.11851), saving model to \"/home/ivan/code/uBERTa/models/checkpoints/ws100_step20_AAG_ACG_AGG_ATA_ATC_ATG_ATT_CTG_GTG_TTG_nopretrain_tokenlevel_signal/epoch=49-step=7099.ckpt\" as top 1\n"
     ]
    },
    {
     "data": {
      "application/vnd.jupyter.widget-view+json": {
       "model_id": "",
       "version_major": 2,
       "version_minor": 0
      },
      "text/plain": [
       "Validating: 0it [00:00, ?it/s]"
      ]
     },
     "metadata": {},
     "output_type": "display_data"
    },
    {
     "name": "stderr",
     "output_type": "stream",
     "text": [
      "Metric val_loss improved by 0.001 >= min_delta = 1e-06. New best score: 0.118\n",
      "Epoch 50, global step 7241: val_loss reached 0.11796 (best 0.11796), saving model to \"/home/ivan/code/uBERTa/models/checkpoints/ws100_step20_AAG_ACG_AGG_ATA_ATC_ATG_ATT_CTG_GTG_TTG_nopretrain_tokenlevel_signal/epoch=50-step=7241.ckpt\" as top 1\n"
     ]
    },
    {
     "data": {
      "application/vnd.jupyter.widget-view+json": {
       "model_id": "",
       "version_major": 2,
       "version_minor": 0
      },
      "text/plain": [
       "Validating: 0it [00:00, ?it/s]"
      ]
     },
     "metadata": {},
     "output_type": "display_data"
    },
    {
     "name": "stderr",
     "output_type": "stream",
     "text": [
      "Metric val_loss improved by 0.001 >= min_delta = 1e-06. New best score: 0.117\n",
      "Epoch 51, global step 7383: val_loss reached 0.11713 (best 0.11713), saving model to \"/home/ivan/code/uBERTa/models/checkpoints/ws100_step20_AAG_ACG_AGG_ATA_ATC_ATG_ATT_CTG_GTG_TTG_nopretrain_tokenlevel_signal/epoch=51-step=7383.ckpt\" as top 1\n"
     ]
    },
    {
     "data": {
      "application/vnd.jupyter.widget-view+json": {
       "model_id": "",
       "version_major": 2,
       "version_minor": 0
      },
      "text/plain": [
       "Validating: 0it [00:00, ?it/s]"
      ]
     },
     "metadata": {},
     "output_type": "display_data"
    },
    {
     "name": "stderr",
     "output_type": "stream",
     "text": [
      "Metric val_loss improved by 0.000 >= min_delta = 1e-06. New best score: 0.117\n",
      "Epoch 52, global step 7525: val_loss reached 0.11712 (best 0.11712), saving model to \"/home/ivan/code/uBERTa/models/checkpoints/ws100_step20_AAG_ACG_AGG_ATA_ATC_ATG_ATT_CTG_GTG_TTG_nopretrain_tokenlevel_signal/epoch=52-step=7525.ckpt\" as top 1\n"
     ]
    },
    {
     "data": {
      "application/vnd.jupyter.widget-view+json": {
       "model_id": "",
       "version_major": 2,
       "version_minor": 0
      },
      "text/plain": [
       "Validating: 0it [00:00, ?it/s]"
      ]
     },
     "metadata": {},
     "output_type": "display_data"
    },
    {
     "name": "stderr",
     "output_type": "stream",
     "text": [
      "Metric val_loss improved by 0.000 >= min_delta = 1e-06. New best score: 0.117\n",
      "Epoch 53, global step 7667: val_loss reached 0.11677 (best 0.11677), saving model to \"/home/ivan/code/uBERTa/models/checkpoints/ws100_step20_AAG_ACG_AGG_ATA_ATC_ATG_ATT_CTG_GTG_TTG_nopretrain_tokenlevel_signal/epoch=53-step=7667.ckpt\" as top 1\n"
     ]
    },
    {
     "data": {
      "application/vnd.jupyter.widget-view+json": {
       "model_id": "",
       "version_major": 2,
       "version_minor": 0
      },
      "text/plain": [
       "Validating: 0it [00:00, ?it/s]"
      ]
     },
     "metadata": {},
     "output_type": "display_data"
    },
    {
     "name": "stderr",
     "output_type": "stream",
     "text": [
      "Metric val_loss improved by 0.001 >= min_delta = 1e-06. New best score: 0.116\n",
      "Epoch 54, global step 7809: val_loss reached 0.11608 (best 0.11608), saving model to \"/home/ivan/code/uBERTa/models/checkpoints/ws100_step20_AAG_ACG_AGG_ATA_ATC_ATG_ATT_CTG_GTG_TTG_nopretrain_tokenlevel_signal/epoch=54-step=7809.ckpt\" as top 1\n"
     ]
    },
    {
     "data": {
      "application/vnd.jupyter.widget-view+json": {
       "model_id": "",
       "version_major": 2,
       "version_minor": 0
      },
      "text/plain": [
       "Validating: 0it [00:00, ?it/s]"
      ]
     },
     "metadata": {},
     "output_type": "display_data"
    },
    {
     "name": "stderr",
     "output_type": "stream",
     "text": [
      "Metric val_loss improved by 0.000 >= min_delta = 1e-06. New best score: 0.116\n",
      "Epoch 55, global step 7951: val_loss reached 0.11590 (best 0.11590), saving model to \"/home/ivan/code/uBERTa/models/checkpoints/ws100_step20_AAG_ACG_AGG_ATA_ATC_ATG_ATT_CTG_GTG_TTG_nopretrain_tokenlevel_signal/epoch=55-step=7951.ckpt\" as top 1\n"
     ]
    },
    {
     "data": {
      "application/vnd.jupyter.widget-view+json": {
       "model_id": "",
       "version_major": 2,
       "version_minor": 0
      },
      "text/plain": [
       "Validating: 0it [00:00, ?it/s]"
      ]
     },
     "metadata": {},
     "output_type": "display_data"
    },
    {
     "name": "stderr",
     "output_type": "stream",
     "text": [
      "Metric val_loss improved by 0.000 >= min_delta = 1e-06. New best score: 0.116\n",
      "Epoch 56, global step 8093: val_loss reached 0.11576 (best 0.11576), saving model to \"/home/ivan/code/uBERTa/models/checkpoints/ws100_step20_AAG_ACG_AGG_ATA_ATC_ATG_ATT_CTG_GTG_TTG_nopretrain_tokenlevel_signal/epoch=56-step=8093.ckpt\" as top 1\n"
     ]
    },
    {
     "data": {
      "application/vnd.jupyter.widget-view+json": {
       "model_id": "",
       "version_major": 2,
       "version_minor": 0
      },
      "text/plain": [
       "Validating: 0it [00:00, ?it/s]"
      ]
     },
     "metadata": {},
     "output_type": "display_data"
    },
    {
     "name": "stderr",
     "output_type": "stream",
     "text": [
      "Metric val_loss improved by 0.000 >= min_delta = 1e-06. New best score: 0.115\n",
      "Epoch 57, global step 8235: val_loss reached 0.11527 (best 0.11527), saving model to \"/home/ivan/code/uBERTa/models/checkpoints/ws100_step20_AAG_ACG_AGG_ATA_ATC_ATG_ATT_CTG_GTG_TTG_nopretrain_tokenlevel_signal/epoch=57-step=8235.ckpt\" as top 1\n"
     ]
    },
    {
     "data": {
      "application/vnd.jupyter.widget-view+json": {
       "model_id": "",
       "version_major": 2,
       "version_minor": 0
      },
      "text/plain": [
       "Validating: 0it [00:00, ?it/s]"
      ]
     },
     "metadata": {},
     "output_type": "display_data"
    },
    {
     "name": "stderr",
     "output_type": "stream",
     "text": [
      "Metric val_loss improved by 0.000 >= min_delta = 1e-06. New best score: 0.115\n",
      "Epoch 58, global step 8377: val_loss reached 0.11517 (best 0.11517), saving model to \"/home/ivan/code/uBERTa/models/checkpoints/ws100_step20_AAG_ACG_AGG_ATA_ATC_ATG_ATT_CTG_GTG_TTG_nopretrain_tokenlevel_signal/epoch=58-step=8377.ckpt\" as top 1\n"
     ]
    },
    {
     "data": {
      "application/vnd.jupyter.widget-view+json": {
       "model_id": "",
       "version_major": 2,
       "version_minor": 0
      },
      "text/plain": [
       "Validating: 0it [00:00, ?it/s]"
      ]
     },
     "metadata": {},
     "output_type": "display_data"
    },
    {
     "name": "stderr",
     "output_type": "stream",
     "text": [
      "Metric val_loss improved by 0.000 >= min_delta = 1e-06. New best score: 0.115\n",
      "Epoch 59, global step 8519: val_loss reached 0.11480 (best 0.11480), saving model to \"/home/ivan/code/uBERTa/models/checkpoints/ws100_step20_AAG_ACG_AGG_ATA_ATC_ATG_ATT_CTG_GTG_TTG_nopretrain_tokenlevel_signal/epoch=59-step=8519.ckpt\" as top 1\n"
     ]
    },
    {
     "data": {
      "application/vnd.jupyter.widget-view+json": {
       "model_id": "",
       "version_major": 2,
       "version_minor": 0
      },
      "text/plain": [
       "Validating: 0it [00:00, ?it/s]"
      ]
     },
     "metadata": {},
     "output_type": "display_data"
    },
    {
     "name": "stderr",
     "output_type": "stream",
     "text": [
      "Epoch 60, global step 8661: val_loss was not in top 1\n"
     ]
    },
    {
     "data": {
      "application/vnd.jupyter.widget-view+json": {
       "model_id": "",
       "version_major": 2,
       "version_minor": 0
      },
      "text/plain": [
       "Validating: 0it [00:00, ?it/s]"
      ]
     },
     "metadata": {},
     "output_type": "display_data"
    },
    {
     "name": "stderr",
     "output_type": "stream",
     "text": [
      "Metric val_loss improved by 0.000 >= min_delta = 1e-06. New best score: 0.114\n",
      "Epoch 61, global step 8803: val_loss reached 0.11435 (best 0.11435), saving model to \"/home/ivan/code/uBERTa/models/checkpoints/ws100_step20_AAG_ACG_AGG_ATA_ATC_ATG_ATT_CTG_GTG_TTG_nopretrain_tokenlevel_signal/epoch=61-step=8803.ckpt\" as top 1\n"
     ]
    },
    {
     "data": {
      "application/vnd.jupyter.widget-view+json": {
       "model_id": "",
       "version_major": 2,
       "version_minor": 0
      },
      "text/plain": [
       "Validating: 0it [00:00, ?it/s]"
      ]
     },
     "metadata": {},
     "output_type": "display_data"
    },
    {
     "name": "stderr",
     "output_type": "stream",
     "text": [
      "Metric val_loss improved by 0.000 >= min_delta = 1e-06. New best score: 0.114\n",
      "Epoch 62, global step 8945: val_loss reached 0.11400 (best 0.11400), saving model to \"/home/ivan/code/uBERTa/models/checkpoints/ws100_step20_AAG_ACG_AGG_ATA_ATC_ATG_ATT_CTG_GTG_TTG_nopretrain_tokenlevel_signal/epoch=62-step=8945.ckpt\" as top 1\n"
     ]
    },
    {
     "data": {
      "application/vnd.jupyter.widget-view+json": {
       "model_id": "",
       "version_major": 2,
       "version_minor": 0
      },
      "text/plain": [
       "Validating: 0it [00:00, ?it/s]"
      ]
     },
     "metadata": {},
     "output_type": "display_data"
    },
    {
     "name": "stderr",
     "output_type": "stream",
     "text": [
      "Metric val_loss improved by 0.000 >= min_delta = 1e-06. New best score: 0.114\n",
      "Epoch 63, global step 9087: val_loss reached 0.11381 (best 0.11381), saving model to \"/home/ivan/code/uBERTa/models/checkpoints/ws100_step20_AAG_ACG_AGG_ATA_ATC_ATG_ATT_CTG_GTG_TTG_nopretrain_tokenlevel_signal/epoch=63-step=9087.ckpt\" as top 1\n"
     ]
    },
    {
     "data": {
      "application/vnd.jupyter.widget-view+json": {
       "model_id": "",
       "version_major": 2,
       "version_minor": 0
      },
      "text/plain": [
       "Validating: 0it [00:00, ?it/s]"
      ]
     },
     "metadata": {},
     "output_type": "display_data"
    },
    {
     "name": "stderr",
     "output_type": "stream",
     "text": [
      "Metric val_loss improved by 0.000 >= min_delta = 1e-06. New best score: 0.114\n",
      "Epoch 64, global step 9229: val_loss reached 0.11354 (best 0.11354), saving model to \"/home/ivan/code/uBERTa/models/checkpoints/ws100_step20_AAG_ACG_AGG_ATA_ATC_ATG_ATT_CTG_GTG_TTG_nopretrain_tokenlevel_signal/epoch=64-step=9229.ckpt\" as top 1\n"
     ]
    },
    {
     "data": {
      "application/vnd.jupyter.widget-view+json": {
       "model_id": "",
       "version_major": 2,
       "version_minor": 0
      },
      "text/plain": [
       "Validating: 0it [00:00, ?it/s]"
      ]
     },
     "metadata": {},
     "output_type": "display_data"
    },
    {
     "name": "stderr",
     "output_type": "stream",
     "text": [
      "Metric val_loss improved by 0.000 >= min_delta = 1e-06. New best score: 0.113\n",
      "Epoch 65, global step 9371: val_loss reached 0.11322 (best 0.11322), saving model to \"/home/ivan/code/uBERTa/models/checkpoints/ws100_step20_AAG_ACG_AGG_ATA_ATC_ATG_ATT_CTG_GTG_TTG_nopretrain_tokenlevel_signal/epoch=65-step=9371.ckpt\" as top 1\n"
     ]
    },
    {
     "data": {
      "application/vnd.jupyter.widget-view+json": {
       "model_id": "",
       "version_major": 2,
       "version_minor": 0
      },
      "text/plain": [
       "Validating: 0it [00:00, ?it/s]"
      ]
     },
     "metadata": {},
     "output_type": "display_data"
    },
    {
     "name": "stderr",
     "output_type": "stream",
     "text": [
      "Epoch 66, global step 9513: val_loss was not in top 1\n"
     ]
    },
    {
     "data": {
      "application/vnd.jupyter.widget-view+json": {
       "model_id": "",
       "version_major": 2,
       "version_minor": 0
      },
      "text/plain": [
       "Validating: 0it [00:00, ?it/s]"
      ]
     },
     "metadata": {},
     "output_type": "display_data"
    },
    {
     "name": "stderr",
     "output_type": "stream",
     "text": [
      "Metric val_loss improved by 0.000 >= min_delta = 1e-06. New best score: 0.113\n",
      "Epoch 67, global step 9655: val_loss reached 0.11302 (best 0.11302), saving model to \"/home/ivan/code/uBERTa/models/checkpoints/ws100_step20_AAG_ACG_AGG_ATA_ATC_ATG_ATT_CTG_GTG_TTG_nopretrain_tokenlevel_signal/epoch=67-step=9655.ckpt\" as top 1\n"
     ]
    },
    {
     "data": {
      "application/vnd.jupyter.widget-view+json": {
       "model_id": "",
       "version_major": 2,
       "version_minor": 0
      },
      "text/plain": [
       "Validating: 0it [00:00, ?it/s]"
      ]
     },
     "metadata": {},
     "output_type": "display_data"
    },
    {
     "name": "stderr",
     "output_type": "stream",
     "text": [
      "Metric val_loss improved by 0.000 >= min_delta = 1e-06. New best score: 0.113\n",
      "Epoch 68, global step 9797: val_loss reached 0.11283 (best 0.11283), saving model to \"/home/ivan/code/uBERTa/models/checkpoints/ws100_step20_AAG_ACG_AGG_ATA_ATC_ATG_ATT_CTG_GTG_TTG_nopretrain_tokenlevel_signal/epoch=68-step=9797.ckpt\" as top 1\n"
     ]
    },
    {
     "data": {
      "application/vnd.jupyter.widget-view+json": {
       "model_id": "",
       "version_major": 2,
       "version_minor": 0
      },
      "text/plain": [
       "Validating: 0it [00:00, ?it/s]"
      ]
     },
     "metadata": {},
     "output_type": "display_data"
    },
    {
     "name": "stderr",
     "output_type": "stream",
     "text": [
      "Metric val_loss improved by 0.000 >= min_delta = 1e-06. New best score: 0.113\n",
      "Epoch 69, global step 9939: val_loss reached 0.11251 (best 0.11251), saving model to \"/home/ivan/code/uBERTa/models/checkpoints/ws100_step20_AAG_ACG_AGG_ATA_ATC_ATG_ATT_CTG_GTG_TTG_nopretrain_tokenlevel_signal/epoch=69-step=9939.ckpt\" as top 1\n"
     ]
    },
    {
     "data": {
      "application/vnd.jupyter.widget-view+json": {
       "model_id": "",
       "version_major": 2,
       "version_minor": 0
      },
      "text/plain": [
       "Validating: 0it [00:00, ?it/s]"
      ]
     },
     "metadata": {},
     "output_type": "display_data"
    },
    {
     "name": "stderr",
     "output_type": "stream",
     "text": [
      "Epoch 70, global step 10081: val_loss was not in top 1\n"
     ]
    },
    {
     "data": {
      "application/vnd.jupyter.widget-view+json": {
       "model_id": "",
       "version_major": 2,
       "version_minor": 0
      },
      "text/plain": [
       "Validating: 0it [00:00, ?it/s]"
      ]
     },
     "metadata": {},
     "output_type": "display_data"
    },
    {
     "name": "stderr",
     "output_type": "stream",
     "text": [
      "Metric val_loss improved by 0.000 >= min_delta = 1e-06. New best score: 0.112\n",
      "Epoch 71, global step 10223: val_loss reached 0.11238 (best 0.11238), saving model to \"/home/ivan/code/uBERTa/models/checkpoints/ws100_step20_AAG_ACG_AGG_ATA_ATC_ATG_ATT_CTG_GTG_TTG_nopretrain_tokenlevel_signal/epoch=71-step=10223.ckpt\" as top 1\n"
     ]
    },
    {
     "data": {
      "application/vnd.jupyter.widget-view+json": {
       "model_id": "",
       "version_major": 2,
       "version_minor": 0
      },
      "text/plain": [
       "Validating: 0it [00:00, ?it/s]"
      ]
     },
     "metadata": {},
     "output_type": "display_data"
    },
    {
     "name": "stderr",
     "output_type": "stream",
     "text": [
      "Metric val_loss improved by 0.000 >= min_delta = 1e-06. New best score: 0.112\n",
      "Epoch 72, global step 10365: val_loss reached 0.11217 (best 0.11217), saving model to \"/home/ivan/code/uBERTa/models/checkpoints/ws100_step20_AAG_ACG_AGG_ATA_ATC_ATG_ATT_CTG_GTG_TTG_nopretrain_tokenlevel_signal/epoch=72-step=10365.ckpt\" as top 1\n"
     ]
    },
    {
     "data": {
      "application/vnd.jupyter.widget-view+json": {
       "model_id": "",
       "version_major": 2,
       "version_minor": 0
      },
      "text/plain": [
       "Validating: 0it [00:00, ?it/s]"
      ]
     },
     "metadata": {},
     "output_type": "display_data"
    },
    {
     "name": "stderr",
     "output_type": "stream",
     "text": [
      "Metric val_loss improved by 0.000 >= min_delta = 1e-06. New best score: 0.112\n",
      "Epoch 73, global step 10507: val_loss reached 0.11201 (best 0.11201), saving model to \"/home/ivan/code/uBERTa/models/checkpoints/ws100_step20_AAG_ACG_AGG_ATA_ATC_ATG_ATT_CTG_GTG_TTG_nopretrain_tokenlevel_signal/epoch=73-step=10507.ckpt\" as top 1\n"
     ]
    },
    {
     "data": {
      "application/vnd.jupyter.widget-view+json": {
       "model_id": "",
       "version_major": 2,
       "version_minor": 0
      },
      "text/plain": [
       "Validating: 0it [00:00, ?it/s]"
      ]
     },
     "metadata": {},
     "output_type": "display_data"
    },
    {
     "name": "stderr",
     "output_type": "stream",
     "text": [
      "Metric val_loss improved by 0.000 >= min_delta = 1e-06. New best score: 0.112\n",
      "Epoch 74, global step 10649: val_loss reached 0.11198 (best 0.11198), saving model to \"/home/ivan/code/uBERTa/models/checkpoints/ws100_step20_AAG_ACG_AGG_ATA_ATC_ATG_ATT_CTG_GTG_TTG_nopretrain_tokenlevel_signal/epoch=74-step=10649.ckpt\" as top 1\n"
     ]
    },
    {
     "data": {
      "application/vnd.jupyter.widget-view+json": {
       "model_id": "",
       "version_major": 2,
       "version_minor": 0
      },
      "text/plain": [
       "Validating: 0it [00:00, ?it/s]"
      ]
     },
     "metadata": {},
     "output_type": "display_data"
    },
    {
     "name": "stderr",
     "output_type": "stream",
     "text": [
      "Metric val_loss improved by 0.000 >= min_delta = 1e-06. New best score: 0.112\n",
      "Epoch 75, global step 10791: val_loss reached 0.11171 (best 0.11171), saving model to \"/home/ivan/code/uBERTa/models/checkpoints/ws100_step20_AAG_ACG_AGG_ATA_ATC_ATG_ATT_CTG_GTG_TTG_nopretrain_tokenlevel_signal/epoch=75-step=10791.ckpt\" as top 1\n"
     ]
    },
    {
     "data": {
      "application/vnd.jupyter.widget-view+json": {
       "model_id": "",
       "version_major": 2,
       "version_minor": 0
      },
      "text/plain": [
       "Validating: 0it [00:00, ?it/s]"
      ]
     },
     "metadata": {},
     "output_type": "display_data"
    },
    {
     "name": "stderr",
     "output_type": "stream",
     "text": [
      "Metric val_loss improved by 0.000 >= min_delta = 1e-06. New best score: 0.111\n",
      "Epoch 76, global step 10933: val_loss reached 0.11131 (best 0.11131), saving model to \"/home/ivan/code/uBERTa/models/checkpoints/ws100_step20_AAG_ACG_AGG_ATA_ATC_ATG_ATT_CTG_GTG_TTG_nopretrain_tokenlevel_signal/epoch=76-step=10933.ckpt\" as top 1\n"
     ]
    },
    {
     "data": {
      "application/vnd.jupyter.widget-view+json": {
       "model_id": "",
       "version_major": 2,
       "version_minor": 0
      },
      "text/plain": [
       "Validating: 0it [00:00, ?it/s]"
      ]
     },
     "metadata": {},
     "output_type": "display_data"
    },
    {
     "name": "stderr",
     "output_type": "stream",
     "text": [
      "Epoch 77, global step 11075: val_loss was not in top 1\n"
     ]
    },
    {
     "data": {
      "application/vnd.jupyter.widget-view+json": {
       "model_id": "",
       "version_major": 2,
       "version_minor": 0
      },
      "text/plain": [
       "Validating: 0it [00:00, ?it/s]"
      ]
     },
     "metadata": {},
     "output_type": "display_data"
    },
    {
     "name": "stderr",
     "output_type": "stream",
     "text": [
      "Metric val_loss improved by 0.000 >= min_delta = 1e-06. New best score: 0.111\n",
      "Epoch 78, global step 11217: val_loss reached 0.11102 (best 0.11102), saving model to \"/home/ivan/code/uBERTa/models/checkpoints/ws100_step20_AAG_ACG_AGG_ATA_ATC_ATG_ATT_CTG_GTG_TTG_nopretrain_tokenlevel_signal/epoch=78-step=11217.ckpt\" as top 1\n"
     ]
    },
    {
     "data": {
      "application/vnd.jupyter.widget-view+json": {
       "model_id": "",
       "version_major": 2,
       "version_minor": 0
      },
      "text/plain": [
       "Validating: 0it [00:00, ?it/s]"
      ]
     },
     "metadata": {},
     "output_type": "display_data"
    },
    {
     "name": "stderr",
     "output_type": "stream",
     "text": [
      "Epoch 79, global step 11359: val_loss was not in top 1\n"
     ]
    },
    {
     "data": {
      "application/vnd.jupyter.widget-view+json": {
       "model_id": "",
       "version_major": 2,
       "version_minor": 0
      },
      "text/plain": [
       "Validating: 0it [00:00, ?it/s]"
      ]
     },
     "metadata": {},
     "output_type": "display_data"
    },
    {
     "name": "stderr",
     "output_type": "stream",
     "text": [
      "Metric val_loss improved by 0.000 >= min_delta = 1e-06. New best score: 0.111\n",
      "Epoch 80, global step 11501: val_loss reached 0.11084 (best 0.11084), saving model to \"/home/ivan/code/uBERTa/models/checkpoints/ws100_step20_AAG_ACG_AGG_ATA_ATC_ATG_ATT_CTG_GTG_TTG_nopretrain_tokenlevel_signal/epoch=80-step=11501.ckpt\" as top 1\n"
     ]
    },
    {
     "data": {
      "application/vnd.jupyter.widget-view+json": {
       "model_id": "",
       "version_major": 2,
       "version_minor": 0
      },
      "text/plain": [
       "Validating: 0it [00:00, ?it/s]"
      ]
     },
     "metadata": {},
     "output_type": "display_data"
    },
    {
     "name": "stderr",
     "output_type": "stream",
     "text": [
      "Epoch 81, global step 11643: val_loss was not in top 1\n"
     ]
    },
    {
     "data": {
      "application/vnd.jupyter.widget-view+json": {
       "model_id": "",
       "version_major": 2,
       "version_minor": 0
      },
      "text/plain": [
       "Validating: 0it [00:00, ?it/s]"
      ]
     },
     "metadata": {},
     "output_type": "display_data"
    },
    {
     "name": "stderr",
     "output_type": "stream",
     "text": [
      "Epoch 82, global step 11785: val_loss was not in top 1\n"
     ]
    },
    {
     "data": {
      "application/vnd.jupyter.widget-view+json": {
       "model_id": "",
       "version_major": 2,
       "version_minor": 0
      },
      "text/plain": [
       "Validating: 0it [00:00, ?it/s]"
      ]
     },
     "metadata": {},
     "output_type": "display_data"
    },
    {
     "name": "stderr",
     "output_type": "stream",
     "text": [
      "Metric val_loss improved by 0.000 >= min_delta = 1e-06. New best score: 0.111\n",
      "Epoch 83, global step 11927: val_loss reached 0.11079 (best 0.11079), saving model to \"/home/ivan/code/uBERTa/models/checkpoints/ws100_step20_AAG_ACG_AGG_ATA_ATC_ATG_ATT_CTG_GTG_TTG_nopretrain_tokenlevel_signal/epoch=83-step=11927.ckpt\" as top 1\n"
     ]
    },
    {
     "data": {
      "application/vnd.jupyter.widget-view+json": {
       "model_id": "",
       "version_major": 2,
       "version_minor": 0
      },
      "text/plain": [
       "Validating: 0it [00:00, ?it/s]"
      ]
     },
     "metadata": {},
     "output_type": "display_data"
    },
    {
     "name": "stderr",
     "output_type": "stream",
     "text": [
      "Metric val_loss improved by 0.000 >= min_delta = 1e-06. New best score: 0.110\n",
      "Epoch 84, global step 12069: val_loss reached 0.11047 (best 0.11047), saving model to \"/home/ivan/code/uBERTa/models/checkpoints/ws100_step20_AAG_ACG_AGG_ATA_ATC_ATG_ATT_CTG_GTG_TTG_nopretrain_tokenlevel_signal/epoch=84-step=12069.ckpt\" as top 1\n"
     ]
    },
    {
     "data": {
      "application/vnd.jupyter.widget-view+json": {
       "model_id": "",
       "version_major": 2,
       "version_minor": 0
      },
      "text/plain": [
       "Validating: 0it [00:00, ?it/s]"
      ]
     },
     "metadata": {},
     "output_type": "display_data"
    },
    {
     "name": "stderr",
     "output_type": "stream",
     "text": [
      "Metric val_loss improved by 0.000 >= min_delta = 1e-06. New best score: 0.110\n",
      "Epoch 85, global step 12211: val_loss reached 0.11046 (best 0.11046), saving model to \"/home/ivan/code/uBERTa/models/checkpoints/ws100_step20_AAG_ACG_AGG_ATA_ATC_ATG_ATT_CTG_GTG_TTG_nopretrain_tokenlevel_signal/epoch=85-step=12211.ckpt\" as top 1\n"
     ]
    },
    {
     "data": {
      "application/vnd.jupyter.widget-view+json": {
       "model_id": "",
       "version_major": 2,
       "version_minor": 0
      },
      "text/plain": [
       "Validating: 0it [00:00, ?it/s]"
      ]
     },
     "metadata": {},
     "output_type": "display_data"
    },
    {
     "name": "stderr",
     "output_type": "stream",
     "text": [
      "Metric val_loss improved by 0.000 >= min_delta = 1e-06. New best score: 0.110\n",
      "Epoch 86, global step 12353: val_loss reached 0.11022 (best 0.11022), saving model to \"/home/ivan/code/uBERTa/models/checkpoints/ws100_step20_AAG_ACG_AGG_ATA_ATC_ATG_ATT_CTG_GTG_TTG_nopretrain_tokenlevel_signal/epoch=86-step=12353.ckpt\" as top 1\n"
     ]
    },
    {
     "data": {
      "application/vnd.jupyter.widget-view+json": {
       "model_id": "",
       "version_major": 2,
       "version_minor": 0
      },
      "text/plain": [
       "Validating: 0it [00:00, ?it/s]"
      ]
     },
     "metadata": {},
     "output_type": "display_data"
    },
    {
     "name": "stderr",
     "output_type": "stream",
     "text": [
      "Metric val_loss improved by 0.000 >= min_delta = 1e-06. New best score: 0.110\n",
      "Epoch 87, global step 12495: val_loss reached 0.11018 (best 0.11018), saving model to \"/home/ivan/code/uBERTa/models/checkpoints/ws100_step20_AAG_ACG_AGG_ATA_ATC_ATG_ATT_CTG_GTG_TTG_nopretrain_tokenlevel_signal/epoch=87-step=12495.ckpt\" as top 1\n"
     ]
    },
    {
     "data": {
      "application/vnd.jupyter.widget-view+json": {
       "model_id": "",
       "version_major": 2,
       "version_minor": 0
      },
      "text/plain": [
       "Validating: 0it [00:00, ?it/s]"
      ]
     },
     "metadata": {},
     "output_type": "display_data"
    },
    {
     "name": "stderr",
     "output_type": "stream",
     "text": [
      "Metric val_loss improved by 0.000 >= min_delta = 1e-06. New best score: 0.110\n",
      "Epoch 88, global step 12637: val_loss reached 0.11009 (best 0.11009), saving model to \"/home/ivan/code/uBERTa/models/checkpoints/ws100_step20_AAG_ACG_AGG_ATA_ATC_ATG_ATT_CTG_GTG_TTG_nopretrain_tokenlevel_signal/epoch=88-step=12637.ckpt\" as top 1\n"
     ]
    },
    {
     "data": {
      "application/vnd.jupyter.widget-view+json": {
       "model_id": "",
       "version_major": 2,
       "version_minor": 0
      },
      "text/plain": [
       "Validating: 0it [00:00, ?it/s]"
      ]
     },
     "metadata": {},
     "output_type": "display_data"
    },
    {
     "name": "stderr",
     "output_type": "stream",
     "text": [
      "Epoch 89, global step 12779: val_loss was not in top 1\n"
     ]
    },
    {
     "data": {
      "application/vnd.jupyter.widget-view+json": {
       "model_id": "",
       "version_major": 2,
       "version_minor": 0
      },
      "text/plain": [
       "Validating: 0it [00:00, ?it/s]"
      ]
     },
     "metadata": {},
     "output_type": "display_data"
    },
    {
     "name": "stderr",
     "output_type": "stream",
     "text": [
      "Epoch 90, global step 12921: val_loss was not in top 1\n"
     ]
    },
    {
     "data": {
      "application/vnd.jupyter.widget-view+json": {
       "model_id": "",
       "version_major": 2,
       "version_minor": 0
      },
      "text/plain": [
       "Validating: 0it [00:00, ?it/s]"
      ]
     },
     "metadata": {},
     "output_type": "display_data"
    },
    {
     "name": "stderr",
     "output_type": "stream",
     "text": [
      "Metric val_loss improved by 0.000 >= min_delta = 1e-06. New best score: 0.110\n",
      "Epoch 91, global step 13063: val_loss reached 0.10983 (best 0.10983), saving model to \"/home/ivan/code/uBERTa/models/checkpoints/ws100_step20_AAG_ACG_AGG_ATA_ATC_ATG_ATT_CTG_GTG_TTG_nopretrain_tokenlevel_signal/epoch=91-step=13063.ckpt\" as top 1\n"
     ]
    },
    {
     "data": {
      "application/vnd.jupyter.widget-view+json": {
       "model_id": "",
       "version_major": 2,
       "version_minor": 0
      },
      "text/plain": [
       "Validating: 0it [00:00, ?it/s]"
      ]
     },
     "metadata": {},
     "output_type": "display_data"
    },
    {
     "name": "stderr",
     "output_type": "stream",
     "text": [
      "Epoch 92, global step 13205: val_loss was not in top 1\n"
     ]
    },
    {
     "data": {
      "application/vnd.jupyter.widget-view+json": {
       "model_id": "",
       "version_major": 2,
       "version_minor": 0
      },
      "text/plain": [
       "Validating: 0it [00:00, ?it/s]"
      ]
     },
     "metadata": {},
     "output_type": "display_data"
    },
    {
     "name": "stderr",
     "output_type": "stream",
     "text": [
      "Epoch 93, global step 13347: val_loss was not in top 1\n"
     ]
    },
    {
     "data": {
      "application/vnd.jupyter.widget-view+json": {
       "model_id": "",
       "version_major": 2,
       "version_minor": 0
      },
      "text/plain": [
       "Validating: 0it [00:00, ?it/s]"
      ]
     },
     "metadata": {},
     "output_type": "display_data"
    },
    {
     "name": "stderr",
     "output_type": "stream",
     "text": [
      "Metric val_loss improved by 0.000 >= min_delta = 1e-06. New best score: 0.110\n",
      "Epoch 94, global step 13489: val_loss reached 0.10961 (best 0.10961), saving model to \"/home/ivan/code/uBERTa/models/checkpoints/ws100_step20_AAG_ACG_AGG_ATA_ATC_ATG_ATT_CTG_GTG_TTG_nopretrain_tokenlevel_signal/epoch=94-step=13489.ckpt\" as top 1\n"
     ]
    },
    {
     "data": {
      "application/vnd.jupyter.widget-view+json": {
       "model_id": "",
       "version_major": 2,
       "version_minor": 0
      },
      "text/plain": [
       "Validating: 0it [00:00, ?it/s]"
      ]
     },
     "metadata": {},
     "output_type": "display_data"
    },
    {
     "name": "stderr",
     "output_type": "stream",
     "text": [
      "Epoch 95, global step 13631: val_loss was not in top 1\n"
     ]
    },
    {
     "data": {
      "application/vnd.jupyter.widget-view+json": {
       "model_id": "",
       "version_major": 2,
       "version_minor": 0
      },
      "text/plain": [
       "Validating: 0it [00:00, ?it/s]"
      ]
     },
     "metadata": {},
     "output_type": "display_data"
    },
    {
     "name": "stderr",
     "output_type": "stream",
     "text": [
      "Metric val_loss improved by 0.000 >= min_delta = 1e-06. New best score: 0.110\n",
      "Epoch 96, global step 13773: val_loss reached 0.10953 (best 0.10953), saving model to \"/home/ivan/code/uBERTa/models/checkpoints/ws100_step20_AAG_ACG_AGG_ATA_ATC_ATG_ATT_CTG_GTG_TTG_nopretrain_tokenlevel_signal/epoch=96-step=13773.ckpt\" as top 1\n"
     ]
    },
    {
     "data": {
      "application/vnd.jupyter.widget-view+json": {
       "model_id": "",
       "version_major": 2,
       "version_minor": 0
      },
      "text/plain": [
       "Validating: 0it [00:00, ?it/s]"
      ]
     },
     "metadata": {},
     "output_type": "display_data"
    },
    {
     "name": "stderr",
     "output_type": "stream",
     "text": [
      "Metric val_loss improved by 0.000 >= min_delta = 1e-06. New best score: 0.109\n",
      "Epoch 97, global step 13915: val_loss reached 0.10950 (best 0.10950), saving model to \"/home/ivan/code/uBERTa/models/checkpoints/ws100_step20_AAG_ACG_AGG_ATA_ATC_ATG_ATT_CTG_GTG_TTG_nopretrain_tokenlevel_signal/epoch=97-step=13915.ckpt\" as top 1\n"
     ]
    },
    {
     "data": {
      "application/vnd.jupyter.widget-view+json": {
       "model_id": "",
       "version_major": 2,
       "version_minor": 0
      },
      "text/plain": [
       "Validating: 0it [00:00, ?it/s]"
      ]
     },
     "metadata": {},
     "output_type": "display_data"
    },
    {
     "name": "stderr",
     "output_type": "stream",
     "text": [
      "Metric val_loss improved by 0.000 >= min_delta = 1e-06. New best score: 0.109\n",
      "Epoch 98, global step 14057: val_loss reached 0.10937 (best 0.10937), saving model to \"/home/ivan/code/uBERTa/models/checkpoints/ws100_step20_AAG_ACG_AGG_ATA_ATC_ATG_ATT_CTG_GTG_TTG_nopretrain_tokenlevel_signal/epoch=98-step=14057.ckpt\" as top 1\n"
     ]
    },
    {
     "data": {
      "application/vnd.jupyter.widget-view+json": {
       "model_id": "",
       "version_major": 2,
       "version_minor": 0
      },
      "text/plain": [
       "Validating: 0it [00:00, ?it/s]"
      ]
     },
     "metadata": {},
     "output_type": "display_data"
    },
    {
     "name": "stderr",
     "output_type": "stream",
     "text": [
      "Metric val_loss improved by 0.000 >= min_delta = 1e-06. New best score: 0.109\n",
      "Epoch 99, global step 14199: val_loss reached 0.10934 (best 0.10934), saving model to \"/home/ivan/code/uBERTa/models/checkpoints/ws100_step20_AAG_ACG_AGG_ATA_ATC_ATG_ATT_CTG_GTG_TTG_nopretrain_tokenlevel_signal/epoch=99-step=14199.ckpt\" as top 1\n"
     ]
    },
    {
     "data": {
      "application/vnd.jupyter.widget-view+json": {
       "model_id": "",
       "version_major": 2,
       "version_minor": 0
      },
      "text/plain": [
       "Validating: 0it [00:00, ?it/s]"
      ]
     },
     "metadata": {},
     "output_type": "display_data"
    },
    {
     "name": "stderr",
     "output_type": "stream",
     "text": [
      "Metric val_loss improved by 0.000 >= min_delta = 1e-06. New best score: 0.109\n",
      "Epoch 100, global step 14341: val_loss reached 0.10912 (best 0.10912), saving model to \"/home/ivan/code/uBERTa/models/checkpoints/ws100_step20_AAG_ACG_AGG_ATA_ATC_ATG_ATT_CTG_GTG_TTG_nopretrain_tokenlevel_signal/epoch=100-step=14341.ckpt\" as top 1\n"
     ]
    },
    {
     "data": {
      "application/vnd.jupyter.widget-view+json": {
       "model_id": "",
       "version_major": 2,
       "version_minor": 0
      },
      "text/plain": [
       "Validating: 0it [00:00, ?it/s]"
      ]
     },
     "metadata": {},
     "output_type": "display_data"
    },
    {
     "name": "stderr",
     "output_type": "stream",
     "text": [
      "Epoch 101, global step 14483: val_loss was not in top 1\n"
     ]
    },
    {
     "data": {
      "application/vnd.jupyter.widget-view+json": {
       "model_id": "",
       "version_major": 2,
       "version_minor": 0
      },
      "text/plain": [
       "Validating: 0it [00:00, ?it/s]"
      ]
     },
     "metadata": {},
     "output_type": "display_data"
    },
    {
     "name": "stderr",
     "output_type": "stream",
     "text": [
      "Metric val_loss improved by 0.000 >= min_delta = 1e-06. New best score: 0.109\n",
      "Epoch 102, global step 14625: val_loss reached 0.10910 (best 0.10910), saving model to \"/home/ivan/code/uBERTa/models/checkpoints/ws100_step20_AAG_ACG_AGG_ATA_ATC_ATG_ATT_CTG_GTG_TTG_nopretrain_tokenlevel_signal/epoch=102-step=14625.ckpt\" as top 1\n"
     ]
    },
    {
     "data": {
      "application/vnd.jupyter.widget-view+json": {
       "model_id": "",
       "version_major": 2,
       "version_minor": 0
      },
      "text/plain": [
       "Validating: 0it [00:00, ?it/s]"
      ]
     },
     "metadata": {},
     "output_type": "display_data"
    },
    {
     "name": "stderr",
     "output_type": "stream",
     "text": [
      "Epoch 103, global step 14767: val_loss was not in top 1\n"
     ]
    },
    {
     "data": {
      "application/vnd.jupyter.widget-view+json": {
       "model_id": "",
       "version_major": 2,
       "version_minor": 0
      },
      "text/plain": [
       "Validating: 0it [00:00, ?it/s]"
      ]
     },
     "metadata": {},
     "output_type": "display_data"
    },
    {
     "name": "stderr",
     "output_type": "stream",
     "text": [
      "Metric val_loss improved by 0.000 >= min_delta = 1e-06. New best score: 0.109\n",
      "Epoch 104, global step 14909: val_loss reached 0.10885 (best 0.10885), saving model to \"/home/ivan/code/uBERTa/models/checkpoints/ws100_step20_AAG_ACG_AGG_ATA_ATC_ATG_ATT_CTG_GTG_TTG_nopretrain_tokenlevel_signal/epoch=104-step=14909.ckpt\" as top 1\n"
     ]
    },
    {
     "data": {
      "application/vnd.jupyter.widget-view+json": {
       "model_id": "",
       "version_major": 2,
       "version_minor": 0
      },
      "text/plain": [
       "Validating: 0it [00:00, ?it/s]"
      ]
     },
     "metadata": {},
     "output_type": "display_data"
    },
    {
     "name": "stderr",
     "output_type": "stream",
     "text": [
      "Metric val_loss improved by 0.000 >= min_delta = 1e-06. New best score: 0.109\n",
      "Epoch 105, global step 15051: val_loss reached 0.10875 (best 0.10875), saving model to \"/home/ivan/code/uBERTa/models/checkpoints/ws100_step20_AAG_ACG_AGG_ATA_ATC_ATG_ATT_CTG_GTG_TTG_nopretrain_tokenlevel_signal/epoch=105-step=15051.ckpt\" as top 1\n"
     ]
    },
    {
     "data": {
      "application/vnd.jupyter.widget-view+json": {
       "model_id": "",
       "version_major": 2,
       "version_minor": 0
      },
      "text/plain": [
       "Validating: 0it [00:00, ?it/s]"
      ]
     },
     "metadata": {},
     "output_type": "display_data"
    },
    {
     "name": "stderr",
     "output_type": "stream",
     "text": [
      "Metric val_loss improved by 0.000 >= min_delta = 1e-06. New best score: 0.109\n",
      "Epoch 106, global step 15193: val_loss reached 0.10871 (best 0.10871), saving model to \"/home/ivan/code/uBERTa/models/checkpoints/ws100_step20_AAG_ACG_AGG_ATA_ATC_ATG_ATT_CTG_GTG_TTG_nopretrain_tokenlevel_signal/epoch=106-step=15193.ckpt\" as top 1\n"
     ]
    },
    {
     "data": {
      "application/vnd.jupyter.widget-view+json": {
       "model_id": "",
       "version_major": 2,
       "version_minor": 0
      },
      "text/plain": [
       "Validating: 0it [00:00, ?it/s]"
      ]
     },
     "metadata": {},
     "output_type": "display_data"
    },
    {
     "name": "stderr",
     "output_type": "stream",
     "text": [
      "Metric val_loss improved by 0.000 >= min_delta = 1e-06. New best score: 0.109\n",
      "Epoch 107, global step 15335: val_loss reached 0.10855 (best 0.10855), saving model to \"/home/ivan/code/uBERTa/models/checkpoints/ws100_step20_AAG_ACG_AGG_ATA_ATC_ATG_ATT_CTG_GTG_TTG_nopretrain_tokenlevel_signal/epoch=107-step=15335.ckpt\" as top 1\n"
     ]
    },
    {
     "data": {
      "application/vnd.jupyter.widget-view+json": {
       "model_id": "",
       "version_major": 2,
       "version_minor": 0
      },
      "text/plain": [
       "Validating: 0it [00:00, ?it/s]"
      ]
     },
     "metadata": {},
     "output_type": "display_data"
    },
    {
     "name": "stderr",
     "output_type": "stream",
     "text": [
      "Epoch 108, global step 15477: val_loss was not in top 1\n"
     ]
    },
    {
     "data": {
      "application/vnd.jupyter.widget-view+json": {
       "model_id": "",
       "version_major": 2,
       "version_minor": 0
      },
      "text/plain": [
       "Validating: 0it [00:00, ?it/s]"
      ]
     },
     "metadata": {},
     "output_type": "display_data"
    },
    {
     "name": "stderr",
     "output_type": "stream",
     "text": [
      "Epoch 109, global step 15619: val_loss was not in top 1\n"
     ]
    },
    {
     "data": {
      "application/vnd.jupyter.widget-view+json": {
       "model_id": "",
       "version_major": 2,
       "version_minor": 0
      },
      "text/plain": [
       "Validating: 0it [00:00, ?it/s]"
      ]
     },
     "metadata": {},
     "output_type": "display_data"
    },
    {
     "name": "stderr",
     "output_type": "stream",
     "text": [
      "Epoch 110, global step 15761: val_loss was not in top 1\n"
     ]
    },
    {
     "data": {
      "application/vnd.jupyter.widget-view+json": {
       "model_id": "",
       "version_major": 2,
       "version_minor": 0
      },
      "text/plain": [
       "Validating: 0it [00:00, ?it/s]"
      ]
     },
     "metadata": {},
     "output_type": "display_data"
    },
    {
     "name": "stderr",
     "output_type": "stream",
     "text": [
      "Metric val_loss improved by 0.000 >= min_delta = 1e-06. New best score: 0.108\n",
      "Epoch 111, global step 15903: val_loss reached 0.10847 (best 0.10847), saving model to \"/home/ivan/code/uBERTa/models/checkpoints/ws100_step20_AAG_ACG_AGG_ATA_ATC_ATG_ATT_CTG_GTG_TTG_nopretrain_tokenlevel_signal/epoch=111-step=15903.ckpt\" as top 1\n"
     ]
    },
    {
     "data": {
      "application/vnd.jupyter.widget-view+json": {
       "model_id": "",
       "version_major": 2,
       "version_minor": 0
      },
      "text/plain": [
       "Validating: 0it [00:00, ?it/s]"
      ]
     },
     "metadata": {},
     "output_type": "display_data"
    },
    {
     "name": "stderr",
     "output_type": "stream",
     "text": [
      "Metric val_loss improved by 0.000 >= min_delta = 1e-06. New best score: 0.108\n",
      "Epoch 112, global step 16045: val_loss reached 0.10835 (best 0.10835), saving model to \"/home/ivan/code/uBERTa/models/checkpoints/ws100_step20_AAG_ACG_AGG_ATA_ATC_ATG_ATT_CTG_GTG_TTG_nopretrain_tokenlevel_signal/epoch=112-step=16045.ckpt\" as top 1\n"
     ]
    },
    {
     "data": {
      "application/vnd.jupyter.widget-view+json": {
       "model_id": "",
       "version_major": 2,
       "version_minor": 0
      },
      "text/plain": [
       "Validating: 0it [00:00, ?it/s]"
      ]
     },
     "metadata": {},
     "output_type": "display_data"
    },
    {
     "name": "stderr",
     "output_type": "stream",
     "text": [
      "Epoch 113, global step 16187: val_loss was not in top 1\n"
     ]
    },
    {
     "data": {
      "application/vnd.jupyter.widget-view+json": {
       "model_id": "",
       "version_major": 2,
       "version_minor": 0
      },
      "text/plain": [
       "Validating: 0it [00:00, ?it/s]"
      ]
     },
     "metadata": {},
     "output_type": "display_data"
    },
    {
     "name": "stderr",
     "output_type": "stream",
     "text": [
      "Metric val_loss improved by 0.000 >= min_delta = 1e-06. New best score: 0.108\n",
      "Epoch 114, global step 16329: val_loss reached 0.10832 (best 0.10832), saving model to \"/home/ivan/code/uBERTa/models/checkpoints/ws100_step20_AAG_ACG_AGG_ATA_ATC_ATG_ATT_CTG_GTG_TTG_nopretrain_tokenlevel_signal/epoch=114-step=16329.ckpt\" as top 1\n"
     ]
    },
    {
     "data": {
      "application/vnd.jupyter.widget-view+json": {
       "model_id": "",
       "version_major": 2,
       "version_minor": 0
      },
      "text/plain": [
       "Validating: 0it [00:00, ?it/s]"
      ]
     },
     "metadata": {},
     "output_type": "display_data"
    },
    {
     "name": "stderr",
     "output_type": "stream",
     "text": [
      "Epoch 115, global step 16471: val_loss was not in top 1\n"
     ]
    },
    {
     "data": {
      "application/vnd.jupyter.widget-view+json": {
       "model_id": "",
       "version_major": 2,
       "version_minor": 0
      },
      "text/plain": [
       "Validating: 0it [00:00, ?it/s]"
      ]
     },
     "metadata": {},
     "output_type": "display_data"
    },
    {
     "name": "stderr",
     "output_type": "stream",
     "text": [
      "Metric val_loss improved by 0.000 >= min_delta = 1e-06. New best score: 0.108\n",
      "Epoch 116, global step 16613: val_loss reached 0.10810 (best 0.10810), saving model to \"/home/ivan/code/uBERTa/models/checkpoints/ws100_step20_AAG_ACG_AGG_ATA_ATC_ATG_ATT_CTG_GTG_TTG_nopretrain_tokenlevel_signal/epoch=116-step=16613.ckpt\" as top 1\n"
     ]
    },
    {
     "data": {
      "application/vnd.jupyter.widget-view+json": {
       "model_id": "",
       "version_major": 2,
       "version_minor": 0
      },
      "text/plain": [
       "Validating: 0it [00:00, ?it/s]"
      ]
     },
     "metadata": {},
     "output_type": "display_data"
    },
    {
     "name": "stderr",
     "output_type": "stream",
     "text": [
      "Epoch 117, global step 16755: val_loss was not in top 1\n"
     ]
    },
    {
     "data": {
      "application/vnd.jupyter.widget-view+json": {
       "model_id": "",
       "version_major": 2,
       "version_minor": 0
      },
      "text/plain": [
       "Validating: 0it [00:00, ?it/s]"
      ]
     },
     "metadata": {},
     "output_type": "display_data"
    },
    {
     "name": "stderr",
     "output_type": "stream",
     "text": [
      "Epoch 118, global step 16897: val_loss was not in top 1\n"
     ]
    },
    {
     "data": {
      "application/vnd.jupyter.widget-view+json": {
       "model_id": "",
       "version_major": 2,
       "version_minor": 0
      },
      "text/plain": [
       "Validating: 0it [00:00, ?it/s]"
      ]
     },
     "metadata": {},
     "output_type": "display_data"
    },
    {
     "name": "stderr",
     "output_type": "stream",
     "text": [
      "Metric val_loss improved by 0.000 >= min_delta = 1e-06. New best score: 0.108\n",
      "Epoch 119, global step 17039: val_loss reached 0.10805 (best 0.10805), saving model to \"/home/ivan/code/uBERTa/models/checkpoints/ws100_step20_AAG_ACG_AGG_ATA_ATC_ATG_ATT_CTG_GTG_TTG_nopretrain_tokenlevel_signal/epoch=119-step=17039.ckpt\" as top 1\n"
     ]
    },
    {
     "data": {
      "application/vnd.jupyter.widget-view+json": {
       "model_id": "",
       "version_major": 2,
       "version_minor": 0
      },
      "text/plain": [
       "Validating: 0it [00:00, ?it/s]"
      ]
     },
     "metadata": {},
     "output_type": "display_data"
    },
    {
     "name": "stderr",
     "output_type": "stream",
     "text": [
      "Metric val_loss improved by 0.000 >= min_delta = 1e-06. New best score: 0.108\n",
      "Epoch 120, global step 17181: val_loss reached 0.10805 (best 0.10805), saving model to \"/home/ivan/code/uBERTa/models/checkpoints/ws100_step20_AAG_ACG_AGG_ATA_ATC_ATG_ATT_CTG_GTG_TTG_nopretrain_tokenlevel_signal/epoch=120-step=17181.ckpt\" as top 1\n"
     ]
    },
    {
     "data": {
      "application/vnd.jupyter.widget-view+json": {
       "model_id": "",
       "version_major": 2,
       "version_minor": 0
      },
      "text/plain": [
       "Validating: 0it [00:00, ?it/s]"
      ]
     },
     "metadata": {},
     "output_type": "display_data"
    },
    {
     "name": "stderr",
     "output_type": "stream",
     "text": [
      "Metric val_loss improved by 0.000 >= min_delta = 1e-06. New best score: 0.108\n",
      "Epoch 121, global step 17323: val_loss reached 0.10792 (best 0.10792), saving model to \"/home/ivan/code/uBERTa/models/checkpoints/ws100_step20_AAG_ACG_AGG_ATA_ATC_ATG_ATT_CTG_GTG_TTG_nopretrain_tokenlevel_signal/epoch=121-step=17323.ckpt\" as top 1\n"
     ]
    },
    {
     "data": {
      "application/vnd.jupyter.widget-view+json": {
       "model_id": "",
       "version_major": 2,
       "version_minor": 0
      },
      "text/plain": [
       "Validating: 0it [00:00, ?it/s]"
      ]
     },
     "metadata": {},
     "output_type": "display_data"
    },
    {
     "name": "stderr",
     "output_type": "stream",
     "text": [
      "Epoch 122, global step 17465: val_loss was not in top 1\n"
     ]
    },
    {
     "data": {
      "application/vnd.jupyter.widget-view+json": {
       "model_id": "",
       "version_major": 2,
       "version_minor": 0
      },
      "text/plain": [
       "Validating: 0it [00:00, ?it/s]"
      ]
     },
     "metadata": {},
     "output_type": "display_data"
    },
    {
     "name": "stderr",
     "output_type": "stream",
     "text": [
      "Metric val_loss improved by 0.000 >= min_delta = 1e-06. New best score: 0.108\n",
      "Epoch 123, global step 17607: val_loss reached 0.10783 (best 0.10783), saving model to \"/home/ivan/code/uBERTa/models/checkpoints/ws100_step20_AAG_ACG_AGG_ATA_ATC_ATG_ATT_CTG_GTG_TTG_nopretrain_tokenlevel_signal/epoch=123-step=17607.ckpt\" as top 1\n"
     ]
    },
    {
     "data": {
      "application/vnd.jupyter.widget-view+json": {
       "model_id": "",
       "version_major": 2,
       "version_minor": 0
      },
      "text/plain": [
       "Validating: 0it [00:00, ?it/s]"
      ]
     },
     "metadata": {},
     "output_type": "display_data"
    },
    {
     "name": "stderr",
     "output_type": "stream",
     "text": [
      "Metric val_loss improved by 0.000 >= min_delta = 1e-06. New best score: 0.108\n",
      "Epoch 124, global step 17749: val_loss reached 0.10781 (best 0.10781), saving model to \"/home/ivan/code/uBERTa/models/checkpoints/ws100_step20_AAG_ACG_AGG_ATA_ATC_ATG_ATT_CTG_GTG_TTG_nopretrain_tokenlevel_signal/epoch=124-step=17749.ckpt\" as top 1\n"
     ]
    },
    {
     "data": {
      "application/vnd.jupyter.widget-view+json": {
       "model_id": "",
       "version_major": 2,
       "version_minor": 0
      },
      "text/plain": [
       "Validating: 0it [00:00, ?it/s]"
      ]
     },
     "metadata": {},
     "output_type": "display_data"
    },
    {
     "name": "stderr",
     "output_type": "stream",
     "text": [
      "Metric val_loss improved by 0.000 >= min_delta = 1e-06. New best score: 0.108\n",
      "Epoch 125, global step 17891: val_loss reached 0.10775 (best 0.10775), saving model to \"/home/ivan/code/uBERTa/models/checkpoints/ws100_step20_AAG_ACG_AGG_ATA_ATC_ATG_ATT_CTG_GTG_TTG_nopretrain_tokenlevel_signal/epoch=125-step=17891.ckpt\" as top 1\n"
     ]
    },
    {
     "data": {
      "application/vnd.jupyter.widget-view+json": {
       "model_id": "",
       "version_major": 2,
       "version_minor": 0
      },
      "text/plain": [
       "Validating: 0it [00:00, ?it/s]"
      ]
     },
     "metadata": {},
     "output_type": "display_data"
    },
    {
     "name": "stderr",
     "output_type": "stream",
     "text": [
      "Epoch 126, global step 18033: val_loss was not in top 1\n"
     ]
    },
    {
     "data": {
      "application/vnd.jupyter.widget-view+json": {
       "model_id": "",
       "version_major": 2,
       "version_minor": 0
      },
      "text/plain": [
       "Validating: 0it [00:00, ?it/s]"
      ]
     },
     "metadata": {},
     "output_type": "display_data"
    },
    {
     "name": "stderr",
     "output_type": "stream",
     "text": [
      "Metric val_loss improved by 0.000 >= min_delta = 1e-06. New best score: 0.108\n",
      "Epoch 127, global step 18175: val_loss reached 0.10760 (best 0.10760), saving model to \"/home/ivan/code/uBERTa/models/checkpoints/ws100_step20_AAG_ACG_AGG_ATA_ATC_ATG_ATT_CTG_GTG_TTG_nopretrain_tokenlevel_signal/epoch=127-step=18175.ckpt\" as top 1\n"
     ]
    },
    {
     "data": {
      "application/vnd.jupyter.widget-view+json": {
       "model_id": "",
       "version_major": 2,
       "version_minor": 0
      },
      "text/plain": [
       "Validating: 0it [00:00, ?it/s]"
      ]
     },
     "metadata": {},
     "output_type": "display_data"
    },
    {
     "name": "stderr",
     "output_type": "stream",
     "text": [
      "Metric val_loss improved by 0.000 >= min_delta = 1e-06. New best score: 0.108\n",
      "Epoch 128, global step 18317: val_loss reached 0.10753 (best 0.10753), saving model to \"/home/ivan/code/uBERTa/models/checkpoints/ws100_step20_AAG_ACG_AGG_ATA_ATC_ATG_ATT_CTG_GTG_TTG_nopretrain_tokenlevel_signal/epoch=128-step=18317.ckpt\" as top 1\n"
     ]
    },
    {
     "data": {
      "application/vnd.jupyter.widget-view+json": {
       "model_id": "",
       "version_major": 2,
       "version_minor": 0
      },
      "text/plain": [
       "Validating: 0it [00:00, ?it/s]"
      ]
     },
     "metadata": {},
     "output_type": "display_data"
    },
    {
     "name": "stderr",
     "output_type": "stream",
     "text": [
      "Epoch 129, global step 18459: val_loss was not in top 1\n"
     ]
    },
    {
     "data": {
      "application/vnd.jupyter.widget-view+json": {
       "model_id": "",
       "version_major": 2,
       "version_minor": 0
      },
      "text/plain": [
       "Validating: 0it [00:00, ?it/s]"
      ]
     },
     "metadata": {},
     "output_type": "display_data"
    },
    {
     "name": "stderr",
     "output_type": "stream",
     "text": [
      "Epoch 130, global step 18601: val_loss was not in top 1\n"
     ]
    },
    {
     "data": {
      "application/vnd.jupyter.widget-view+json": {
       "model_id": "",
       "version_major": 2,
       "version_minor": 0
      },
      "text/plain": [
       "Validating: 0it [00:00, ?it/s]"
      ]
     },
     "metadata": {},
     "output_type": "display_data"
    },
    {
     "name": "stderr",
     "output_type": "stream",
     "text": [
      "Epoch 131, global step 18743: val_loss was not in top 1\n"
     ]
    },
    {
     "data": {
      "application/vnd.jupyter.widget-view+json": {
       "model_id": "",
       "version_major": 2,
       "version_minor": 0
      },
      "text/plain": [
       "Validating: 0it [00:00, ?it/s]"
      ]
     },
     "metadata": {},
     "output_type": "display_data"
    },
    {
     "name": "stderr",
     "output_type": "stream",
     "text": [
      "Metric val_loss improved by 0.000 >= min_delta = 1e-06. New best score: 0.107\n",
      "Epoch 132, global step 18885: val_loss reached 0.10739 (best 0.10739), saving model to \"/home/ivan/code/uBERTa/models/checkpoints/ws100_step20_AAG_ACG_AGG_ATA_ATC_ATG_ATT_CTG_GTG_TTG_nopretrain_tokenlevel_signal/epoch=132-step=18885.ckpt\" as top 1\n"
     ]
    },
    {
     "data": {
      "application/vnd.jupyter.widget-view+json": {
       "model_id": "",
       "version_major": 2,
       "version_minor": 0
      },
      "text/plain": [
       "Validating: 0it [00:00, ?it/s]"
      ]
     },
     "metadata": {},
     "output_type": "display_data"
    },
    {
     "name": "stderr",
     "output_type": "stream",
     "text": [
      "Epoch 133, global step 19027: val_loss was not in top 1\n"
     ]
    },
    {
     "data": {
      "application/vnd.jupyter.widget-view+json": {
       "model_id": "",
       "version_major": 2,
       "version_minor": 0
      },
      "text/plain": [
       "Validating: 0it [00:00, ?it/s]"
      ]
     },
     "metadata": {},
     "output_type": "display_data"
    },
    {
     "name": "stderr",
     "output_type": "stream",
     "text": [
      "Epoch 134, global step 19169: val_loss was not in top 1\n"
     ]
    },
    {
     "data": {
      "application/vnd.jupyter.widget-view+json": {
       "model_id": "",
       "version_major": 2,
       "version_minor": 0
      },
      "text/plain": [
       "Validating: 0it [00:00, ?it/s]"
      ]
     },
     "metadata": {},
     "output_type": "display_data"
    },
    {
     "name": "stderr",
     "output_type": "stream",
     "text": [
      "Metric val_loss improved by 0.000 >= min_delta = 1e-06. New best score: 0.107\n",
      "Epoch 135, global step 19311: val_loss reached 0.10726 (best 0.10726), saving model to \"/home/ivan/code/uBERTa/models/checkpoints/ws100_step20_AAG_ACG_AGG_ATA_ATC_ATG_ATT_CTG_GTG_TTG_nopretrain_tokenlevel_signal/epoch=135-step=19311.ckpt\" as top 1\n"
     ]
    },
    {
     "data": {
      "application/vnd.jupyter.widget-view+json": {
       "model_id": "",
       "version_major": 2,
       "version_minor": 0
      },
      "text/plain": [
       "Validating: 0it [00:00, ?it/s]"
      ]
     },
     "metadata": {},
     "output_type": "display_data"
    },
    {
     "name": "stderr",
     "output_type": "stream",
     "text": [
      "Epoch 136, global step 19453: val_loss was not in top 1\n"
     ]
    },
    {
     "data": {
      "application/vnd.jupyter.widget-view+json": {
       "model_id": "",
       "version_major": 2,
       "version_minor": 0
      },
      "text/plain": [
       "Validating: 0it [00:00, ?it/s]"
      ]
     },
     "metadata": {},
     "output_type": "display_data"
    },
    {
     "name": "stderr",
     "output_type": "stream",
     "text": [
      "Epoch 137, global step 19595: val_loss was not in top 1\n"
     ]
    },
    {
     "data": {
      "application/vnd.jupyter.widget-view+json": {
       "model_id": "",
       "version_major": 2,
       "version_minor": 0
      },
      "text/plain": [
       "Validating: 0it [00:00, ?it/s]"
      ]
     },
     "metadata": {},
     "output_type": "display_data"
    },
    {
     "name": "stderr",
     "output_type": "stream",
     "text": [
      "Metric val_loss improved by 0.000 >= min_delta = 1e-06. New best score: 0.107\n",
      "Epoch 138, global step 19737: val_loss reached 0.10715 (best 0.10715), saving model to \"/home/ivan/code/uBERTa/models/checkpoints/ws100_step20_AAG_ACG_AGG_ATA_ATC_ATG_ATT_CTG_GTG_TTG_nopretrain_tokenlevel_signal/epoch=138-step=19737.ckpt\" as top 1\n"
     ]
    },
    {
     "data": {
      "application/vnd.jupyter.widget-view+json": {
       "model_id": "",
       "version_major": 2,
       "version_minor": 0
      },
      "text/plain": [
       "Validating: 0it [00:00, ?it/s]"
      ]
     },
     "metadata": {},
     "output_type": "display_data"
    },
    {
     "name": "stderr",
     "output_type": "stream",
     "text": [
      "Epoch 139, global step 19879: val_loss was not in top 1\n"
     ]
    },
    {
     "data": {
      "application/vnd.jupyter.widget-view+json": {
       "model_id": "",
       "version_major": 2,
       "version_minor": 0
      },
      "text/plain": [
       "Validating: 0it [00:00, ?it/s]"
      ]
     },
     "metadata": {},
     "output_type": "display_data"
    },
    {
     "name": "stderr",
     "output_type": "stream",
     "text": [
      "Metric val_loss improved by 0.000 >= min_delta = 1e-06. New best score: 0.107\n",
      "Epoch 140, global step 20021: val_loss reached 0.10715 (best 0.10715), saving model to \"/home/ivan/code/uBERTa/models/checkpoints/ws100_step20_AAG_ACG_AGG_ATA_ATC_ATG_ATT_CTG_GTG_TTG_nopretrain_tokenlevel_signal/epoch=140-step=20021.ckpt\" as top 1\n"
     ]
    },
    {
     "data": {
      "application/vnd.jupyter.widget-view+json": {
       "model_id": "",
       "version_major": 2,
       "version_minor": 0
      },
      "text/plain": [
       "Validating: 0it [00:00, ?it/s]"
      ]
     },
     "metadata": {},
     "output_type": "display_data"
    },
    {
     "name": "stderr",
     "output_type": "stream",
     "text": [
      "Epoch 141, global step 20163: val_loss was not in top 1\n"
     ]
    },
    {
     "data": {
      "application/vnd.jupyter.widget-view+json": {
       "model_id": "",
       "version_major": 2,
       "version_minor": 0
      },
      "text/plain": [
       "Validating: 0it [00:00, ?it/s]"
      ]
     },
     "metadata": {},
     "output_type": "display_data"
    },
    {
     "name": "stderr",
     "output_type": "stream",
     "text": [
      "Epoch 142, global step 20305: val_loss was not in top 1\n"
     ]
    },
    {
     "data": {
      "application/vnd.jupyter.widget-view+json": {
       "model_id": "",
       "version_major": 2,
       "version_minor": 0
      },
      "text/plain": [
       "Validating: 0it [00:00, ?it/s]"
      ]
     },
     "metadata": {},
     "output_type": "display_data"
    },
    {
     "name": "stderr",
     "output_type": "stream",
     "text": [
      "Epoch 143, global step 20447: val_loss was not in top 1\n"
     ]
    },
    {
     "data": {
      "application/vnd.jupyter.widget-view+json": {
       "model_id": "",
       "version_major": 2,
       "version_minor": 0
      },
      "text/plain": [
       "Validating: 0it [00:00, ?it/s]"
      ]
     },
     "metadata": {},
     "output_type": "display_data"
    },
    {
     "name": "stderr",
     "output_type": "stream",
     "text": [
      "Metric val_loss improved by 0.000 >= min_delta = 1e-06. New best score: 0.107\n",
      "Epoch 144, global step 20589: val_loss reached 0.10710 (best 0.10710), saving model to \"/home/ivan/code/uBERTa/models/checkpoints/ws100_step20_AAG_ACG_AGG_ATA_ATC_ATG_ATT_CTG_GTG_TTG_nopretrain_tokenlevel_signal/epoch=144-step=20589.ckpt\" as top 1\n"
     ]
    },
    {
     "data": {
      "application/vnd.jupyter.widget-view+json": {
       "model_id": "",
       "version_major": 2,
       "version_minor": 0
      },
      "text/plain": [
       "Validating: 0it [00:00, ?it/s]"
      ]
     },
     "metadata": {},
     "output_type": "display_data"
    },
    {
     "name": "stderr",
     "output_type": "stream",
     "text": [
      "Epoch 145, global step 20731: val_loss was not in top 1\n"
     ]
    },
    {
     "data": {
      "application/vnd.jupyter.widget-view+json": {
       "model_id": "",
       "version_major": 2,
       "version_minor": 0
      },
      "text/plain": [
       "Validating: 0it [00:00, ?it/s]"
      ]
     },
     "metadata": {},
     "output_type": "display_data"
    },
    {
     "name": "stderr",
     "output_type": "stream",
     "text": [
      "Epoch 146, global step 20873: val_loss was not in top 1\n"
     ]
    },
    {
     "data": {
      "application/vnd.jupyter.widget-view+json": {
       "model_id": "",
       "version_major": 2,
       "version_minor": 0
      },
      "text/plain": [
       "Validating: 0it [00:00, ?it/s]"
      ]
     },
     "metadata": {},
     "output_type": "display_data"
    },
    {
     "name": "stderr",
     "output_type": "stream",
     "text": [
      "Metric val_loss improved by 0.000 >= min_delta = 1e-06. New best score: 0.107\n",
      "Epoch 147, global step 21015: val_loss reached 0.10689 (best 0.10689), saving model to \"/home/ivan/code/uBERTa/models/checkpoints/ws100_step20_AAG_ACG_AGG_ATA_ATC_ATG_ATT_CTG_GTG_TTG_nopretrain_tokenlevel_signal/epoch=147-step=21015.ckpt\" as top 1\n"
     ]
    },
    {
     "data": {
      "application/vnd.jupyter.widget-view+json": {
       "model_id": "",
       "version_major": 2,
       "version_minor": 0
      },
      "text/plain": [
       "Validating: 0it [00:00, ?it/s]"
      ]
     },
     "metadata": {},
     "output_type": "display_data"
    },
    {
     "name": "stderr",
     "output_type": "stream",
     "text": [
      "Epoch 148, global step 21157: val_loss was not in top 1\n"
     ]
    },
    {
     "data": {
      "application/vnd.jupyter.widget-view+json": {
       "model_id": "",
       "version_major": 2,
       "version_minor": 0
      },
      "text/plain": [
       "Validating: 0it [00:00, ?it/s]"
      ]
     },
     "metadata": {},
     "output_type": "display_data"
    },
    {
     "name": "stderr",
     "output_type": "stream",
     "text": [
      "Metric val_loss improved by 0.000 >= min_delta = 1e-06. New best score: 0.107\n",
      "Epoch 149, global step 21299: val_loss reached 0.10687 (best 0.10687), saving model to \"/home/ivan/code/uBERTa/models/checkpoints/ws100_step20_AAG_ACG_AGG_ATA_ATC_ATG_ATT_CTG_GTG_TTG_nopretrain_tokenlevel_signal/epoch=149-step=21299.ckpt\" as top 1\n"
     ]
    },
    {
     "data": {
      "application/vnd.jupyter.widget-view+json": {
       "model_id": "",
       "version_major": 2,
       "version_minor": 0
      },
      "text/plain": [
       "Validating: 0it [00:00, ?it/s]"
      ]
     },
     "metadata": {},
     "output_type": "display_data"
    },
    {
     "name": "stderr",
     "output_type": "stream",
     "text": [
      "Epoch 150, global step 21441: val_loss was not in top 1\n"
     ]
    },
    {
     "data": {
      "application/vnd.jupyter.widget-view+json": {
       "model_id": "",
       "version_major": 2,
       "version_minor": 0
      },
      "text/plain": [
       "Validating: 0it [00:00, ?it/s]"
      ]
     },
     "metadata": {},
     "output_type": "display_data"
    },
    {
     "name": "stderr",
     "output_type": "stream",
     "text": [
      "Epoch 151, global step 21583: val_loss was not in top 1\n"
     ]
    },
    {
     "data": {
      "application/vnd.jupyter.widget-view+json": {
       "model_id": "",
       "version_major": 2,
       "version_minor": 0
      },
      "text/plain": [
       "Validating: 0it [00:00, ?it/s]"
      ]
     },
     "metadata": {},
     "output_type": "display_data"
    },
    {
     "name": "stderr",
     "output_type": "stream",
     "text": [
      "Metric val_loss improved by 0.000 >= min_delta = 1e-06. New best score: 0.107\n",
      "Epoch 152, global step 21725: val_loss reached 0.10676 (best 0.10676), saving model to \"/home/ivan/code/uBERTa/models/checkpoints/ws100_step20_AAG_ACG_AGG_ATA_ATC_ATG_ATT_CTG_GTG_TTG_nopretrain_tokenlevel_signal/epoch=152-step=21725.ckpt\" as top 1\n"
     ]
    },
    {
     "data": {
      "application/vnd.jupyter.widget-view+json": {
       "model_id": "",
       "version_major": 2,
       "version_minor": 0
      },
      "text/plain": [
       "Validating: 0it [00:00, ?it/s]"
      ]
     },
     "metadata": {},
     "output_type": "display_data"
    },
    {
     "name": "stderr",
     "output_type": "stream",
     "text": [
      "Epoch 153, global step 21867: val_loss was not in top 1\n"
     ]
    },
    {
     "data": {
      "application/vnd.jupyter.widget-view+json": {
       "model_id": "",
       "version_major": 2,
       "version_minor": 0
      },
      "text/plain": [
       "Validating: 0it [00:00, ?it/s]"
      ]
     },
     "metadata": {},
     "output_type": "display_data"
    },
    {
     "name": "stderr",
     "output_type": "stream",
     "text": [
      "Epoch 154, global step 22009: val_loss was not in top 1\n"
     ]
    },
    {
     "data": {
      "application/vnd.jupyter.widget-view+json": {
       "model_id": "",
       "version_major": 2,
       "version_minor": 0
      },
      "text/plain": [
       "Validating: 0it [00:00, ?it/s]"
      ]
     },
     "metadata": {},
     "output_type": "display_data"
    },
    {
     "name": "stderr",
     "output_type": "stream",
     "text": [
      "Epoch 155, global step 22151: val_loss was not in top 1\n"
     ]
    },
    {
     "data": {
      "application/vnd.jupyter.widget-view+json": {
       "model_id": "",
       "version_major": 2,
       "version_minor": 0
      },
      "text/plain": [
       "Validating: 0it [00:00, ?it/s]"
      ]
     },
     "metadata": {},
     "output_type": "display_data"
    },
    {
     "name": "stderr",
     "output_type": "stream",
     "text": [
      "Metric val_loss improved by 0.000 >= min_delta = 1e-06. New best score: 0.107\n",
      "Epoch 156, global step 22293: val_loss reached 0.10674 (best 0.10674), saving model to \"/home/ivan/code/uBERTa/models/checkpoints/ws100_step20_AAG_ACG_AGG_ATA_ATC_ATG_ATT_CTG_GTG_TTG_nopretrain_tokenlevel_signal/epoch=156-step=22293.ckpt\" as top 1\n"
     ]
    },
    {
     "data": {
      "application/vnd.jupyter.widget-view+json": {
       "model_id": "",
       "version_major": 2,
       "version_minor": 0
      },
      "text/plain": [
       "Validating: 0it [00:00, ?it/s]"
      ]
     },
     "metadata": {},
     "output_type": "display_data"
    },
    {
     "name": "stderr",
     "output_type": "stream",
     "text": [
      "Epoch 157, global step 22435: val_loss was not in top 1\n"
     ]
    },
    {
     "data": {
      "application/vnd.jupyter.widget-view+json": {
       "model_id": "",
       "version_major": 2,
       "version_minor": 0
      },
      "text/plain": [
       "Validating: 0it [00:00, ?it/s]"
      ]
     },
     "metadata": {},
     "output_type": "display_data"
    },
    {
     "name": "stderr",
     "output_type": "stream",
     "text": [
      "Epoch 158, global step 22577: val_loss was not in top 1\n"
     ]
    },
    {
     "data": {
      "application/vnd.jupyter.widget-view+json": {
       "model_id": "",
       "version_major": 2,
       "version_minor": 0
      },
      "text/plain": [
       "Validating: 0it [00:00, ?it/s]"
      ]
     },
     "metadata": {},
     "output_type": "display_data"
    },
    {
     "name": "stderr",
     "output_type": "stream",
     "text": [
      "Epoch 159, global step 22719: val_loss was not in top 1\n"
     ]
    },
    {
     "data": {
      "application/vnd.jupyter.widget-view+json": {
       "model_id": "",
       "version_major": 2,
       "version_minor": 0
      },
      "text/plain": [
       "Validating: 0it [00:00, ?it/s]"
      ]
     },
     "metadata": {},
     "output_type": "display_data"
    },
    {
     "name": "stderr",
     "output_type": "stream",
     "text": [
      "Epoch 160, global step 22861: val_loss was not in top 1\n"
     ]
    },
    {
     "data": {
      "application/vnd.jupyter.widget-view+json": {
       "model_id": "",
       "version_major": 2,
       "version_minor": 0
      },
      "text/plain": [
       "Validating: 0it [00:00, ?it/s]"
      ]
     },
     "metadata": {},
     "output_type": "display_data"
    },
    {
     "name": "stderr",
     "output_type": "stream",
     "text": [
      "Metric val_loss improved by 0.000 >= min_delta = 1e-06. New best score: 0.107\n",
      "Epoch 161, global step 23003: val_loss reached 0.10671 (best 0.10671), saving model to \"/home/ivan/code/uBERTa/models/checkpoints/ws100_step20_AAG_ACG_AGG_ATA_ATC_ATG_ATT_CTG_GTG_TTG_nopretrain_tokenlevel_signal/epoch=161-step=23003.ckpt\" as top 1\n"
     ]
    },
    {
     "data": {
      "application/vnd.jupyter.widget-view+json": {
       "model_id": "",
       "version_major": 2,
       "version_minor": 0
      },
      "text/plain": [
       "Validating: 0it [00:00, ?it/s]"
      ]
     },
     "metadata": {},
     "output_type": "display_data"
    },
    {
     "name": "stderr",
     "output_type": "stream",
     "text": [
      "Epoch 162, global step 23145: val_loss was not in top 1\n"
     ]
    },
    {
     "data": {
      "application/vnd.jupyter.widget-view+json": {
       "model_id": "",
       "version_major": 2,
       "version_minor": 0
      },
      "text/plain": [
       "Validating: 0it [00:00, ?it/s]"
      ]
     },
     "metadata": {},
     "output_type": "display_data"
    },
    {
     "name": "stderr",
     "output_type": "stream",
     "text": [
      "Metric val_loss improved by 0.000 >= min_delta = 1e-06. New best score: 0.107\n",
      "Epoch 163, global step 23287: val_loss reached 0.10663 (best 0.10663), saving model to \"/home/ivan/code/uBERTa/models/checkpoints/ws100_step20_AAG_ACG_AGG_ATA_ATC_ATG_ATT_CTG_GTG_TTG_nopretrain_tokenlevel_signal/epoch=163-step=23287.ckpt\" as top 1\n"
     ]
    },
    {
     "data": {
      "application/vnd.jupyter.widget-view+json": {
       "model_id": "",
       "version_major": 2,
       "version_minor": 0
      },
      "text/plain": [
       "Validating: 0it [00:00, ?it/s]"
      ]
     },
     "metadata": {},
     "output_type": "display_data"
    },
    {
     "name": "stderr",
     "output_type": "stream",
     "text": [
      "Epoch 164, global step 23429: val_loss was not in top 1\n"
     ]
    },
    {
     "data": {
      "application/vnd.jupyter.widget-view+json": {
       "model_id": "",
       "version_major": 2,
       "version_minor": 0
      },
      "text/plain": [
       "Validating: 0it [00:00, ?it/s]"
      ]
     },
     "metadata": {},
     "output_type": "display_data"
    },
    {
     "name": "stderr",
     "output_type": "stream",
     "text": [
      "Metric val_loss improved by 0.000 >= min_delta = 1e-06. New best score: 0.106\n",
      "Epoch 165, global step 23571: val_loss reached 0.10642 (best 0.10642), saving model to \"/home/ivan/code/uBERTa/models/checkpoints/ws100_step20_AAG_ACG_AGG_ATA_ATC_ATG_ATT_CTG_GTG_TTG_nopretrain_tokenlevel_signal/epoch=165-step=23571.ckpt\" as top 1\n"
     ]
    },
    {
     "data": {
      "application/vnd.jupyter.widget-view+json": {
       "model_id": "",
       "version_major": 2,
       "version_minor": 0
      },
      "text/plain": [
       "Validating: 0it [00:00, ?it/s]"
      ]
     },
     "metadata": {},
     "output_type": "display_data"
    },
    {
     "name": "stderr",
     "output_type": "stream",
     "text": [
      "Epoch 166, global step 23713: val_loss was not in top 1\n"
     ]
    },
    {
     "data": {
      "application/vnd.jupyter.widget-view+json": {
       "model_id": "",
       "version_major": 2,
       "version_minor": 0
      },
      "text/plain": [
       "Validating: 0it [00:00, ?it/s]"
      ]
     },
     "metadata": {},
     "output_type": "display_data"
    },
    {
     "name": "stderr",
     "output_type": "stream",
     "text": [
      "Epoch 167, global step 23855: val_loss was not in top 1\n"
     ]
    },
    {
     "data": {
      "application/vnd.jupyter.widget-view+json": {
       "model_id": "",
       "version_major": 2,
       "version_minor": 0
      },
      "text/plain": [
       "Validating: 0it [00:00, ?it/s]"
      ]
     },
     "metadata": {},
     "output_type": "display_data"
    },
    {
     "name": "stderr",
     "output_type": "stream",
     "text": [
      "Epoch 168, global step 23997: val_loss was not in top 1\n"
     ]
    },
    {
     "data": {
      "application/vnd.jupyter.widget-view+json": {
       "model_id": "",
       "version_major": 2,
       "version_minor": 0
      },
      "text/plain": [
       "Validating: 0it [00:00, ?it/s]"
      ]
     },
     "metadata": {},
     "output_type": "display_data"
    },
    {
     "name": "stderr",
     "output_type": "stream",
     "text": [
      "Epoch 169, global step 24139: val_loss was not in top 1\n"
     ]
    },
    {
     "data": {
      "application/vnd.jupyter.widget-view+json": {
       "model_id": "",
       "version_major": 2,
       "version_minor": 0
      },
      "text/plain": [
       "Validating: 0it [00:00, ?it/s]"
      ]
     },
     "metadata": {},
     "output_type": "display_data"
    },
    {
     "name": "stderr",
     "output_type": "stream",
     "text": [
      "Epoch 170, global step 24281: val_loss was not in top 1\n"
     ]
    },
    {
     "data": {
      "application/vnd.jupyter.widget-view+json": {
       "model_id": "",
       "version_major": 2,
       "version_minor": 0
      },
      "text/plain": [
       "Validating: 0it [00:00, ?it/s]"
      ]
     },
     "metadata": {},
     "output_type": "display_data"
    },
    {
     "name": "stderr",
     "output_type": "stream",
     "text": [
      "Epoch 171, global step 24423: val_loss was not in top 1\n"
     ]
    },
    {
     "data": {
      "application/vnd.jupyter.widget-view+json": {
       "model_id": "",
       "version_major": 2,
       "version_minor": 0
      },
      "text/plain": [
       "Validating: 0it [00:00, ?it/s]"
      ]
     },
     "metadata": {},
     "output_type": "display_data"
    },
    {
     "name": "stderr",
     "output_type": "stream",
     "text": [
      "Epoch 172, global step 24565: val_loss was not in top 1\n"
     ]
    },
    {
     "data": {
      "application/vnd.jupyter.widget-view+json": {
       "model_id": "",
       "version_major": 2,
       "version_minor": 0
      },
      "text/plain": [
       "Validating: 0it [00:00, ?it/s]"
      ]
     },
     "metadata": {},
     "output_type": "display_data"
    },
    {
     "name": "stderr",
     "output_type": "stream",
     "text": [
      "Epoch 173, global step 24707: val_loss was not in top 1\n"
     ]
    },
    {
     "data": {
      "application/vnd.jupyter.widget-view+json": {
       "model_id": "",
       "version_major": 2,
       "version_minor": 0
      },
      "text/plain": [
       "Validating: 0it [00:00, ?it/s]"
      ]
     },
     "metadata": {},
     "output_type": "display_data"
    },
    {
     "name": "stderr",
     "output_type": "stream",
     "text": [
      "Epoch 174, global step 24849: val_loss was not in top 1\n"
     ]
    },
    {
     "data": {
      "application/vnd.jupyter.widget-view+json": {
       "model_id": "",
       "version_major": 2,
       "version_minor": 0
      },
      "text/plain": [
       "Validating: 0it [00:00, ?it/s]"
      ]
     },
     "metadata": {},
     "output_type": "display_data"
    },
    {
     "name": "stderr",
     "output_type": "stream",
     "text": [
      "Metric val_loss improved by 0.000 >= min_delta = 1e-06. New best score: 0.106\n",
      "Epoch 175, global step 24991: val_loss reached 0.10642 (best 0.10642), saving model to \"/home/ivan/code/uBERTa/models/checkpoints/ws100_step20_AAG_ACG_AGG_ATA_ATC_ATG_ATT_CTG_GTG_TTG_nopretrain_tokenlevel_signal/epoch=175-step=24991.ckpt\" as top 1\n"
     ]
    },
    {
     "data": {
      "application/vnd.jupyter.widget-view+json": {
       "model_id": "",
       "version_major": 2,
       "version_minor": 0
      },
      "text/plain": [
       "Validating: 0it [00:00, ?it/s]"
      ]
     },
     "metadata": {},
     "output_type": "display_data"
    },
    {
     "name": "stderr",
     "output_type": "stream",
     "text": [
      "Metric val_loss improved by 0.000 >= min_delta = 1e-06. New best score: 0.106\n",
      "Epoch 176, global step 25133: val_loss reached 0.10641 (best 0.10641), saving model to \"/home/ivan/code/uBERTa/models/checkpoints/ws100_step20_AAG_ACG_AGG_ATA_ATC_ATG_ATT_CTG_GTG_TTG_nopretrain_tokenlevel_signal/epoch=176-step=25133.ckpt\" as top 1\n"
     ]
    },
    {
     "data": {
      "application/vnd.jupyter.widget-view+json": {
       "model_id": "",
       "version_major": 2,
       "version_minor": 0
      },
      "text/plain": [
       "Validating: 0it [00:00, ?it/s]"
      ]
     },
     "metadata": {},
     "output_type": "display_data"
    },
    {
     "name": "stderr",
     "output_type": "stream",
     "text": [
      "Epoch 177, global step 25275: val_loss was not in top 1\n"
     ]
    },
    {
     "data": {
      "application/vnd.jupyter.widget-view+json": {
       "model_id": "",
       "version_major": 2,
       "version_minor": 0
      },
      "text/plain": [
       "Validating: 0it [00:00, ?it/s]"
      ]
     },
     "metadata": {},
     "output_type": "display_data"
    },
    {
     "name": "stderr",
     "output_type": "stream",
     "text": [
      "Epoch 178, global step 25417: val_loss was not in top 1\n"
     ]
    },
    {
     "data": {
      "application/vnd.jupyter.widget-view+json": {
       "model_id": "",
       "version_major": 2,
       "version_minor": 0
      },
      "text/plain": [
       "Validating: 0it [00:00, ?it/s]"
      ]
     },
     "metadata": {},
     "output_type": "display_data"
    },
    {
     "name": "stderr",
     "output_type": "stream",
     "text": [
      "Epoch 179, global step 25559: val_loss was not in top 1\n"
     ]
    },
    {
     "data": {
      "application/vnd.jupyter.widget-view+json": {
       "model_id": "",
       "version_major": 2,
       "version_minor": 0
      },
      "text/plain": [
       "Validating: 0it [00:00, ?it/s]"
      ]
     },
     "metadata": {},
     "output_type": "display_data"
    },
    {
     "name": "stderr",
     "output_type": "stream",
     "text": [
      "Epoch 180, global step 25701: val_loss was not in top 1\n"
     ]
    },
    {
     "data": {
      "application/vnd.jupyter.widget-view+json": {
       "model_id": "",
       "version_major": 2,
       "version_minor": 0
      },
      "text/plain": [
       "Validating: 0it [00:00, ?it/s]"
      ]
     },
     "metadata": {},
     "output_type": "display_data"
    },
    {
     "name": "stderr",
     "output_type": "stream",
     "text": [
      "Epoch 181, global step 25843: val_loss was not in top 1\n"
     ]
    },
    {
     "data": {
      "application/vnd.jupyter.widget-view+json": {
       "model_id": "",
       "version_major": 2,
       "version_minor": 0
      },
      "text/plain": [
       "Validating: 0it [00:00, ?it/s]"
      ]
     },
     "metadata": {},
     "output_type": "display_data"
    },
    {
     "name": "stderr",
     "output_type": "stream",
     "text": [
      "Metric val_loss improved by 0.000 >= min_delta = 1e-06. New best score: 0.106\n",
      "Epoch 182, global step 25985: val_loss reached 0.10633 (best 0.10633), saving model to \"/home/ivan/code/uBERTa/models/checkpoints/ws100_step20_AAG_ACG_AGG_ATA_ATC_ATG_ATT_CTG_GTG_TTG_nopretrain_tokenlevel_signal/epoch=182-step=25985.ckpt\" as top 1\n"
     ]
    },
    {
     "data": {
      "application/vnd.jupyter.widget-view+json": {
       "model_id": "",
       "version_major": 2,
       "version_minor": 0
      },
      "text/plain": [
       "Validating: 0it [00:00, ?it/s]"
      ]
     },
     "metadata": {},
     "output_type": "display_data"
    },
    {
     "name": "stderr",
     "output_type": "stream",
     "text": [
      "Metric val_loss improved by 0.000 >= min_delta = 1e-06. New best score: 0.106\n",
      "Epoch 183, global step 26127: val_loss reached 0.10632 (best 0.10632), saving model to \"/home/ivan/code/uBERTa/models/checkpoints/ws100_step20_AAG_ACG_AGG_ATA_ATC_ATG_ATT_CTG_GTG_TTG_nopretrain_tokenlevel_signal/epoch=183-step=26127.ckpt\" as top 1\n"
     ]
    },
    {
     "data": {
      "application/vnd.jupyter.widget-view+json": {
       "model_id": "",
       "version_major": 2,
       "version_minor": 0
      },
      "text/plain": [
       "Validating: 0it [00:00, ?it/s]"
      ]
     },
     "metadata": {},
     "output_type": "display_data"
    },
    {
     "name": "stderr",
     "output_type": "stream",
     "text": [
      "Metric val_loss improved by 0.000 >= min_delta = 1e-06. New best score: 0.106\n",
      "Epoch 184, global step 26269: val_loss reached 0.10626 (best 0.10626), saving model to \"/home/ivan/code/uBERTa/models/checkpoints/ws100_step20_AAG_ACG_AGG_ATA_ATC_ATG_ATT_CTG_GTG_TTG_nopretrain_tokenlevel_signal/epoch=184-step=26269.ckpt\" as top 1\n"
     ]
    },
    {
     "data": {
      "application/vnd.jupyter.widget-view+json": {
       "model_id": "",
       "version_major": 2,
       "version_minor": 0
      },
      "text/plain": [
       "Validating: 0it [00:00, ?it/s]"
      ]
     },
     "metadata": {},
     "output_type": "display_data"
    },
    {
     "name": "stderr",
     "output_type": "stream",
     "text": [
      "Metric val_loss improved by 0.000 >= min_delta = 1e-06. New best score: 0.106\n",
      "Epoch 185, global step 26411: val_loss reached 0.10620 (best 0.10620), saving model to \"/home/ivan/code/uBERTa/models/checkpoints/ws100_step20_AAG_ACG_AGG_ATA_ATC_ATG_ATT_CTG_GTG_TTG_nopretrain_tokenlevel_signal/epoch=185-step=26411.ckpt\" as top 1\n"
     ]
    },
    {
     "data": {
      "application/vnd.jupyter.widget-view+json": {
       "model_id": "",
       "version_major": 2,
       "version_minor": 0
      },
      "text/plain": [
       "Validating: 0it [00:00, ?it/s]"
      ]
     },
     "metadata": {},
     "output_type": "display_data"
    },
    {
     "name": "stderr",
     "output_type": "stream",
     "text": [
      "Epoch 186, global step 26553: val_loss was not in top 1\n"
     ]
    },
    {
     "data": {
      "application/vnd.jupyter.widget-view+json": {
       "model_id": "",
       "version_major": 2,
       "version_minor": 0
      },
      "text/plain": [
       "Validating: 0it [00:00, ?it/s]"
      ]
     },
     "metadata": {},
     "output_type": "display_data"
    },
    {
     "name": "stderr",
     "output_type": "stream",
     "text": [
      "Epoch 187, global step 26695: val_loss was not in top 1\n"
     ]
    },
    {
     "data": {
      "application/vnd.jupyter.widget-view+json": {
       "model_id": "",
       "version_major": 2,
       "version_minor": 0
      },
      "text/plain": [
       "Validating: 0it [00:00, ?it/s]"
      ]
     },
     "metadata": {},
     "output_type": "display_data"
    },
    {
     "name": "stderr",
     "output_type": "stream",
     "text": [
      "Epoch 188, global step 26837: val_loss was not in top 1\n"
     ]
    },
    {
     "data": {
      "application/vnd.jupyter.widget-view+json": {
       "model_id": "",
       "version_major": 2,
       "version_minor": 0
      },
      "text/plain": [
       "Validating: 0it [00:00, ?it/s]"
      ]
     },
     "metadata": {},
     "output_type": "display_data"
    },
    {
     "name": "stderr",
     "output_type": "stream",
     "text": [
      "Epoch 189, global step 26979: val_loss was not in top 1\n"
     ]
    },
    {
     "data": {
      "application/vnd.jupyter.widget-view+json": {
       "model_id": "",
       "version_major": 2,
       "version_minor": 0
      },
      "text/plain": [
       "Validating: 0it [00:00, ?it/s]"
      ]
     },
     "metadata": {},
     "output_type": "display_data"
    },
    {
     "name": "stderr",
     "output_type": "stream",
     "text": [
      "Epoch 190, global step 27121: val_loss was not in top 1\n"
     ]
    },
    {
     "data": {
      "application/vnd.jupyter.widget-view+json": {
       "model_id": "",
       "version_major": 2,
       "version_minor": 0
      },
      "text/plain": [
       "Validating: 0it [00:00, ?it/s]"
      ]
     },
     "metadata": {},
     "output_type": "display_data"
    },
    {
     "name": "stderr",
     "output_type": "stream",
     "text": [
      "Epoch 191, global step 27263: val_loss was not in top 1\n"
     ]
    },
    {
     "data": {
      "application/vnd.jupyter.widget-view+json": {
       "model_id": "",
       "version_major": 2,
       "version_minor": 0
      },
      "text/plain": [
       "Validating: 0it [00:00, ?it/s]"
      ]
     },
     "metadata": {},
     "output_type": "display_data"
    },
    {
     "name": "stderr",
     "output_type": "stream",
     "text": [
      "Metric val_loss improved by 0.000 >= min_delta = 1e-06. New best score: 0.106\n",
      "Epoch 192, global step 27405: val_loss reached 0.10618 (best 0.10618), saving model to \"/home/ivan/code/uBERTa/models/checkpoints/ws100_step20_AAG_ACG_AGG_ATA_ATC_ATG_ATT_CTG_GTG_TTG_nopretrain_tokenlevel_signal/epoch=192-step=27405.ckpt\" as top 1\n"
     ]
    },
    {
     "data": {
      "application/vnd.jupyter.widget-view+json": {
       "model_id": "",
       "version_major": 2,
       "version_minor": 0
      },
      "text/plain": [
       "Validating: 0it [00:00, ?it/s]"
      ]
     },
     "metadata": {},
     "output_type": "display_data"
    },
    {
     "name": "stderr",
     "output_type": "stream",
     "text": [
      "Metric val_loss improved by 0.000 >= min_delta = 1e-06. New best score: 0.106\n",
      "Epoch 193, global step 27547: val_loss reached 0.10616 (best 0.10616), saving model to \"/home/ivan/code/uBERTa/models/checkpoints/ws100_step20_AAG_ACG_AGG_ATA_ATC_ATG_ATT_CTG_GTG_TTG_nopretrain_tokenlevel_signal/epoch=193-step=27547.ckpt\" as top 1\n"
     ]
    },
    {
     "data": {
      "application/vnd.jupyter.widget-view+json": {
       "model_id": "",
       "version_major": 2,
       "version_minor": 0
      },
      "text/plain": [
       "Validating: 0it [00:00, ?it/s]"
      ]
     },
     "metadata": {},
     "output_type": "display_data"
    },
    {
     "name": "stderr",
     "output_type": "stream",
     "text": [
      "Epoch 194, global step 27689: val_loss was not in top 1\n"
     ]
    },
    {
     "data": {
      "application/vnd.jupyter.widget-view+json": {
       "model_id": "",
       "version_major": 2,
       "version_minor": 0
      },
      "text/plain": [
       "Validating: 0it [00:00, ?it/s]"
      ]
     },
     "metadata": {},
     "output_type": "display_data"
    },
    {
     "name": "stderr",
     "output_type": "stream",
     "text": [
      "Epoch 195, global step 27831: val_loss was not in top 1\n"
     ]
    },
    {
     "data": {
      "application/vnd.jupyter.widget-view+json": {
       "model_id": "",
       "version_major": 2,
       "version_minor": 0
      },
      "text/plain": [
       "Validating: 0it [00:00, ?it/s]"
      ]
     },
     "metadata": {},
     "output_type": "display_data"
    },
    {
     "name": "stderr",
     "output_type": "stream",
     "text": [
      "Epoch 196, global step 27973: val_loss was not in top 1\n"
     ]
    },
    {
     "data": {
      "application/vnd.jupyter.widget-view+json": {
       "model_id": "",
       "version_major": 2,
       "version_minor": 0
      },
      "text/plain": [
       "Validating: 0it [00:00, ?it/s]"
      ]
     },
     "metadata": {},
     "output_type": "display_data"
    },
    {
     "name": "stderr",
     "output_type": "stream",
     "text": [
      "Epoch 197, global step 28115: val_loss was not in top 1\n"
     ]
    },
    {
     "data": {
      "application/vnd.jupyter.widget-view+json": {
       "model_id": "",
       "version_major": 2,
       "version_minor": 0
      },
      "text/plain": [
       "Validating: 0it [00:00, ?it/s]"
      ]
     },
     "metadata": {},
     "output_type": "display_data"
    },
    {
     "name": "stderr",
     "output_type": "stream",
     "text": [
      "Metric val_loss improved by 0.000 >= min_delta = 1e-06. New best score: 0.106\n",
      "Epoch 198, global step 28257: val_loss reached 0.10610 (best 0.10610), saving model to \"/home/ivan/code/uBERTa/models/checkpoints/ws100_step20_AAG_ACG_AGG_ATA_ATC_ATG_ATT_CTG_GTG_TTG_nopretrain_tokenlevel_signal/epoch=198-step=28257.ckpt\" as top 1\n"
     ]
    },
    {
     "data": {
      "application/vnd.jupyter.widget-view+json": {
       "model_id": "",
       "version_major": 2,
       "version_minor": 0
      },
      "text/plain": [
       "Validating: 0it [00:00, ?it/s]"
      ]
     },
     "metadata": {},
     "output_type": "display_data"
    },
    {
     "name": "stderr",
     "output_type": "stream",
     "text": [
      "Epoch 199, global step 28399: val_loss was not in top 1\n"
     ]
    },
    {
     "data": {
      "application/vnd.jupyter.widget-view+json": {
       "model_id": "",
       "version_major": 2,
       "version_minor": 0
      },
      "text/plain": [
       "Validating: 0it [00:00, ?it/s]"
      ]
     },
     "metadata": {},
     "output_type": "display_data"
    },
    {
     "name": "stderr",
     "output_type": "stream",
     "text": [
      "Epoch 200, global step 28541: val_loss was not in top 1\n"
     ]
    },
    {
     "data": {
      "application/vnd.jupyter.widget-view+json": {
       "model_id": "",
       "version_major": 2,
       "version_minor": 0
      },
      "text/plain": [
       "Validating: 0it [00:00, ?it/s]"
      ]
     },
     "metadata": {},
     "output_type": "display_data"
    },
    {
     "name": "stderr",
     "output_type": "stream",
     "text": [
      "Epoch 201, global step 28683: val_loss was not in top 1\n"
     ]
    },
    {
     "data": {
      "application/vnd.jupyter.widget-view+json": {
       "model_id": "",
       "version_major": 2,
       "version_minor": 0
      },
      "text/plain": [
       "Validating: 0it [00:00, ?it/s]"
      ]
     },
     "metadata": {},
     "output_type": "display_data"
    },
    {
     "name": "stderr",
     "output_type": "stream",
     "text": [
      "Epoch 202, global step 28825: val_loss was not in top 1\n"
     ]
    },
    {
     "data": {
      "application/vnd.jupyter.widget-view+json": {
       "model_id": "",
       "version_major": 2,
       "version_minor": 0
      },
      "text/plain": [
       "Validating: 0it [00:00, ?it/s]"
      ]
     },
     "metadata": {},
     "output_type": "display_data"
    },
    {
     "name": "stderr",
     "output_type": "stream",
     "text": [
      "Epoch 203, global step 28967: val_loss was not in top 1\n"
     ]
    },
    {
     "data": {
      "application/vnd.jupyter.widget-view+json": {
       "model_id": "",
       "version_major": 2,
       "version_minor": 0
      },
      "text/plain": [
       "Validating: 0it [00:00, ?it/s]"
      ]
     },
     "metadata": {},
     "output_type": "display_data"
    },
    {
     "name": "stderr",
     "output_type": "stream",
     "text": [
      "Epoch 204, global step 29109: val_loss was not in top 1\n"
     ]
    },
    {
     "data": {
      "application/vnd.jupyter.widget-view+json": {
       "model_id": "",
       "version_major": 2,
       "version_minor": 0
      },
      "text/plain": [
       "Validating: 0it [00:00, ?it/s]"
      ]
     },
     "metadata": {},
     "output_type": "display_data"
    },
    {
     "name": "stderr",
     "output_type": "stream",
     "text": [
      "Epoch 205, global step 29251: val_loss was not in top 1\n"
     ]
    },
    {
     "data": {
      "application/vnd.jupyter.widget-view+json": {
       "model_id": "",
       "version_major": 2,
       "version_minor": 0
      },
      "text/plain": [
       "Validating: 0it [00:00, ?it/s]"
      ]
     },
     "metadata": {},
     "output_type": "display_data"
    },
    {
     "name": "stderr",
     "output_type": "stream",
     "text": [
      "Epoch 206, global step 29393: val_loss was not in top 1\n"
     ]
    },
    {
     "data": {
      "application/vnd.jupyter.widget-view+json": {
       "model_id": "",
       "version_major": 2,
       "version_minor": 0
      },
      "text/plain": [
       "Validating: 0it [00:00, ?it/s]"
      ]
     },
     "metadata": {},
     "output_type": "display_data"
    },
    {
     "name": "stderr",
     "output_type": "stream",
     "text": [
      "Epoch 207, global step 29535: val_loss was not in top 1\n"
     ]
    },
    {
     "data": {
      "application/vnd.jupyter.widget-view+json": {
       "model_id": "",
       "version_major": 2,
       "version_minor": 0
      },
      "text/plain": [
       "Validating: 0it [00:00, ?it/s]"
      ]
     },
     "metadata": {},
     "output_type": "display_data"
    },
    {
     "name": "stderr",
     "output_type": "stream",
     "text": [
      "Epoch 208, global step 29677: val_loss was not in top 1\n"
     ]
    },
    {
     "data": {
      "application/vnd.jupyter.widget-view+json": {
       "model_id": "",
       "version_major": 2,
       "version_minor": 0
      },
      "text/plain": [
       "Validating: 0it [00:00, ?it/s]"
      ]
     },
     "metadata": {},
     "output_type": "display_data"
    },
    {
     "name": "stderr",
     "output_type": "stream",
     "text": [
      "Epoch 209, global step 29819: val_loss was not in top 1\n"
     ]
    },
    {
     "data": {
      "application/vnd.jupyter.widget-view+json": {
       "model_id": "",
       "version_major": 2,
       "version_minor": 0
      },
      "text/plain": [
       "Validating: 0it [00:00, ?it/s]"
      ]
     },
     "metadata": {},
     "output_type": "display_data"
    },
    {
     "name": "stderr",
     "output_type": "stream",
     "text": [
      "Metric val_loss improved by 0.000 >= min_delta = 1e-06. New best score: 0.106\n",
      "Epoch 210, global step 29961: val_loss reached 0.10603 (best 0.10603), saving model to \"/home/ivan/code/uBERTa/models/checkpoints/ws100_step20_AAG_ACG_AGG_ATA_ATC_ATG_ATT_CTG_GTG_TTG_nopretrain_tokenlevel_signal/epoch=210-step=29961.ckpt\" as top 1\n"
     ]
    },
    {
     "data": {
      "application/vnd.jupyter.widget-view+json": {
       "model_id": "",
       "version_major": 2,
       "version_minor": 0
      },
      "text/plain": [
       "Validating: 0it [00:00, ?it/s]"
      ]
     },
     "metadata": {},
     "output_type": "display_data"
    },
    {
     "name": "stderr",
     "output_type": "stream",
     "text": [
      "Epoch 211, global step 30103: val_loss was not in top 1\n"
     ]
    },
    {
     "data": {
      "application/vnd.jupyter.widget-view+json": {
       "model_id": "",
       "version_major": 2,
       "version_minor": 0
      },
      "text/plain": [
       "Validating: 0it [00:00, ?it/s]"
      ]
     },
     "metadata": {},
     "output_type": "display_data"
    },
    {
     "name": "stderr",
     "output_type": "stream",
     "text": [
      "Metric val_loss improved by 0.000 >= min_delta = 1e-06. New best score: 0.106\n",
      "Epoch 212, global step 30245: val_loss reached 0.10599 (best 0.10599), saving model to \"/home/ivan/code/uBERTa/models/checkpoints/ws100_step20_AAG_ACG_AGG_ATA_ATC_ATG_ATT_CTG_GTG_TTG_nopretrain_tokenlevel_signal/epoch=212-step=30245.ckpt\" as top 1\n"
     ]
    },
    {
     "data": {
      "application/vnd.jupyter.widget-view+json": {
       "model_id": "",
       "version_major": 2,
       "version_minor": 0
      },
      "text/plain": [
       "Validating: 0it [00:00, ?it/s]"
      ]
     },
     "metadata": {},
     "output_type": "display_data"
    },
    {
     "name": "stderr",
     "output_type": "stream",
     "text": [
      "Epoch 213, global step 30387: val_loss was not in top 1\n"
     ]
    },
    {
     "data": {
      "application/vnd.jupyter.widget-view+json": {
       "model_id": "",
       "version_major": 2,
       "version_minor": 0
      },
      "text/plain": [
       "Validating: 0it [00:00, ?it/s]"
      ]
     },
     "metadata": {},
     "output_type": "display_data"
    },
    {
     "name": "stderr",
     "output_type": "stream",
     "text": [
      "Epoch 214, global step 30529: val_loss was not in top 1\n"
     ]
    },
    {
     "data": {
      "application/vnd.jupyter.widget-view+json": {
       "model_id": "",
       "version_major": 2,
       "version_minor": 0
      },
      "text/plain": [
       "Validating: 0it [00:00, ?it/s]"
      ]
     },
     "metadata": {},
     "output_type": "display_data"
    },
    {
     "name": "stderr",
     "output_type": "stream",
     "text": [
      "Metric val_loss improved by 0.000 >= min_delta = 1e-06. New best score: 0.106\n",
      "Epoch 215, global step 30671: val_loss reached 0.10599 (best 0.10599), saving model to \"/home/ivan/code/uBERTa/models/checkpoints/ws100_step20_AAG_ACG_AGG_ATA_ATC_ATG_ATT_CTG_GTG_TTG_nopretrain_tokenlevel_signal/epoch=215-step=30671.ckpt\" as top 1\n"
     ]
    },
    {
     "data": {
      "application/vnd.jupyter.widget-view+json": {
       "model_id": "",
       "version_major": 2,
       "version_minor": 0
      },
      "text/plain": [
       "Validating: 0it [00:00, ?it/s]"
      ]
     },
     "metadata": {},
     "output_type": "display_data"
    },
    {
     "name": "stderr",
     "output_type": "stream",
     "text": [
      "Epoch 216, global step 30813: val_loss was not in top 1\n",
      "/home/ivan/miniconda3/envs/uberta/lib/python3.8/site-packages/pytorch_lightning/trainer/trainer.py:688: UserWarning: Detected KeyboardInterrupt, attempting graceful shutdown...\n",
      "  rank_zero_warn(\"Detected KeyboardInterrupt, attempting graceful shutdown...\")\n"
     ]
    }
   ],
   "source": [
    "trainer.fit(model, loader)"
   ]
  },
  {
   "cell_type": "markdown",
   "id": "d047020b-9fd4-49cc-9f12-a9712f0f7e8a",
   "metadata": {
    "tags": []
   },
   "source": [
    "## Save the model.\n",
    "\n",
    "Check the checkpoints directory (`../models/checkpoints/{MODEL}`) and put a name of the desired checkpoint file below."
   ]
  },
  {
   "cell_type": "code",
   "execution_count": 21,
   "id": "4252e2a0-9626-41dc-90c9-7fd8a31f18b7",
   "metadata": {},
   "outputs": [],
   "source": [
    "# ckpt = \"epoch=3-step=919.ckpt\"\n",
    "# _model = uBERTa_classifier.load_from_checkpoint(\n",
    "#     f'../models/checkpoints/{MODEL}/{ckpt}', \n",
    "#     model=WeightedDistilBertClassifier2,\n",
    "#     config=config)\n",
    "# _model.model.save_pretrained(MODEL_PATH)"
   ]
  },
  {
   "cell_type": "markdown",
   "id": "d1d2e0c4",
   "metadata": {},
   "source": [
    "- In our case, the model has converged without early stopping, so we save the trained model without the checkpoint restoration"
   ]
  },
  {
   "cell_type": "code",
   "execution_count": 17,
   "id": "20bc40e2",
   "metadata": {
    "collapsed": false,
    "jupyter": {
     "outputs_hidden": false
    }
   },
   "outputs": [],
   "source": [
    "model.model.save_pretrained(MODEL_PATH)"
   ]
  },
  {
   "cell_type": "code",
   "execution_count": 18,
   "id": "0686783d",
   "metadata": {
    "collapsed": false,
    "jupyter": {
     "outputs_hidden": false
    }
   },
   "outputs": [
    {
     "data": {
      "text/plain": [
       "PosixPath('../models/ws100_step20_AAG_ACG_AGG_ATA_ATC_ATG_ATT_CTG_GTG_TTG_nopretrain_tokenlevel_signal')"
      ]
     },
     "execution_count": 18,
     "metadata": {},
     "output_type": "execute_result"
    }
   ],
   "source": [
    "MODEL_PATH"
   ]
  }
 ],
 "metadata": {
  "kernelspec": {
   "display_name": "Python 3 (ipykernel)",
   "language": "python",
   "name": "python3"
  },
  "language_info": {
   "codemirror_mode": {
    "name": "ipython",
    "version": 3
   },
   "file_extension": ".py",
   "mimetype": "text/x-python",
   "name": "python",
   "nbconvert_exporter": "python",
   "pygments_lexer": "ipython3",
   "version": "3.8.12"
  }
 },
 "nbformat": 4,
 "nbformat_minor": 5
}
