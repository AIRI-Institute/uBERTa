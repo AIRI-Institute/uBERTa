{
 "cells": [
  {
   "cell_type": "code",
   "execution_count": 1,
   "metadata": {
    "tags": []
   },
   "outputs": [],
   "source": [
    "import logging\n",
    "from itertools import count\n",
    "from pathlib import Path\n",
    "from uBERTa.datasets_generator import DatasetGenerator"
   ]
  },
  {
   "cell_type": "code",
   "execution_count": 2,
   "metadata": {
    "collapsed": false,
    "jupyter": {
     "outputs_hidden": false
    },
    "pycharm": {
     "name": "#%%\n"
    }
   },
   "outputs": [],
   "source": [
    "# Optionally, turn on logging to see the generation progress\n",
    "logging.basicConfig(level=logging.INFO)"
   ]
  },
  {
   "cell_type": "code",
   "execution_count": 3,
   "metadata": {
    "collapsed": false,
    "jupyter": {
     "outputs_hidden": false
    },
    "pycharm": {
     "name": "#%%\n"
    }
   },
   "outputs": [],
   "source": [
    "# Replace with relevant download paths\n",
    "DS_PATH, REF_PATH = 'DS_BASE.tsv', 'hg38.fa'"
   ]
  },
  {
   "cell_type": "code",
   "execution_count": 4,
   "metadata": {},
   "outputs": [
    {
     "data": {
      "text/plain": [
       "\u001B[0;31mInit signature:\u001B[0m\n",
       "\u001B[0mDatasetGenerator\u001B[0m\u001B[0;34m(\u001B[0m\u001B[0;34m\u001B[0m\n",
       "\u001B[0;34m\u001B[0m    \u001B[0mds_path\u001B[0m\u001B[0;34m:\u001B[0m \u001B[0mpathlib\u001B[0m\u001B[0;34m.\u001B[0m\u001B[0mPath\u001B[0m\u001B[0;34m,\u001B[0m\u001B[0;34m\u001B[0m\n",
       "\u001B[0;34m\u001B[0m    \u001B[0mref_path\u001B[0m\u001B[0;34m:\u001B[0m \u001B[0mpathlib\u001B[0m\u001B[0;34m.\u001B[0m\u001B[0mPath\u001B[0m\u001B[0;34m,\u001B[0m\u001B[0;34m\u001B[0m\n",
       "\u001B[0;34m\u001B[0m    \u001B[0mneg_multiplier\u001B[0m\u001B[0;34m:\u001B[0m \u001B[0mint\u001B[0m\u001B[0;34m,\u001B[0m\u001B[0;34m\u001B[0m\n",
       "\u001B[0;34m\u001B[0m    \u001B[0mneg_fractions\u001B[0m\u001B[0;34m:\u001B[0m \u001B[0mTuple\u001B[0m\u001B[0;34m[\u001B[0m\u001B[0mfloat\u001B[0m\u001B[0;34m,\u001B[0m \u001B[0mfloat\u001B[0m\u001B[0;34m,\u001B[0m \u001B[0mfloat\u001B[0m\u001B[0;34m,\u001B[0m \u001B[0mfloat\u001B[0m\u001B[0;34m]\u001B[0m\u001B[0;34m,\u001B[0m\u001B[0;34m\u001B[0m\n",
       "\u001B[0;34m\u001B[0m    \u001B[0mpos_fractions\u001B[0m\u001B[0;34m:\u001B[0m \u001B[0mTuple\u001B[0m\u001B[0;34m[\u001B[0m\u001B[0mfloat\u001B[0m\u001B[0;34m,\u001B[0m \u001B[0mfloat\u001B[0m\u001B[0;34m,\u001B[0m \u001B[0mfloat\u001B[0m\u001B[0;34m]\u001B[0m \u001B[0;34m=\u001B[0m \u001B[0;34m(\u001B[0m\u001B[0;36m1.0\u001B[0m\u001B[0;34m,\u001B[0m \u001B[0;36m1.0\u001B[0m\u001B[0;34m,\u001B[0m \u001B[0;36m1.0\u001B[0m\u001B[0;34m)\u001B[0m\u001B[0;34m,\u001B[0m\u001B[0;34m\u001B[0m\n",
       "\u001B[0;34m\u001B[0m    \u001B[0mlevel_ts\u001B[0m\u001B[0;34m:\u001B[0m \u001B[0mfloat\u001B[0m \u001B[0;34m=\u001B[0m \u001B[0;36m0\u001B[0m\u001B[0;34m,\u001B[0m\u001B[0;34m\u001B[0m\n",
       "\u001B[0;34m\u001B[0m    \u001B[0mflank_size\u001B[0m\u001B[0;34m:\u001B[0m \u001B[0mint\u001B[0m \u001B[0;34m=\u001B[0m \u001B[0;36m100\u001B[0m\u001B[0;34m,\u001B[0m\u001B[0;34m\u001B[0m\n",
       "\u001B[0;34m\u001B[0m    \u001B[0mkmer_size\u001B[0m\u001B[0;34m:\u001B[0m \u001B[0mOptional\u001B[0m\u001B[0;34m[\u001B[0m\u001B[0mint\u001B[0m\u001B[0;34m]\u001B[0m \u001B[0;34m=\u001B[0m \u001B[0;32mNone\u001B[0m\u001B[0;34m,\u001B[0m\u001B[0;34m\u001B[0m\n",
       "\u001B[0;34m\u001B[0m    \u001B[0mcol_names\u001B[0m\u001B[0;34m:\u001B[0m \u001B[0muBERTa\u001B[0m\u001B[0;34m.\u001B[0m\u001B[0mbase\u001B[0m\u001B[0;34m.\u001B[0m\u001B[0mColNames\u001B[0m \u001B[0;34m=\u001B[0m \u001B[0mColNames\u001B[0m\u001B[0;34m(\u001B[0m\u001B[0mchrom\u001B[0m\u001B[0;34m=\u001B[0m\u001B[0;34m'Chrom'\u001B[0m\u001B[0;34m,\u001B[0m \u001B[0mstart\u001B[0m\u001B[0;34m=\u001B[0m\u001B[0;34m'StartCodonStart'\u001B[0m\u001B[0;34m,\u001B[0m \u001B[0mend\u001B[0m\u001B[0;34m=\u001B[0m\u001B[0;34m'StartCodonEnd'\u001B[0m\u001B[0;34m,\u001B[0m \u001B[0mcodon\u001B[0m\u001B[0;34m=\u001B[0m\u001B[0;34m'StartCodonFetched'\u001B[0m\u001B[0;34m,\u001B[0m \u001B[0mstrand\u001B[0m\u001B[0;34m=\u001B[0m\u001B[0;34m'Strand'\u001B[0m\u001B[0;34m,\u001B[0m \u001B[0mgroup\u001B[0m\u001B[0;34m=\u001B[0m\u001B[0;34m'Group'\u001B[0m\u001B[0;34m,\u001B[0m \u001B[0mlevel\u001B[0m\u001B[0;34m=\u001B[0m\u001B[0;34m'LevelStartCodonStartFetchedAround2'\u001B[0m\u001B[0;34m,\u001B[0m \u001B[0mpositive\u001B[0m\u001B[0;34m=\u001B[0m\u001B[0;34m'IsPositive'\u001B[0m\u001B[0;34m)\u001B[0m\u001B[0;34m,\u001B[0m\u001B[0;34m\u001B[0m\n",
       "\u001B[0;34m\u001B[0m    \u001B[0mdrop_meta\u001B[0m\u001B[0;34m:\u001B[0m \u001B[0mbool\u001B[0m \u001B[0;34m=\u001B[0m \u001B[0;32mFalse\u001B[0m\u001B[0;34m,\u001B[0m\u001B[0;34m\u001B[0m\n",
       "\u001B[0;34m\u001B[0m\u001B[0;34m)\u001B[0m\u001B[0;34m\u001B[0m\u001B[0;34m\u001B[0m\u001B[0m\n",
       "\u001B[0;31mDocstring:\u001B[0m     \n",
       "An interface class to generate (u)ORF datasets.\n",
       "\n",
       "Class is a container for the generation settings.\n",
       "Use case: generate datasets with different examples, but preserving the composition,\n",
       "i.e., the balance between different kinds of positive and negative examples.\n",
       "\n",
       "    1. First, it samples different groups of positive uORFs (u, ma, m).\n",
       "    2. Then, it samples ~same number of negative examples, multiplied by a constant\n",
       "        (e.g., twice more negative than positive).\n",
       "    3. The total number of sampled positive examples is distributed between groups\n",
       "        of negative example types.\n",
       "    4. Within each negative examples' group, it preserves the balance of start codons\n",
       "        found in the sampled positive examples.\n",
       "\n",
       "For example, we want to take all positive examples (denote it as N), and sample 2\n",
       "times more negative ones (2*N), such that there are 0.8 random negative examples\n",
       "centered on start codons of the positive ones (2*N*0.8 in total) and 0.2 negative\n",
       "examples taken from putative uORFs with no experimental signal (2*N*0.2 in total).\n",
       "For all examples we want to take 50 nucleotides around the middle of the start codon.\n",
       "\n",
       ">>> from pathlib import Path\n",
       ">>> ds_path, ref_path = Path('/path/to/dataset'), Path('path/to/ref')\n",
       ">>> datagen = DatasetGenerator(ds_path, ref_path, 2, (0, 0.8, 0.2, 0), flank_size=50)\n",
       ">>> dataset = datagen()\n",
       "\u001B[0;31mInit docstring:\u001B[0m\n",
       ":param ds_path: A path to a dataset with columns with both positive and negative examples\n",
       "    (what we call the \"base\" dataset).\n",
       ":param ref_path: A path to a Fasta reference file of the hg38 assembly of the human genome.\n",
       ":param neg_multiplier: Having N positive examples, generate N times this value negative ones.\n",
       ":param neg_fractions: Fractions of the different types of the negative data examples to\n",
       "    generate, in the following order: (random, random_centered, valid uORF below level,\n",
       "    valid uORF above level). These are explained below:\n",
       "    - \"random\" are completely random element sampled from the genome.\n",
       "    - \"random centered\" -- random elements of the human genome centered at the start codons\n",
       "        of all the positive examples in the base dataset\n",
       "    - \"valid below level\" -- valid potential uORF with the level <= the provided `level_ts`\n",
       "    - \"valid above level\" -- valid potential uORF with the level > the provided `level_ts`\n",
       ":param pos_fractions: Fractions of the positive examples, absolute for each group in the\n",
       "    following order: (\"uORF\", \"maORF\", \"mORF\").\n",
       ":param level_ts: A P-site initiation level threshold to separate \"below\" and \"above level\"\n",
       "    negative examples.\n",
       ":param flank_size: A number of nucleotides to take around the middle\n",
       "    position of the start codon.\n",
       ":param kmer_size: Tokenize sequences into kmers with this size.\n",
       ":param col_names: Column names of the dataset parsed from `ds_path`.\n",
       ":param drop_meta: Leave only two columns: \"Seq\" and \"Class\", drop the rest.\n",
       "\u001B[0;31mFile:\u001B[0m           ~/Projects/uORF/uBERTa/datasets_generator.py\n",
       "\u001B[0;31mType:\u001B[0m           type\n",
       "\u001B[0;31mSubclasses:\u001B[0m     \n"
      ]
     },
     "metadata": {},
     "output_type": "display_data"
    }
   ],
   "source": [
    "?DatasetGenerator"
   ]
  },
  {
   "cell_type": "markdown",
   "metadata": {},
   "source": [
    "- Most of the sampling time is spent on scanning the genome, triplet-wise, starting from a random location, for a particular start codon\n",
    "- The number of \"expected\" negative samples will by slightly higher than the number of actually "
   ]
  },
  {
   "cell_type": "code",
   "execution_count": 5,
   "metadata": {
    "collapsed": false,
    "jupyter": {
     "outputs_hidden": false
    },
    "pycharm": {
     "name": "#%%\n"
    }
   },
   "outputs": [],
   "source": [
    "# Setup the generator\n",
    "dsg = DatasetGenerator(\n",
    "    DS_PATH, REF_PATH, \n",
    "    neg_multiplier=1, \n",
    "    neg_fractions=(\n",
    "        0.0,  # Completely random samples \n",
    "        0.5,  # Random samples centered on start codons\n",
    "        0.5,  # Valid uORFs without experimental support\n",
    "        0.0   # Valid uORFs with experimental support\n",
    "    ),\n",
    "    pos_fractions=(\n",
    "        0.8,  # u samples  (uORF start codons)\n",
    "        0.8,  # ma samples (alternative start codons)\n",
    "        0.5   # m samples  (CDS start codons)\n",
    "    ),\n",
    "    flank_size=200\n",
    ")\n",
    "\n",
    "# Infinite ds generator with the given params\n",
    "gen = (dsg() for _ in count())"
   ]
  },
  {
   "cell_type": "code",
   "execution_count": 6,
   "metadata": {},
   "outputs": [
    {
     "name": "stderr",
     "output_type": "stream",
     "text": [
      "INFO:uBERTa.datasets_generator:Obtained a dataset with 830191 records\n",
      "INFO:uBERTa.datasets_generator:Found 7426 positive and 822765 negative records\n",
      "INFO:uBERTa.datasets_generator:Will sample 3680=4600 * 0.8 positive examples of group u\n",
      "INFO:uBERTa.datasets_generator:Will sample 388=485 * 0.8 positive examples of group ma\n",
      "INFO:uBERTa.datasets_generator:Will sample 1170=2341 * 0.5 positive examples of group m\n",
      "INFO:uBERTa.datasets_generator:Sampled 5238 positive examples\n",
      "INFO:uBERTa.datasets_generator:Expecting around 5238 total negative examples\n",
      "INFO:uBERTa.datasets_generator:Num samples after the per-codon correction: 5232\n",
      "INFO:uBERTa.datasets_generator:Found 1147 codons ATG\n",
      "INFO:uBERTa.datasets_generator:Found 752 codons CTG\n",
      "INFO:uBERTa.datasets_generator:Found 288 codons GTG\n",
      "INFO:uBERTa.datasets_generator:Found 143 codons ACG\n",
      "INFO:uBERTa.datasets_generator:Found 131 codons TTG\n",
      "INFO:uBERTa.datasets_generator:Found 72 codons ATC\n",
      "INFO:uBERTa.datasets_generator:Found 63 codons ATT\n",
      "INFO:uBERTa.datasets_generator:Found 20 codons ATA\n",
      "INFO:uBERTa.datasets_generator:Sampled 2616 random start codons\n",
      "INFO:uBERTa.datasets_generator:Found 52725 records with codon ATG and max level 0\n",
      "INFO:uBERTa.datasets_generator:Sampled 1147 samples with codon ATG and max level 0\n",
      "INFO:uBERTa.datasets_generator:Found 144073 records with codon CTG and max level 0\n",
      "INFO:uBERTa.datasets_generator:Sampled 752 samples with codon CTG and max level 0\n",
      "INFO:uBERTa.datasets_generator:Found 94857 records with codon GTG and max level 0\n",
      "INFO:uBERTa.datasets_generator:Sampled 288 samples with codon GTG and max level 0\n",
      "INFO:uBERTa.datasets_generator:Found 28453 records with codon ACG and max level 0\n",
      "INFO:uBERTa.datasets_generator:Sampled 143 samples with codon ACG and max level 0\n",
      "INFO:uBERTa.datasets_generator:Found 83214 records with codon TTG and max level 0\n",
      "INFO:uBERTa.datasets_generator:Sampled 131 samples with codon TTG and max level 0\n",
      "INFO:uBERTa.datasets_generator:Found 52106 records with codon ATC and max level 0\n",
      "INFO:uBERTa.datasets_generator:Sampled 72 samples with codon ATC and max level 0\n",
      "INFO:uBERTa.datasets_generator:Found 69727 records with codon ATT and max level 0\n",
      "INFO:uBERTa.datasets_generator:Sampled 63 samples with codon ATT and max level 0\n",
      "INFO:uBERTa.datasets_generator:Found 43160 records with codon ATA and max level 0\n",
      "INFO:uBERTa.datasets_generator:Sampled 20 samples with codon ATA and max level 0\n",
      "INFO:uBERTa.datasets_generator:Sampled 2616 with level <= 0\n",
      "INFO:uBERTa.datasets_generator:Sampled 0 with level > 0.01\n",
      "INFO:uBERTa.datasets_generator:Sampled 5232 negative examples\n",
      "INFO:uBERTa.datasets_generator:Concatenated into 10470 total samples\n"
     ]
    },
    {
     "data": {
      "application/vnd.jupyter.widget-view+json": {
       "model_id": "d7f848e7685142b8854772e26d33a2e6",
       "version_major": 2,
       "version_minor": 0
      },
      "text/plain": [
       "Fetching seqs:   0%|          | 0/10470 [00:00<?, ?it/s]"
      ]
     },
     "metadata": {},
     "output_type": "display_data"
    },
    {
     "name": "stdout",
     "output_type": "stream",
     "text": [
      "CPU times: user 10.4 s, sys: 3.36 s, total: 13.8 s\n",
      "Wall time: 13.7 s\n"
     ]
    },
    {
     "data": {
      "text/html": [
       "<div>\n",
       "<style scoped>\n",
       "    .dataframe tbody tr th:only-of-type {\n",
       "        vertical-align: middle;\n",
       "    }\n",
       "\n",
       "    .dataframe tbody tr th {\n",
       "        vertical-align: top;\n",
       "    }\n",
       "\n",
       "    .dataframe thead th {\n",
       "        text-align: right;\n",
       "    }\n",
       "</style>\n",
       "<table border=\"1\" class=\"dataframe\">\n",
       "  <thead>\n",
       "    <tr style=\"text-align: right;\">\n",
       "      <th></th>\n",
       "      <th>Chrom</th>\n",
       "      <th>StartCodonStart</th>\n",
       "      <th>Strand</th>\n",
       "      <th>IsPositive</th>\n",
       "      <th>Seq</th>\n",
       "    </tr>\n",
       "  </thead>\n",
       "  <tbody>\n",
       "    <tr>\n",
       "      <th>0</th>\n",
       "      <td>chr5</td>\n",
       "      <td>36877057</td>\n",
       "      <td>+</td>\n",
       "      <td>1</td>\n",
       "      <td>GACTCACCCGACACCACCAAGCCGCAGGGAGGGACGCCCCCGCCGA...</td>\n",
       "    </tr>\n",
       "    <tr>\n",
       "      <th>1</th>\n",
       "      <td>chr20</td>\n",
       "      <td>10420750</td>\n",
       "      <td>-</td>\n",
       "      <td>1</td>\n",
       "      <td>CTGCCTGCTCCCTTTGGGTCAATGACATGTCTCTTTTTGTTTATTA...</td>\n",
       "    </tr>\n",
       "    <tr>\n",
       "      <th>2</th>\n",
       "      <td>chr13</td>\n",
       "      <td>102846126</td>\n",
       "      <td>+</td>\n",
       "      <td>1</td>\n",
       "      <td>TGCACCCCGGTCTTCCATTAGCGGCGCAGACGTTTGGGCCTAAGCG...</td>\n",
       "    </tr>\n",
       "    <tr>\n",
       "      <th>3</th>\n",
       "      <td>chr4</td>\n",
       "      <td>139454129</td>\n",
       "      <td>+</td>\n",
       "      <td>1</td>\n",
       "      <td>CTAGGTAGACCGGCGCCAGCCCGAGTGACGCCTGGCGTGTGGCCGC...</td>\n",
       "    </tr>\n",
       "    <tr>\n",
       "      <th>4</th>\n",
       "      <td>chr19</td>\n",
       "      <td>7522635</td>\n",
       "      <td>+</td>\n",
       "      <td>1</td>\n",
       "      <td>CAGAGTCAGCCCATCCCCCGCCACCCAGAGCGCGTCGGCGCTAGGA...</td>\n",
       "    </tr>\n",
       "  </tbody>\n",
       "</table>\n",
       "</div>"
      ],
      "text/plain": [
       "   Chrom  StartCodonStart Strand  IsPositive  \\\n",
       "0   chr5         36877057      +           1   \n",
       "1  chr20         10420750      -           1   \n",
       "2  chr13        102846126      +           1   \n",
       "3   chr4        139454129      +           1   \n",
       "4  chr19          7522635      +           1   \n",
       "\n",
       "                                                 Seq  \n",
       "0  GACTCACCCGACACCACCAAGCCGCAGGGAGGGACGCCCCCGCCGA...  \n",
       "1  CTGCCTGCTCCCTTTGGGTCAATGACATGTCTCTTTTTGTTTATTA...  \n",
       "2  TGCACCCCGGTCTTCCATTAGCGGCGCAGACGTTTGGGCCTAAGCG...  \n",
       "3  CTAGGTAGACCGGCGCCAGCCCGAGTGACGCCTGGCGTGTGGCCGC...  \n",
       "4  CAGAGTCAGCCCATCCCCCGCCACCCAGAGCGCGTCGGCGCTAGGA...  "
      ]
     },
     "execution_count": 6,
     "metadata": {},
     "output_type": "execute_result"
    }
   ],
   "source": [
    "%%time\n",
    "next(gen).head()"
   ]
  },
  {
   "cell_type": "code",
   "execution_count": 7,
   "metadata": {},
   "outputs": [
    {
     "name": "stderr",
     "output_type": "stream",
     "text": [
      "INFO:uBERTa.datasets_generator:Obtained a dataset with 830191 records\n",
      "INFO:uBERTa.datasets_generator:Found 7426 positive and 822765 negative records\n",
      "INFO:uBERTa.datasets_generator:Will sample 3680=4600 * 0.8 positive examples of group u\n",
      "INFO:uBERTa.datasets_generator:Will sample 388=485 * 0.8 positive examples of group ma\n",
      "INFO:uBERTa.datasets_generator:Will sample 1170=2341 * 0.5 positive examples of group m\n",
      "INFO:uBERTa.datasets_generator:Sampled 5238 positive examples\n",
      "INFO:uBERTa.datasets_generator:Expecting around 5238 total negative examples\n",
      "INFO:uBERTa.datasets_generator:Num samples after the per-codon correction: 5234\n",
      "INFO:uBERTa.datasets_generator:Found 1158 codons ATG\n",
      "INFO:uBERTa.datasets_generator:Found 736 codons CTG\n",
      "INFO:uBERTa.datasets_generator:Found 281 codons GTG\n",
      "INFO:uBERTa.datasets_generator:Found 146 codons ACG\n",
      "INFO:uBERTa.datasets_generator:Found 141 codons TTG\n",
      "INFO:uBERTa.datasets_generator:Found 73 codons ATC\n",
      "INFO:uBERTa.datasets_generator:Found 63 codons ATT\n",
      "INFO:uBERTa.datasets_generator:Found 19 codons ATA\n",
      "INFO:uBERTa.datasets_generator:Sampled 2617 random start codons\n",
      "INFO:uBERTa.datasets_generator:Found 52725 records with codon ATG and max level 0\n",
      "INFO:uBERTa.datasets_generator:Sampled 1158 samples with codon ATG and max level 0\n",
      "INFO:uBERTa.datasets_generator:Found 144073 records with codon CTG and max level 0\n",
      "INFO:uBERTa.datasets_generator:Sampled 736 samples with codon CTG and max level 0\n",
      "INFO:uBERTa.datasets_generator:Found 94857 records with codon GTG and max level 0\n",
      "INFO:uBERTa.datasets_generator:Sampled 281 samples with codon GTG and max level 0\n",
      "INFO:uBERTa.datasets_generator:Found 28453 records with codon ACG and max level 0\n",
      "INFO:uBERTa.datasets_generator:Sampled 146 samples with codon ACG and max level 0\n",
      "INFO:uBERTa.datasets_generator:Found 83214 records with codon TTG and max level 0\n",
      "INFO:uBERTa.datasets_generator:Sampled 141 samples with codon TTG and max level 0\n",
      "INFO:uBERTa.datasets_generator:Found 52106 records with codon ATC and max level 0\n",
      "INFO:uBERTa.datasets_generator:Sampled 73 samples with codon ATC and max level 0\n",
      "INFO:uBERTa.datasets_generator:Found 69727 records with codon ATT and max level 0\n",
      "INFO:uBERTa.datasets_generator:Sampled 63 samples with codon ATT and max level 0\n",
      "INFO:uBERTa.datasets_generator:Found 43160 records with codon ATA and max level 0\n",
      "INFO:uBERTa.datasets_generator:Sampled 19 samples with codon ATA and max level 0\n",
      "INFO:uBERTa.datasets_generator:Sampled 2617 with level <= 0\n",
      "INFO:uBERTa.datasets_generator:Sampled 0 with level > 0.01\n",
      "INFO:uBERTa.datasets_generator:Sampled 5234 negative examples\n",
      "INFO:uBERTa.datasets_generator:Concatenated into 10472 total samples\n"
     ]
    },
    {
     "data": {
      "application/vnd.jupyter.widget-view+json": {
       "model_id": "eab4b5183d05444da90cfcdc754f0892",
       "version_major": 2,
       "version_minor": 0
      },
      "text/plain": [
       "Fetching seqs:   0%|          | 0/10472 [00:00<?, ?it/s]"
      ]
     },
     "metadata": {},
     "output_type": "display_data"
    },
    {
     "data": {
      "text/html": [
       "<div>\n",
       "<style scoped>\n",
       "    .dataframe tbody tr th:only-of-type {\n",
       "        vertical-align: middle;\n",
       "    }\n",
       "\n",
       "    .dataframe tbody tr th {\n",
       "        vertical-align: top;\n",
       "    }\n",
       "\n",
       "    .dataframe thead th {\n",
       "        text-align: right;\n",
       "    }\n",
       "</style>\n",
       "<table border=\"1\" class=\"dataframe\">\n",
       "  <thead>\n",
       "    <tr style=\"text-align: right;\">\n",
       "      <th></th>\n",
       "      <th>Seq</th>\n",
       "      <th>IsPositive</th>\n",
       "    </tr>\n",
       "  </thead>\n",
       "  <tbody>\n",
       "    <tr>\n",
       "      <th>0</th>\n",
       "      <td>AGCTCGGAAGACCGCGAGGCGCGCTTTTCTGACGCATCGGCGCCTT...</td>\n",
       "      <td>1</td>\n",
       "    </tr>\n",
       "    <tr>\n",
       "      <th>1</th>\n",
       "      <td>GCGTCCTCCTGCCGGCCTGCAGGCCCGGGGCCTCCGCCTGCTTCCC...</td>\n",
       "      <td>1</td>\n",
       "    </tr>\n",
       "    <tr>\n",
       "      <th>2</th>\n",
       "      <td>GGCTAATTCCGAATTCCAAATCGGAAGCAAGAGGGCGGGGCCCCGT...</td>\n",
       "      <td>1</td>\n",
       "    </tr>\n",
       "    <tr>\n",
       "      <th>3</th>\n",
       "      <td>GCTCGTGGACTAGCTCCGCCTCCTAGCGTCTGACTACCCCCTCAGC...</td>\n",
       "      <td>1</td>\n",
       "    </tr>\n",
       "    <tr>\n",
       "      <th>4</th>\n",
       "      <td>CTGCAGGTACGCGCGGGCCGGGCGGGGCGGGCGGGCGGCGGGCGCG...</td>\n",
       "      <td>1</td>\n",
       "    </tr>\n",
       "  </tbody>\n",
       "</table>\n",
       "</div>"
      ],
      "text/plain": [
       "                                                 Seq  IsPositive\n",
       "0  AGCTCGGAAGACCGCGAGGCGCGCTTTTCTGACGCATCGGCGCCTT...           1\n",
       "1  GCGTCCTCCTGCCGGCCTGCAGGCCCGGGGCCTCCGCCTGCTTCCC...           1\n",
       "2  GGCTAATTCCGAATTCCAAATCGGAAGCAAGAGGGCGGGGCCCCGT...           1\n",
       "3  GCTCGTGGACTAGCTCCGCCTCCTAGCGTCTGACTACCCCCTCAGC...           1\n",
       "4  CTGCAGGTACGCGCGGGCCGGGCGGGGCGGGCGGGCGGCGGGCGCG...           1"
      ]
     },
     "execution_count": 7,
     "metadata": {},
     "output_type": "execute_result"
    }
   ],
   "source": [
    "dsg.drop_meta = True\n",
    "dsg().head()"
   ]
  },
  {
   "cell_type": "code",
   "execution_count": 8,
   "metadata": {},
   "outputs": [
    {
     "name": "stderr",
     "output_type": "stream",
     "text": [
      "INFO:uBERTa.datasets_generator:Obtained a dataset with 830191 records\n",
      "INFO:uBERTa.datasets_generator:Found 7426 positive and 822765 negative records\n",
      "INFO:uBERTa.datasets_generator:Will sample 3680=4600 * 0.8 positive examples of group u\n",
      "INFO:uBERTa.datasets_generator:Will sample 388=485 * 0.8 positive examples of group ma\n",
      "INFO:uBERTa.datasets_generator:Will sample 1170=2341 * 0.5 positive examples of group m\n",
      "INFO:uBERTa.datasets_generator:Sampled 5238 positive examples\n",
      "INFO:uBERTa.datasets_generator:Expecting around 5238 total negative examples\n",
      "INFO:uBERTa.datasets_generator:Num samples after the per-codon correction: 5236\n",
      "INFO:uBERTa.datasets_generator:Found 1141 codons ATG\n",
      "INFO:uBERTa.datasets_generator:Found 752 codons CTG\n",
      "INFO:uBERTa.datasets_generator:Found 289 codons GTG\n",
      "INFO:uBERTa.datasets_generator:Found 140 codons TTG\n",
      "INFO:uBERTa.datasets_generator:Found 137 codons ACG\n",
      "INFO:uBERTa.datasets_generator:Found 71 codons ATC\n",
      "INFO:uBERTa.datasets_generator:Found 68 codons ATT\n",
      "INFO:uBERTa.datasets_generator:Found 20 codons ATA\n",
      "INFO:uBERTa.datasets_generator:Sampled 2618 random start codons\n",
      "INFO:uBERTa.datasets_generator:Found 52725 records with codon ATG and max level 0\n",
      "INFO:uBERTa.datasets_generator:Sampled 1141 samples with codon ATG and max level 0\n",
      "INFO:uBERTa.datasets_generator:Found 144073 records with codon CTG and max level 0\n",
      "INFO:uBERTa.datasets_generator:Sampled 752 samples with codon CTG and max level 0\n",
      "INFO:uBERTa.datasets_generator:Found 94857 records with codon GTG and max level 0\n",
      "INFO:uBERTa.datasets_generator:Sampled 289 samples with codon GTG and max level 0\n",
      "INFO:uBERTa.datasets_generator:Found 83214 records with codon TTG and max level 0\n",
      "INFO:uBERTa.datasets_generator:Sampled 140 samples with codon TTG and max level 0\n",
      "INFO:uBERTa.datasets_generator:Found 28453 records with codon ACG and max level 0\n",
      "INFO:uBERTa.datasets_generator:Sampled 137 samples with codon ACG and max level 0\n",
      "INFO:uBERTa.datasets_generator:Found 52106 records with codon ATC and max level 0\n",
      "INFO:uBERTa.datasets_generator:Sampled 71 samples with codon ATC and max level 0\n",
      "INFO:uBERTa.datasets_generator:Found 69727 records with codon ATT and max level 0\n",
      "INFO:uBERTa.datasets_generator:Sampled 68 samples with codon ATT and max level 0\n",
      "INFO:uBERTa.datasets_generator:Found 43160 records with codon ATA and max level 0\n",
      "INFO:uBERTa.datasets_generator:Sampled 20 samples with codon ATA and max level 0\n",
      "INFO:uBERTa.datasets_generator:Sampled 2618 with level <= 0\n",
      "INFO:uBERTa.datasets_generator:Sampled 0 with level > 0.01\n",
      "INFO:uBERTa.datasets_generator:Sampled 5236 negative examples\n",
      "INFO:uBERTa.datasets_generator:Concatenated into 10474 total samples\n"
     ]
    },
    {
     "data": {
      "application/vnd.jupyter.widget-view+json": {
       "model_id": "99f5eab624f048a98959464f6a72b009",
       "version_major": 2,
       "version_minor": 0
      },
      "text/plain": [
       "Fetching seqs:   0%|          | 0/10474 [00:00<?, ?it/s]"
      ]
     },
     "metadata": {},
     "output_type": "display_data"
    },
    {
     "data": {
      "text/html": [
       "<div>\n",
       "<style scoped>\n",
       "    .dataframe tbody tr th:only-of-type {\n",
       "        vertical-align: middle;\n",
       "    }\n",
       "\n",
       "    .dataframe tbody tr th {\n",
       "        vertical-align: top;\n",
       "    }\n",
       "\n",
       "    .dataframe thead th {\n",
       "        text-align: right;\n",
       "    }\n",
       "</style>\n",
       "<table border=\"1\" class=\"dataframe\">\n",
       "  <thead>\n",
       "    <tr style=\"text-align: right;\">\n",
       "      <th></th>\n",
       "      <th>Seq</th>\n",
       "      <th>IsPositive</th>\n",
       "    </tr>\n",
       "  </thead>\n",
       "  <tbody>\n",
       "    <tr>\n",
       "      <th>0</th>\n",
       "      <td>GAGCGT AGCGTT GCGTTG CGTTGC GTTGCG TTGCGG TGCG...</td>\n",
       "      <td>1</td>\n",
       "    </tr>\n",
       "    <tr>\n",
       "      <th>1</th>\n",
       "      <td>CCGGGG CGGGGC GGGGCT GGGCTA GGCTAC GCTACA CTAC...</td>\n",
       "      <td>1</td>\n",
       "    </tr>\n",
       "    <tr>\n",
       "      <th>2</th>\n",
       "      <td>AGTGTT GTGTTT TGTTTG GTTTGT TTTGTT TTGTTA TGTT...</td>\n",
       "      <td>1</td>\n",
       "    </tr>\n",
       "    <tr>\n",
       "      <th>3</th>\n",
       "      <td>ACTCCC CTCCCA TCCCAC CCCACC CCACCG CACCGA ACCG...</td>\n",
       "      <td>1</td>\n",
       "    </tr>\n",
       "    <tr>\n",
       "      <th>4</th>\n",
       "      <td>GGCTGA GCTGAA CTGAAT TGAATC GAATCG AATCGC ATCG...</td>\n",
       "      <td>1</td>\n",
       "    </tr>\n",
       "  </tbody>\n",
       "</table>\n",
       "</div>"
      ],
      "text/plain": [
       "                                                 Seq  IsPositive\n",
       "0  GAGCGT AGCGTT GCGTTG CGTTGC GTTGCG TTGCGG TGCG...           1\n",
       "1  CCGGGG CGGGGC GGGGCT GGGCTA GGCTAC GCTACA CTAC...           1\n",
       "2  AGTGTT GTGTTT TGTTTG GTTTGT TTTGTT TTGTTA TGTT...           1\n",
       "3  ACTCCC CTCCCA TCCCAC CCCACC CCACCG CACCGA ACCG...           1\n",
       "4  GGCTGA GCTGAA CTGAAT TGAATC GAATCG AATCGC ATCG...           1"
      ]
     },
     "execution_count": 8,
     "metadata": {},
     "output_type": "execute_result"
    }
   ],
   "source": [
    "dsg.kmer_size = 6\n",
    "dsg().head()"
   ]
  }
 ],
 "metadata": {
  "kernelspec": {
   "display_name": "Python 3 (ipykernel)",
   "language": "python",
   "name": "python3"
  },
  "language_info": {
   "codemirror_mode": {
    "name": "ipython",
    "version": 3
   },
   "file_extension": ".py",
   "mimetype": "text/x-python",
   "name": "python",
   "nbconvert_exporter": "python",
   "pygments_lexer": "ipython3",
   "version": "3.9.7"
  }
 },
 "nbformat": 4,
 "nbformat_minor": 4
}